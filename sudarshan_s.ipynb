{
 "cells": [
  {
   "cell_type": "markdown",
   "id": "1b80c454",
   "metadata": {},
   "source": [
    "# 1.Importing Libs and Loading Data Into DataFrame"
   ]
  },
  {
   "cell_type": "code",
   "execution_count": 1,
   "id": "aff12ea0",
   "metadata": {},
   "outputs": [],
   "source": [
    "# import all necessary libraries\n",
    "import numpy as np\n",
    "import pandas as pd\n",
    "import matplotlib.pyplot as plt\n",
    "import seaborn as sns\n",
    "#### disable warnings\n",
    "import warnings\n",
    "warnings.filterwarnings('ignore')"
   ]
  },
  {
   "cell_type": "code",
   "execution_count": 2,
   "id": "5442e665",
   "metadata": {},
   "outputs": [],
   "source": [
    "# reading the csv data\n",
    "loanDf = pd.read_csv(\"datas/loan.csv\")"
   ]
  },
  {
   "cell_type": "code",
   "execution_count": 3,
   "id": "bcf1be9e",
   "metadata": {},
   "outputs": [
    {
     "data": {
      "text/html": [
       "<div>\n",
       "<style scoped>\n",
       "    .dataframe tbody tr th:only-of-type {\n",
       "        vertical-align: middle;\n",
       "    }\n",
       "\n",
       "    .dataframe tbody tr th {\n",
       "        vertical-align: top;\n",
       "    }\n",
       "\n",
       "    .dataframe thead th {\n",
       "        text-align: right;\n",
       "    }\n",
       "</style>\n",
       "<table border=\"1\" class=\"dataframe\">\n",
       "  <thead>\n",
       "    <tr style=\"text-align: right;\">\n",
       "      <th></th>\n",
       "      <th>id</th>\n",
       "      <th>member_id</th>\n",
       "      <th>loan_amnt</th>\n",
       "      <th>funded_amnt</th>\n",
       "      <th>funded_amnt_inv</th>\n",
       "      <th>term</th>\n",
       "      <th>int_rate</th>\n",
       "      <th>installment</th>\n",
       "      <th>grade</th>\n",
       "      <th>sub_grade</th>\n",
       "      <th>...</th>\n",
       "      <th>num_tl_90g_dpd_24m</th>\n",
       "      <th>num_tl_op_past_12m</th>\n",
       "      <th>pct_tl_nvr_dlq</th>\n",
       "      <th>percent_bc_gt_75</th>\n",
       "      <th>pub_rec_bankruptcies</th>\n",
       "      <th>tax_liens</th>\n",
       "      <th>tot_hi_cred_lim</th>\n",
       "      <th>total_bal_ex_mort</th>\n",
       "      <th>total_bc_limit</th>\n",
       "      <th>total_il_high_credit_limit</th>\n",
       "    </tr>\n",
       "  </thead>\n",
       "  <tbody>\n",
       "    <tr>\n",
       "      <th>0</th>\n",
       "      <td>1077501</td>\n",
       "      <td>1296599</td>\n",
       "      <td>5000</td>\n",
       "      <td>5000</td>\n",
       "      <td>4975.0</td>\n",
       "      <td>36 months</td>\n",
       "      <td>10.65%</td>\n",
       "      <td>162.87</td>\n",
       "      <td>B</td>\n",
       "      <td>B2</td>\n",
       "      <td>...</td>\n",
       "      <td>NaN</td>\n",
       "      <td>NaN</td>\n",
       "      <td>NaN</td>\n",
       "      <td>NaN</td>\n",
       "      <td>0.0</td>\n",
       "      <td>0.0</td>\n",
       "      <td>NaN</td>\n",
       "      <td>NaN</td>\n",
       "      <td>NaN</td>\n",
       "      <td>NaN</td>\n",
       "    </tr>\n",
       "    <tr>\n",
       "      <th>1</th>\n",
       "      <td>1077430</td>\n",
       "      <td>1314167</td>\n",
       "      <td>2500</td>\n",
       "      <td>2500</td>\n",
       "      <td>2500.0</td>\n",
       "      <td>60 months</td>\n",
       "      <td>15.27%</td>\n",
       "      <td>59.83</td>\n",
       "      <td>C</td>\n",
       "      <td>C4</td>\n",
       "      <td>...</td>\n",
       "      <td>NaN</td>\n",
       "      <td>NaN</td>\n",
       "      <td>NaN</td>\n",
       "      <td>NaN</td>\n",
       "      <td>0.0</td>\n",
       "      <td>0.0</td>\n",
       "      <td>NaN</td>\n",
       "      <td>NaN</td>\n",
       "      <td>NaN</td>\n",
       "      <td>NaN</td>\n",
       "    </tr>\n",
       "    <tr>\n",
       "      <th>2</th>\n",
       "      <td>1077175</td>\n",
       "      <td>1313524</td>\n",
       "      <td>2400</td>\n",
       "      <td>2400</td>\n",
       "      <td>2400.0</td>\n",
       "      <td>36 months</td>\n",
       "      <td>15.96%</td>\n",
       "      <td>84.33</td>\n",
       "      <td>C</td>\n",
       "      <td>C5</td>\n",
       "      <td>...</td>\n",
       "      <td>NaN</td>\n",
       "      <td>NaN</td>\n",
       "      <td>NaN</td>\n",
       "      <td>NaN</td>\n",
       "      <td>0.0</td>\n",
       "      <td>0.0</td>\n",
       "      <td>NaN</td>\n",
       "      <td>NaN</td>\n",
       "      <td>NaN</td>\n",
       "      <td>NaN</td>\n",
       "    </tr>\n",
       "    <tr>\n",
       "      <th>3</th>\n",
       "      <td>1076863</td>\n",
       "      <td>1277178</td>\n",
       "      <td>10000</td>\n",
       "      <td>10000</td>\n",
       "      <td>10000.0</td>\n",
       "      <td>36 months</td>\n",
       "      <td>13.49%</td>\n",
       "      <td>339.31</td>\n",
       "      <td>C</td>\n",
       "      <td>C1</td>\n",
       "      <td>...</td>\n",
       "      <td>NaN</td>\n",
       "      <td>NaN</td>\n",
       "      <td>NaN</td>\n",
       "      <td>NaN</td>\n",
       "      <td>0.0</td>\n",
       "      <td>0.0</td>\n",
       "      <td>NaN</td>\n",
       "      <td>NaN</td>\n",
       "      <td>NaN</td>\n",
       "      <td>NaN</td>\n",
       "    </tr>\n",
       "    <tr>\n",
       "      <th>4</th>\n",
       "      <td>1075358</td>\n",
       "      <td>1311748</td>\n",
       "      <td>3000</td>\n",
       "      <td>3000</td>\n",
       "      <td>3000.0</td>\n",
       "      <td>60 months</td>\n",
       "      <td>12.69%</td>\n",
       "      <td>67.79</td>\n",
       "      <td>B</td>\n",
       "      <td>B5</td>\n",
       "      <td>...</td>\n",
       "      <td>NaN</td>\n",
       "      <td>NaN</td>\n",
       "      <td>NaN</td>\n",
       "      <td>NaN</td>\n",
       "      <td>0.0</td>\n",
       "      <td>0.0</td>\n",
       "      <td>NaN</td>\n",
       "      <td>NaN</td>\n",
       "      <td>NaN</td>\n",
       "      <td>NaN</td>\n",
       "    </tr>\n",
       "  </tbody>\n",
       "</table>\n",
       "<p>5 rows × 111 columns</p>\n",
       "</div>"
      ],
      "text/plain": [
       "        id  member_id  loan_amnt  funded_amnt  funded_amnt_inv        term  \\\n",
       "0  1077501    1296599       5000         5000           4975.0   36 months   \n",
       "1  1077430    1314167       2500         2500           2500.0   60 months   \n",
       "2  1077175    1313524       2400         2400           2400.0   36 months   \n",
       "3  1076863    1277178      10000        10000          10000.0   36 months   \n",
       "4  1075358    1311748       3000         3000           3000.0   60 months   \n",
       "\n",
       "  int_rate  installment grade sub_grade  ... num_tl_90g_dpd_24m  \\\n",
       "0   10.65%       162.87     B        B2  ...                NaN   \n",
       "1   15.27%        59.83     C        C4  ...                NaN   \n",
       "2   15.96%        84.33     C        C5  ...                NaN   \n",
       "3   13.49%       339.31     C        C1  ...                NaN   \n",
       "4   12.69%        67.79     B        B5  ...                NaN   \n",
       "\n",
       "  num_tl_op_past_12m pct_tl_nvr_dlq  percent_bc_gt_75 pub_rec_bankruptcies  \\\n",
       "0                NaN            NaN               NaN                  0.0   \n",
       "1                NaN            NaN               NaN                  0.0   \n",
       "2                NaN            NaN               NaN                  0.0   \n",
       "3                NaN            NaN               NaN                  0.0   \n",
       "4                NaN            NaN               NaN                  0.0   \n",
       "\n",
       "  tax_liens tot_hi_cred_lim total_bal_ex_mort total_bc_limit  \\\n",
       "0       0.0             NaN               NaN            NaN   \n",
       "1       0.0             NaN               NaN            NaN   \n",
       "2       0.0             NaN               NaN            NaN   \n",
       "3       0.0             NaN               NaN            NaN   \n",
       "4       0.0             NaN               NaN            NaN   \n",
       "\n",
       "  total_il_high_credit_limit  \n",
       "0                        NaN  \n",
       "1                        NaN  \n",
       "2                        NaN  \n",
       "3                        NaN  \n",
       "4                        NaN  \n",
       "\n",
       "[5 rows x 111 columns]"
      ]
     },
     "execution_count": 3,
     "metadata": {},
     "output_type": "execute_result"
    }
   ],
   "source": [
    "##### peaking the head data to get a birds eye read\n",
    "loanDf.head()"
   ]
  },
  {
   "cell_type": "code",
   "execution_count": 4,
   "id": "6503b03c",
   "metadata": {},
   "outputs": [
    {
     "data": {
      "text/plain": [
       "(39717, 111)"
      ]
     },
     "execution_count": 4,
     "metadata": {},
     "output_type": "execute_result"
    }
   ],
   "source": [
    "#### lets get the shape of the Data Frame\n",
    "loanDf.shape"
   ]
  },
  {
   "cell_type": "markdown",
   "id": "c0c18209",
   "metadata": {},
   "source": [
    "# 2.Data Cleaning"
   ]
  },
  {
   "cell_type": "markdown",
   "id": "21223863",
   "metadata": {},
   "source": [
    "#### Lets find how many null values are present in each of the columns in the dataframe\n"
   ]
  },
  {
   "cell_type": "code",
   "execution_count": 5,
   "id": "734b25a1",
   "metadata": {},
   "outputs": [
    {
     "data": {
      "text/plain": [
       "id                                0\n",
       "member_id                         0\n",
       "loan_amnt                         0\n",
       "funded_amnt                       0\n",
       "funded_amnt_inv                   0\n",
       "                              ...  \n",
       "tax_liens                        39\n",
       "tot_hi_cred_lim               39717\n",
       "total_bal_ex_mort             39717\n",
       "total_bc_limit                39717\n",
       "total_il_high_credit_limit    39717\n",
       "Length: 111, dtype: int64"
      ]
     },
     "execution_count": 5,
     "metadata": {},
     "output_type": "execute_result"
    }
   ],
   "source": [
    "loanDf.isnull().sum()"
   ]
  },
  {
   "cell_type": "markdown",
   "id": "69b424e7",
   "metadata": {},
   "source": [
    "#### 39717 is the total number of rows in loan data frame so no point in having a column with all null values \n",
    "#### Lets remove all the columns where all the rows are null"
   ]
  },
  {
   "cell_type": "code",
   "execution_count": 6,
   "id": "1228c0e0",
   "metadata": {},
   "outputs": [
    {
     "data": {
      "text/html": [
       "<div>\n",
       "<style scoped>\n",
       "    .dataframe tbody tr th:only-of-type {\n",
       "        vertical-align: middle;\n",
       "    }\n",
       "\n",
       "    .dataframe tbody tr th {\n",
       "        vertical-align: top;\n",
       "    }\n",
       "\n",
       "    .dataframe thead th {\n",
       "        text-align: right;\n",
       "    }\n",
       "</style>\n",
       "<table border=\"1\" class=\"dataframe\">\n",
       "  <thead>\n",
       "    <tr style=\"text-align: right;\">\n",
       "      <th></th>\n",
       "      <th>id</th>\n",
       "      <th>member_id</th>\n",
       "      <th>loan_amnt</th>\n",
       "      <th>funded_amnt</th>\n",
       "      <th>funded_amnt_inv</th>\n",
       "      <th>term</th>\n",
       "      <th>int_rate</th>\n",
       "      <th>installment</th>\n",
       "      <th>grade</th>\n",
       "      <th>sub_grade</th>\n",
       "      <th>...</th>\n",
       "      <th>next_pymnt_d</th>\n",
       "      <th>last_credit_pull_d</th>\n",
       "      <th>collections_12_mths_ex_med</th>\n",
       "      <th>policy_code</th>\n",
       "      <th>application_type</th>\n",
       "      <th>acc_now_delinq</th>\n",
       "      <th>chargeoff_within_12_mths</th>\n",
       "      <th>delinq_amnt</th>\n",
       "      <th>pub_rec_bankruptcies</th>\n",
       "      <th>tax_liens</th>\n",
       "    </tr>\n",
       "  </thead>\n",
       "  <tbody>\n",
       "    <tr>\n",
       "      <th>0</th>\n",
       "      <td>1077501</td>\n",
       "      <td>1296599</td>\n",
       "      <td>5000</td>\n",
       "      <td>5000</td>\n",
       "      <td>4975.0</td>\n",
       "      <td>36 months</td>\n",
       "      <td>10.65%</td>\n",
       "      <td>162.87</td>\n",
       "      <td>B</td>\n",
       "      <td>B2</td>\n",
       "      <td>...</td>\n",
       "      <td>NaN</td>\n",
       "      <td>May-16</td>\n",
       "      <td>0.0</td>\n",
       "      <td>1</td>\n",
       "      <td>INDIVIDUAL</td>\n",
       "      <td>0</td>\n",
       "      <td>0.0</td>\n",
       "      <td>0</td>\n",
       "      <td>0.0</td>\n",
       "      <td>0.0</td>\n",
       "    </tr>\n",
       "    <tr>\n",
       "      <th>1</th>\n",
       "      <td>1077430</td>\n",
       "      <td>1314167</td>\n",
       "      <td>2500</td>\n",
       "      <td>2500</td>\n",
       "      <td>2500.0</td>\n",
       "      <td>60 months</td>\n",
       "      <td>15.27%</td>\n",
       "      <td>59.83</td>\n",
       "      <td>C</td>\n",
       "      <td>C4</td>\n",
       "      <td>...</td>\n",
       "      <td>NaN</td>\n",
       "      <td>Sep-13</td>\n",
       "      <td>0.0</td>\n",
       "      <td>1</td>\n",
       "      <td>INDIVIDUAL</td>\n",
       "      <td>0</td>\n",
       "      <td>0.0</td>\n",
       "      <td>0</td>\n",
       "      <td>0.0</td>\n",
       "      <td>0.0</td>\n",
       "    </tr>\n",
       "    <tr>\n",
       "      <th>2</th>\n",
       "      <td>1077175</td>\n",
       "      <td>1313524</td>\n",
       "      <td>2400</td>\n",
       "      <td>2400</td>\n",
       "      <td>2400.0</td>\n",
       "      <td>36 months</td>\n",
       "      <td>15.96%</td>\n",
       "      <td>84.33</td>\n",
       "      <td>C</td>\n",
       "      <td>C5</td>\n",
       "      <td>...</td>\n",
       "      <td>NaN</td>\n",
       "      <td>May-16</td>\n",
       "      <td>0.0</td>\n",
       "      <td>1</td>\n",
       "      <td>INDIVIDUAL</td>\n",
       "      <td>0</td>\n",
       "      <td>0.0</td>\n",
       "      <td>0</td>\n",
       "      <td>0.0</td>\n",
       "      <td>0.0</td>\n",
       "    </tr>\n",
       "    <tr>\n",
       "      <th>3</th>\n",
       "      <td>1076863</td>\n",
       "      <td>1277178</td>\n",
       "      <td>10000</td>\n",
       "      <td>10000</td>\n",
       "      <td>10000.0</td>\n",
       "      <td>36 months</td>\n",
       "      <td>13.49%</td>\n",
       "      <td>339.31</td>\n",
       "      <td>C</td>\n",
       "      <td>C1</td>\n",
       "      <td>...</td>\n",
       "      <td>NaN</td>\n",
       "      <td>Apr-16</td>\n",
       "      <td>0.0</td>\n",
       "      <td>1</td>\n",
       "      <td>INDIVIDUAL</td>\n",
       "      <td>0</td>\n",
       "      <td>0.0</td>\n",
       "      <td>0</td>\n",
       "      <td>0.0</td>\n",
       "      <td>0.0</td>\n",
       "    </tr>\n",
       "    <tr>\n",
       "      <th>4</th>\n",
       "      <td>1075358</td>\n",
       "      <td>1311748</td>\n",
       "      <td>3000</td>\n",
       "      <td>3000</td>\n",
       "      <td>3000.0</td>\n",
       "      <td>60 months</td>\n",
       "      <td>12.69%</td>\n",
       "      <td>67.79</td>\n",
       "      <td>B</td>\n",
       "      <td>B5</td>\n",
       "      <td>...</td>\n",
       "      <td>Jun-16</td>\n",
       "      <td>May-16</td>\n",
       "      <td>0.0</td>\n",
       "      <td>1</td>\n",
       "      <td>INDIVIDUAL</td>\n",
       "      <td>0</td>\n",
       "      <td>0.0</td>\n",
       "      <td>0</td>\n",
       "      <td>0.0</td>\n",
       "      <td>0.0</td>\n",
       "    </tr>\n",
       "    <tr>\n",
       "      <th>5</th>\n",
       "      <td>1075269</td>\n",
       "      <td>1311441</td>\n",
       "      <td>5000</td>\n",
       "      <td>5000</td>\n",
       "      <td>5000.0</td>\n",
       "      <td>36 months</td>\n",
       "      <td>7.90%</td>\n",
       "      <td>156.46</td>\n",
       "      <td>A</td>\n",
       "      <td>A4</td>\n",
       "      <td>...</td>\n",
       "      <td>NaN</td>\n",
       "      <td>Jan-16</td>\n",
       "      <td>0.0</td>\n",
       "      <td>1</td>\n",
       "      <td>INDIVIDUAL</td>\n",
       "      <td>0</td>\n",
       "      <td>0.0</td>\n",
       "      <td>0</td>\n",
       "      <td>0.0</td>\n",
       "      <td>0.0</td>\n",
       "    </tr>\n",
       "    <tr>\n",
       "      <th>6</th>\n",
       "      <td>1069639</td>\n",
       "      <td>1304742</td>\n",
       "      <td>7000</td>\n",
       "      <td>7000</td>\n",
       "      <td>7000.0</td>\n",
       "      <td>60 months</td>\n",
       "      <td>15.96%</td>\n",
       "      <td>170.08</td>\n",
       "      <td>C</td>\n",
       "      <td>C5</td>\n",
       "      <td>...</td>\n",
       "      <td>NaN</td>\n",
       "      <td>May-16</td>\n",
       "      <td>0.0</td>\n",
       "      <td>1</td>\n",
       "      <td>INDIVIDUAL</td>\n",
       "      <td>0</td>\n",
       "      <td>0.0</td>\n",
       "      <td>0</td>\n",
       "      <td>0.0</td>\n",
       "      <td>0.0</td>\n",
       "    </tr>\n",
       "    <tr>\n",
       "      <th>7</th>\n",
       "      <td>1072053</td>\n",
       "      <td>1288686</td>\n",
       "      <td>3000</td>\n",
       "      <td>3000</td>\n",
       "      <td>3000.0</td>\n",
       "      <td>36 months</td>\n",
       "      <td>18.64%</td>\n",
       "      <td>109.43</td>\n",
       "      <td>E</td>\n",
       "      <td>E1</td>\n",
       "      <td>...</td>\n",
       "      <td>NaN</td>\n",
       "      <td>Dec-14</td>\n",
       "      <td>0.0</td>\n",
       "      <td>1</td>\n",
       "      <td>INDIVIDUAL</td>\n",
       "      <td>0</td>\n",
       "      <td>0.0</td>\n",
       "      <td>0</td>\n",
       "      <td>0.0</td>\n",
       "      <td>0.0</td>\n",
       "    </tr>\n",
       "    <tr>\n",
       "      <th>8</th>\n",
       "      <td>1071795</td>\n",
       "      <td>1306957</td>\n",
       "      <td>5600</td>\n",
       "      <td>5600</td>\n",
       "      <td>5600.0</td>\n",
       "      <td>60 months</td>\n",
       "      <td>21.28%</td>\n",
       "      <td>152.39</td>\n",
       "      <td>F</td>\n",
       "      <td>F2</td>\n",
       "      <td>...</td>\n",
       "      <td>NaN</td>\n",
       "      <td>Aug-12</td>\n",
       "      <td>0.0</td>\n",
       "      <td>1</td>\n",
       "      <td>INDIVIDUAL</td>\n",
       "      <td>0</td>\n",
       "      <td>0.0</td>\n",
       "      <td>0</td>\n",
       "      <td>0.0</td>\n",
       "      <td>0.0</td>\n",
       "    </tr>\n",
       "    <tr>\n",
       "      <th>9</th>\n",
       "      <td>1071570</td>\n",
       "      <td>1306721</td>\n",
       "      <td>5375</td>\n",
       "      <td>5375</td>\n",
       "      <td>5350.0</td>\n",
       "      <td>60 months</td>\n",
       "      <td>12.69%</td>\n",
       "      <td>121.45</td>\n",
       "      <td>B</td>\n",
       "      <td>B5</td>\n",
       "      <td>...</td>\n",
       "      <td>NaN</td>\n",
       "      <td>Mar-13</td>\n",
       "      <td>0.0</td>\n",
       "      <td>1</td>\n",
       "      <td>INDIVIDUAL</td>\n",
       "      <td>0</td>\n",
       "      <td>0.0</td>\n",
       "      <td>0</td>\n",
       "      <td>0.0</td>\n",
       "      <td>0.0</td>\n",
       "    </tr>\n",
       "  </tbody>\n",
       "</table>\n",
       "<p>10 rows × 57 columns</p>\n",
       "</div>"
      ],
      "text/plain": [
       "        id  member_id  loan_amnt  funded_amnt  funded_amnt_inv        term  \\\n",
       "0  1077501    1296599       5000         5000           4975.0   36 months   \n",
       "1  1077430    1314167       2500         2500           2500.0   60 months   \n",
       "2  1077175    1313524       2400         2400           2400.0   36 months   \n",
       "3  1076863    1277178      10000        10000          10000.0   36 months   \n",
       "4  1075358    1311748       3000         3000           3000.0   60 months   \n",
       "5  1075269    1311441       5000         5000           5000.0   36 months   \n",
       "6  1069639    1304742       7000         7000           7000.0   60 months   \n",
       "7  1072053    1288686       3000         3000           3000.0   36 months   \n",
       "8  1071795    1306957       5600         5600           5600.0   60 months   \n",
       "9  1071570    1306721       5375         5375           5350.0   60 months   \n",
       "\n",
       "  int_rate  installment grade sub_grade  ... next_pymnt_d last_credit_pull_d  \\\n",
       "0   10.65%       162.87     B        B2  ...          NaN             May-16   \n",
       "1   15.27%        59.83     C        C4  ...          NaN             Sep-13   \n",
       "2   15.96%        84.33     C        C5  ...          NaN             May-16   \n",
       "3   13.49%       339.31     C        C1  ...          NaN             Apr-16   \n",
       "4   12.69%        67.79     B        B5  ...       Jun-16             May-16   \n",
       "5    7.90%       156.46     A        A4  ...          NaN             Jan-16   \n",
       "6   15.96%       170.08     C        C5  ...          NaN             May-16   \n",
       "7   18.64%       109.43     E        E1  ...          NaN             Dec-14   \n",
       "8   21.28%       152.39     F        F2  ...          NaN             Aug-12   \n",
       "9   12.69%       121.45     B        B5  ...          NaN             Mar-13   \n",
       "\n",
       "  collections_12_mths_ex_med  policy_code application_type acc_now_delinq  \\\n",
       "0                        0.0            1       INDIVIDUAL              0   \n",
       "1                        0.0            1       INDIVIDUAL              0   \n",
       "2                        0.0            1       INDIVIDUAL              0   \n",
       "3                        0.0            1       INDIVIDUAL              0   \n",
       "4                        0.0            1       INDIVIDUAL              0   \n",
       "5                        0.0            1       INDIVIDUAL              0   \n",
       "6                        0.0            1       INDIVIDUAL              0   \n",
       "7                        0.0            1       INDIVIDUAL              0   \n",
       "8                        0.0            1       INDIVIDUAL              0   \n",
       "9                        0.0            1       INDIVIDUAL              0   \n",
       "\n",
       "  chargeoff_within_12_mths delinq_amnt pub_rec_bankruptcies tax_liens  \n",
       "0                      0.0           0                  0.0       0.0  \n",
       "1                      0.0           0                  0.0       0.0  \n",
       "2                      0.0           0                  0.0       0.0  \n",
       "3                      0.0           0                  0.0       0.0  \n",
       "4                      0.0           0                  0.0       0.0  \n",
       "5                      0.0           0                  0.0       0.0  \n",
       "6                      0.0           0                  0.0       0.0  \n",
       "7                      0.0           0                  0.0       0.0  \n",
       "8                      0.0           0                  0.0       0.0  \n",
       "9                      0.0           0                  0.0       0.0  \n",
       "\n",
       "[10 rows x 57 columns]"
      ]
     },
     "execution_count": 6,
     "metadata": {},
     "output_type": "execute_result"
    }
   ],
   "source": [
    "loanDf.dropna(axis=1,how='all',inplace=True)\n",
    "loanDf.head(10)"
   ]
  },
  {
   "cell_type": "markdown",
   "id": "ad6f23d6",
   "metadata": {},
   "source": [
    "#### 54 columns of null data have been removed"
   ]
  },
  {
   "cell_type": "markdown",
   "id": "bdfb217d",
   "metadata": {},
   "source": [
    "#### Lets check for duplicated values"
   ]
  },
  {
   "cell_type": "code",
   "execution_count": 7,
   "id": "64733037",
   "metadata": {
    "scrolled": true
   },
   "outputs": [
    {
     "data": {
      "text/plain": [
       "{'id': 0,\n",
       " 'member_id': 0,\n",
       " 'loan_amnt': 39522,\n",
       " 'funded_amnt': 39541,\n",
       " 'funded_amnt_inv': 32595,\n",
       " 'term': 39717,\n",
       " 'int_rate': 39700,\n",
       " 'installment': 30647,\n",
       " 'grade': 39717,\n",
       " 'sub_grade': 39717,\n",
       " 'emp_title': 11617,\n",
       " 'emp_length': 38642,\n",
       " 'home_ownership': 39717,\n",
       " 'annual_inc': 35754,\n",
       " 'verification_status': 39717,\n",
       " 'issue_d': 39716,\n",
       " 'loan_status': 39717,\n",
       " 'pymnt_plan': 39717,\n",
       " 'url': 0,\n",
       " 'desc': 278,\n",
       " 'purpose': 39717,\n",
       " 'title': 22082,\n",
       " 'zip_code': 39662,\n",
       " 'addr_state': 39717,\n",
       " 'dti': 39536,\n",
       " 'delinq_2yrs': 39715,\n",
       " 'earliest_cr_line': 39684,\n",
       " 'inq_last_6mths': 39717,\n",
       " 'mths_since_last_delinq': 14026,\n",
       " 'mths_since_last_record': 2776,\n",
       " 'open_acc': 39712,\n",
       " 'pub_rec': 39717,\n",
       " 'revol_bal': 27629,\n",
       " 'revol_util': 39578,\n",
       " 'total_acc': 39704,\n",
       " 'initial_list_status': 39717,\n",
       " 'out_prncp': 38585,\n",
       " 'out_prncp_inv': 38583,\n",
       " 'total_pymnt': 2774,\n",
       " 'total_pymnt_inv': 3330,\n",
       " 'total_rec_prncp': 32653,\n",
       " 'total_rec_int': 7306,\n",
       " 'total_rec_late_fee': 38410,\n",
       " 'recoveries': 35837,\n",
       " 'collection_recovery_fee': 37585,\n",
       " 'last_pymnt_d': 39645,\n",
       " 'last_pymnt_amnt': 8353,\n",
       " 'next_pymnt_d': 1140,\n",
       " 'last_credit_pull_d': 39710,\n",
       " 'collections_12_mths_ex_med': 39661,\n",
       " 'policy_code': 39717,\n",
       " 'application_type': 39717,\n",
       " 'acc_now_delinq': 39717,\n",
       " 'chargeoff_within_12_mths': 39661,\n",
       " 'delinq_amnt': 39717,\n",
       " 'pub_rec_bankruptcies': 39020,\n",
       " 'tax_liens': 39678}"
      ]
     },
     "execution_count": 7,
     "metadata": {},
     "output_type": "execute_result"
    }
   ],
   "source": [
    "duplicated = {}\n",
    "for column in loanDf:\n",
    "    gb = loanDf.groupby(column).size()\n",
    "    duplicated[column] = gb[gb>1].sum()\n",
    "\n",
    "duplicated"
   ]
  },
  {
   "cell_type": "code",
   "execution_count": 8,
   "id": "8b265f71",
   "metadata": {
    "scrolled": true
   },
   "outputs": [
    {
     "data": {
      "text/plain": [
       " 36 months    29096\n",
       " 60 months    10621\n",
       "Name: term, dtype: int64"
      ]
     },
     "execution_count": 8,
     "metadata": {},
     "output_type": "execute_result"
    }
   ],
   "source": [
    "loanDf.term.value_counts()"
   ]
  },
  {
   "cell_type": "code",
   "execution_count": 9,
   "id": "79664ae0",
   "metadata": {},
   "outputs": [
    {
     "data": {
      "text/plain": [
       "B    12020\n",
       "A    10085\n",
       "C     8098\n",
       "D     5307\n",
       "E     2842\n",
       "F     1049\n",
       "G      316\n",
       "Name: grade, dtype: int64"
      ]
     },
     "execution_count": 9,
     "metadata": {},
     "output_type": "execute_result"
    }
   ],
   "source": [
    "loanDf.grade.value_counts()"
   ]
  },
  {
   "cell_type": "code",
   "execution_count": 10,
   "id": "4d2df323",
   "metadata": {},
   "outputs": [
    {
     "data": {
      "text/plain": [
       "B3    2917\n",
       "A4    2886\n",
       "A5    2742\n",
       "B5    2704\n",
       "B4    2512\n",
       "C1    2136\n",
       "B2    2057\n",
       "C2    2011\n",
       "B1    1830\n",
       "A3    1810\n",
       "C3    1529\n",
       "A2    1508\n",
       "D2    1348\n",
       "C4    1236\n",
       "C5    1186\n",
       "D3    1173\n",
       "A1    1139\n",
       "D4     981\n",
       "D1     931\n",
       "D5     874\n",
       "E1     763\n",
       "E2     656\n",
       "E3     553\n",
       "E4     454\n",
       "E5     416\n",
       "F1     329\n",
       "F2     249\n",
       "F3     185\n",
       "F4     168\n",
       "F5     118\n",
       "G1     104\n",
       "G2      78\n",
       "G4      56\n",
       "G3      48\n",
       "G5      30\n",
       "Name: sub_grade, dtype: int64"
      ]
     },
     "execution_count": 10,
     "metadata": {},
     "output_type": "execute_result"
    }
   ],
   "source": [
    "loanDf.sub_grade.value_counts()"
   ]
  },
  {
   "cell_type": "code",
   "execution_count": 11,
   "id": "f8c7c070",
   "metadata": {},
   "outputs": [
    {
     "data": {
      "text/plain": [
       "RENT        18899\n",
       "MORTGAGE    17659\n",
       "OWN          3058\n",
       "OTHER          98\n",
       "NONE            3\n",
       "Name: home_ownership, dtype: int64"
      ]
     },
     "execution_count": 11,
     "metadata": {},
     "output_type": "execute_result"
    }
   ],
   "source": [
    "loanDf.home_ownership.value_counts()"
   ]
  },
  {
   "cell_type": "code",
   "execution_count": 12,
   "id": "d41342d5",
   "metadata": {},
   "outputs": [
    {
     "data": {
      "text/plain": [
       "Not Verified       16921\n",
       "Verified           12809\n",
       "Source Verified     9987\n",
       "Name: verification_status, dtype: int64"
      ]
     },
     "execution_count": 12,
     "metadata": {},
     "output_type": "execute_result"
    }
   ],
   "source": [
    "loanDf.verification_status.value_counts()"
   ]
  },
  {
   "cell_type": "code",
   "execution_count": 13,
   "id": "42ffc383",
   "metadata": {},
   "outputs": [
    {
     "data": {
      "text/plain": [
       "Fully Paid     32950\n",
       "Charged Off     5627\n",
       "Current         1140\n",
       "Name: loan_status, dtype: int64"
      ]
     },
     "execution_count": 13,
     "metadata": {},
     "output_type": "execute_result"
    }
   ],
   "source": [
    "loanDf.loan_status.value_counts()"
   ]
  },
  {
   "cell_type": "code",
   "execution_count": 14,
   "id": "2d7516ac",
   "metadata": {},
   "outputs": [
    {
     "data": {
      "text/plain": [
       "n    39717\n",
       "Name: pymnt_plan, dtype: int64"
      ]
     },
     "execution_count": 14,
     "metadata": {},
     "output_type": "execute_result"
    }
   ],
   "source": [
    "loanDf.pymnt_plan.value_counts()"
   ]
  },
  {
   "cell_type": "markdown",
   "id": "7bdfd533",
   "metadata": {},
   "source": [
    "#### pymnt_plan column has dupplicated value lets add this column to colum drop list"
   ]
  },
  {
   "cell_type": "code",
   "execution_count": 15,
   "id": "6d3cb52a",
   "metadata": {},
   "outputs": [
    {
     "name": "stdout",
     "output_type": "stream",
     "text": [
      "['pymnt_plan']\n"
     ]
    }
   ],
   "source": [
    "columnDropList = []\n",
    "columnDropList.append('pymnt_plan')\n",
    "print(columnDropList)"
   ]
  },
  {
   "cell_type": "code",
   "execution_count": 16,
   "id": "0c74e378",
   "metadata": {},
   "outputs": [
    {
     "data": {
      "text/plain": [
       "debt_consolidation    18641\n",
       "credit_card            5130\n",
       "other                  3993\n",
       "home_improvement       2976\n",
       "major_purchase         2187\n",
       "small_business         1828\n",
       "car                    1549\n",
       "wedding                 947\n",
       "medical                 693\n",
       "moving                  583\n",
       "vacation                381\n",
       "house                   381\n",
       "educational             325\n",
       "renewable_energy        103\n",
       "Name: purpose, dtype: int64"
      ]
     },
     "execution_count": 16,
     "metadata": {},
     "output_type": "execute_result"
    }
   ],
   "source": [
    "loanDf.purpose.value_counts()"
   ]
  },
  {
   "cell_type": "code",
   "execution_count": 17,
   "id": "2ef9d336",
   "metadata": {},
   "outputs": [
    {
     "data": {
      "text/plain": [
       "CA    7099\n",
       "NY    3812\n",
       "FL    2866\n",
       "TX    2727\n",
       "NJ    1850\n",
       "IL    1525\n",
       "PA    1517\n",
       "VA    1407\n",
       "GA    1398\n",
       "MA    1340\n",
       "OH    1223\n",
       "MD    1049\n",
       "AZ     879\n",
       "WA     840\n",
       "CO     792\n",
       "NC     788\n",
       "CT     751\n",
       "MI     720\n",
       "MO     686\n",
       "MN     615\n",
       "NV     497\n",
       "SC     472\n",
       "WI     460\n",
       "AL     452\n",
       "OR     451\n",
       "LA     436\n",
       "KY     325\n",
       "OK     299\n",
       "KS     271\n",
       "UT     258\n",
       "AR     245\n",
       "DC     214\n",
       "RI     198\n",
       "NM     189\n",
       "WV     177\n",
       "HI     174\n",
       "NH     171\n",
       "DE     114\n",
       "MT      85\n",
       "WY      83\n",
       "AK      80\n",
       "SD      64\n",
       "VT      54\n",
       "MS      19\n",
       "TN      17\n",
       "IN       9\n",
       "ID       6\n",
       "IA       5\n",
       "NE       5\n",
       "ME       3\n",
       "Name: addr_state, dtype: int64"
      ]
     },
     "execution_count": 17,
     "metadata": {},
     "output_type": "execute_result"
    }
   ],
   "source": [
    "loanDf.addr_state.value_counts()"
   ]
  },
  {
   "cell_type": "code",
   "execution_count": 18,
   "id": "eb5f2ce4",
   "metadata": {},
   "outputs": [
    {
     "data": {
      "text/plain": [
       "0    19300\n",
       "1    10971\n",
       "2     5812\n",
       "3     3048\n",
       "4      326\n",
       "5      146\n",
       "6       64\n",
       "7       35\n",
       "8       15\n",
       "Name: inq_last_6mths, dtype: int64"
      ]
     },
     "execution_count": 18,
     "metadata": {},
     "output_type": "execute_result"
    }
   ],
   "source": [
    "loanDf.inq_last_6mths.value_counts()"
   ]
  },
  {
   "cell_type": "code",
   "execution_count": 19,
   "id": "2e8c293e",
   "metadata": {},
   "outputs": [
    {
     "data": {
      "text/plain": [
       "0    37601\n",
       "1     2056\n",
       "2       51\n",
       "3        7\n",
       "4        2\n",
       "Name: pub_rec, dtype: int64"
      ]
     },
     "execution_count": 19,
     "metadata": {},
     "output_type": "execute_result"
    }
   ],
   "source": [
    "loanDf.pub_rec.value_counts()"
   ]
  },
  {
   "cell_type": "code",
   "execution_count": 20,
   "id": "b8626cbc",
   "metadata": {},
   "outputs": [
    {
     "data": {
      "text/plain": [
       "0.0    37339\n",
       "1.0     1674\n",
       "2.0        7\n",
       "Name: pub_rec_bankruptcies, dtype: int64"
      ]
     },
     "execution_count": 20,
     "metadata": {},
     "output_type": "execute_result"
    }
   ],
   "source": [
    "loanDf.pub_rec_bankruptcies.value_counts()"
   ]
  },
  {
   "cell_type": "code",
   "execution_count": 21,
   "id": "cbe93d12",
   "metadata": {},
   "outputs": [
    {
     "data": {
      "text/plain": [
       "f    39717\n",
       "Name: initial_list_status, dtype: int64"
      ]
     },
     "execution_count": 21,
     "metadata": {},
     "output_type": "execute_result"
    }
   ],
   "source": [
    "loanDf.initial_list_status.value_counts()"
   ]
  },
  {
   "cell_type": "markdown",
   "id": "c6020ce4",
   "metadata": {},
   "source": [
    "#### fullly duplicated colum initial_list_status so adding to drop list"
   ]
  },
  {
   "cell_type": "code",
   "execution_count": 22,
   "id": "ada07bf0",
   "metadata": {},
   "outputs": [
    {
     "name": "stdout",
     "output_type": "stream",
     "text": [
      "['pymnt_plan', 'initial_list_status']\n"
     ]
    }
   ],
   "source": [
    "columnDropList.append('initial_list_status')\n",
    "print(columnDropList)"
   ]
  },
  {
   "cell_type": "code",
   "execution_count": 23,
   "id": "0e37dd4b",
   "metadata": {},
   "outputs": [
    {
     "data": {
      "text/plain": [
       "INDIVIDUAL    39717\n",
       "Name: application_type, dtype: int64"
      ]
     },
     "execution_count": 23,
     "metadata": {},
     "output_type": "execute_result"
    }
   ],
   "source": [
    "loanDf.application_type.value_counts()"
   ]
  },
  {
   "cell_type": "markdown",
   "id": "56bb8133",
   "metadata": {},
   "source": [
    "#### fullly duplicated colum application_type so adding to drop list"
   ]
  },
  {
   "cell_type": "code",
   "execution_count": 24,
   "id": "79e2bdc9",
   "metadata": {},
   "outputs": [
    {
     "name": "stdout",
     "output_type": "stream",
     "text": [
      "['pymnt_plan', 'initial_list_status', 'application_type']\n"
     ]
    }
   ],
   "source": [
    "columnDropList.append('application_type')\n",
    "print(columnDropList)"
   ]
  },
  {
   "cell_type": "code",
   "execution_count": 25,
   "id": "19857e3d",
   "metadata": {},
   "outputs": [
    {
     "data": {
      "text/plain": [
       "0    39717\n",
       "Name: acc_now_delinq, dtype: int64"
      ]
     },
     "execution_count": 25,
     "metadata": {},
     "output_type": "execute_result"
    }
   ],
   "source": [
    "loanDf.acc_now_delinq.value_counts()"
   ]
  },
  {
   "cell_type": "markdown",
   "id": "1490ba86",
   "metadata": {},
   "source": [
    "#### fullly duplicated colum acc_now_delinq so adding to drop list"
   ]
  },
  {
   "cell_type": "code",
   "execution_count": 26,
   "id": "e4a1878a",
   "metadata": {},
   "outputs": [
    {
     "name": "stdout",
     "output_type": "stream",
     "text": [
      "['pymnt_plan', 'initial_list_status', 'application_type', 'acc_now_delinq']\n"
     ]
    }
   ],
   "source": [
    "columnDropList.append('acc_now_delinq')\n",
    "print(columnDropList)"
   ]
  },
  {
   "cell_type": "code",
   "execution_count": 27,
   "id": "3766333b",
   "metadata": {
    "scrolled": true
   },
   "outputs": [
    {
     "data": {
      "text/plain": [
       "0.0    39661\n",
       "Name: collections_12_mths_ex_med, dtype: int64"
      ]
     },
     "execution_count": 27,
     "metadata": {},
     "output_type": "execute_result"
    }
   ],
   "source": [
    "loanDf.collections_12_mths_ex_med.value_counts()"
   ]
  },
  {
   "cell_type": "markdown",
   "id": "b1daafd6",
   "metadata": {},
   "source": [
    "#### fullly duplicated colum collections_12_mths_ex_med so adding to drop list"
   ]
  },
  {
   "cell_type": "code",
   "execution_count": 28,
   "id": "07c9da2c",
   "metadata": {},
   "outputs": [
    {
     "name": "stdout",
     "output_type": "stream",
     "text": [
      "['pymnt_plan', 'initial_list_status', 'application_type', 'acc_now_delinq', 'collections_12_mths_ex_med']\n"
     ]
    }
   ],
   "source": [
    "columnDropList.append('collections_12_mths_ex_med')\n",
    "print(columnDropList)"
   ]
  },
  {
   "cell_type": "code",
   "execution_count": 29,
   "id": "3ceed5b3",
   "metadata": {},
   "outputs": [
    {
     "data": {
      "text/plain": [
       "1    39717\n",
       "Name: policy_code, dtype: int64"
      ]
     },
     "execution_count": 29,
     "metadata": {},
     "output_type": "execute_result"
    }
   ],
   "source": [
    "loanDf.policy_code.value_counts()"
   ]
  },
  {
   "cell_type": "markdown",
   "id": "98da3e85",
   "metadata": {},
   "source": [
    "#### fullly duplicated colum policy_code so adding to drop list"
   ]
  },
  {
   "cell_type": "code",
   "execution_count": 30,
   "id": "575e3005",
   "metadata": {},
   "outputs": [
    {
     "name": "stdout",
     "output_type": "stream",
     "text": [
      "['pymnt_plan', 'initial_list_status', 'application_type', 'acc_now_delinq', 'collections_12_mths_ex_med', 'policy_code']\n"
     ]
    }
   ],
   "source": [
    "columnDropList.append('policy_code')\n",
    "print(columnDropList)"
   ]
  },
  {
   "cell_type": "code",
   "execution_count": 31,
   "id": "bdd60ddb",
   "metadata": {},
   "outputs": [
    {
     "data": {
      "text/plain": [
       "0    39717\n",
       "Name: delinq_amnt, dtype: int64"
      ]
     },
     "execution_count": 31,
     "metadata": {},
     "output_type": "execute_result"
    }
   ],
   "source": [
    "loanDf.delinq_amnt.value_counts()"
   ]
  },
  {
   "cell_type": "markdown",
   "id": "6a68cbc1",
   "metadata": {},
   "source": [
    "#### fullly duplicated colum delinq_amnt so adding to drop list"
   ]
  },
  {
   "cell_type": "code",
   "execution_count": 32,
   "id": "765d6720",
   "metadata": {},
   "outputs": [
    {
     "name": "stdout",
     "output_type": "stream",
     "text": [
      "['pymnt_plan', 'initial_list_status', 'application_type', 'acc_now_delinq', 'collections_12_mths_ex_med', 'policy_code', 'delinq_amnt']\n"
     ]
    }
   ],
   "source": [
    "columnDropList.append('delinq_amnt')\n",
    "print(columnDropList)"
   ]
  },
  {
   "cell_type": "code",
   "execution_count": 33,
   "id": "7a0872b5",
   "metadata": {},
   "outputs": [
    {
     "data": {
      "text/plain": [
       "0.0    39678\n",
       "Name: tax_liens, dtype: int64"
      ]
     },
     "execution_count": 33,
     "metadata": {},
     "output_type": "execute_result"
    }
   ],
   "source": [
    "loanDf.tax_liens.value_counts()"
   ]
  },
  {
   "cell_type": "markdown",
   "id": "1a951dec",
   "metadata": {},
   "source": [
    "#### fullly duplicated colum tax_liens so adding to drop list"
   ]
  },
  {
   "cell_type": "code",
   "execution_count": 34,
   "id": "3c0b6d1b",
   "metadata": {},
   "outputs": [
    {
     "name": "stdout",
     "output_type": "stream",
     "text": [
      "['pymnt_plan', 'initial_list_status', 'application_type', 'acc_now_delinq', 'collections_12_mths_ex_med', 'policy_code', 'delinq_amnt', 'tax_liens']\n"
     ]
    }
   ],
   "source": [
    "columnDropList.append('tax_liens')\n",
    "print(columnDropList)"
   ]
  },
  {
   "cell_type": "markdown",
   "id": "3b121312",
   "metadata": {},
   "source": [
    "#### Now by using duplicated function we deep dived into columns with high number of duplications and added the ones that had fully duplicated values to the column drop list. now lets drop the completely duplicated colums"
   ]
  },
  {
   "cell_type": "code",
   "execution_count": 35,
   "id": "fb54d200",
   "metadata": {},
   "outputs": [
    {
     "data": {
      "text/html": [
       "<div>\n",
       "<style scoped>\n",
       "    .dataframe tbody tr th:only-of-type {\n",
       "        vertical-align: middle;\n",
       "    }\n",
       "\n",
       "    .dataframe tbody tr th {\n",
       "        vertical-align: top;\n",
       "    }\n",
       "\n",
       "    .dataframe thead th {\n",
       "        text-align: right;\n",
       "    }\n",
       "</style>\n",
       "<table border=\"1\" class=\"dataframe\">\n",
       "  <thead>\n",
       "    <tr style=\"text-align: right;\">\n",
       "      <th></th>\n",
       "      <th>id</th>\n",
       "      <th>member_id</th>\n",
       "      <th>loan_amnt</th>\n",
       "      <th>funded_amnt</th>\n",
       "      <th>funded_amnt_inv</th>\n",
       "      <th>term</th>\n",
       "      <th>int_rate</th>\n",
       "      <th>installment</th>\n",
       "      <th>grade</th>\n",
       "      <th>sub_grade</th>\n",
       "      <th>...</th>\n",
       "      <th>total_rec_int</th>\n",
       "      <th>total_rec_late_fee</th>\n",
       "      <th>recoveries</th>\n",
       "      <th>collection_recovery_fee</th>\n",
       "      <th>last_pymnt_d</th>\n",
       "      <th>last_pymnt_amnt</th>\n",
       "      <th>next_pymnt_d</th>\n",
       "      <th>last_credit_pull_d</th>\n",
       "      <th>chargeoff_within_12_mths</th>\n",
       "      <th>pub_rec_bankruptcies</th>\n",
       "    </tr>\n",
       "  </thead>\n",
       "  <tbody>\n",
       "    <tr>\n",
       "      <th>0</th>\n",
       "      <td>1077501</td>\n",
       "      <td>1296599</td>\n",
       "      <td>5000</td>\n",
       "      <td>5000</td>\n",
       "      <td>4975.0</td>\n",
       "      <td>36 months</td>\n",
       "      <td>10.65%</td>\n",
       "      <td>162.87</td>\n",
       "      <td>B</td>\n",
       "      <td>B2</td>\n",
       "      <td>...</td>\n",
       "      <td>863.16</td>\n",
       "      <td>0.00</td>\n",
       "      <td>0.00</td>\n",
       "      <td>0.00</td>\n",
       "      <td>Jan-15</td>\n",
       "      <td>171.62</td>\n",
       "      <td>NaN</td>\n",
       "      <td>May-16</td>\n",
       "      <td>0.0</td>\n",
       "      <td>0.0</td>\n",
       "    </tr>\n",
       "    <tr>\n",
       "      <th>1</th>\n",
       "      <td>1077430</td>\n",
       "      <td>1314167</td>\n",
       "      <td>2500</td>\n",
       "      <td>2500</td>\n",
       "      <td>2500.0</td>\n",
       "      <td>60 months</td>\n",
       "      <td>15.27%</td>\n",
       "      <td>59.83</td>\n",
       "      <td>C</td>\n",
       "      <td>C4</td>\n",
       "      <td>...</td>\n",
       "      <td>435.17</td>\n",
       "      <td>0.00</td>\n",
       "      <td>117.08</td>\n",
       "      <td>1.11</td>\n",
       "      <td>Apr-13</td>\n",
       "      <td>119.66</td>\n",
       "      <td>NaN</td>\n",
       "      <td>Sep-13</td>\n",
       "      <td>0.0</td>\n",
       "      <td>0.0</td>\n",
       "    </tr>\n",
       "    <tr>\n",
       "      <th>2</th>\n",
       "      <td>1077175</td>\n",
       "      <td>1313524</td>\n",
       "      <td>2400</td>\n",
       "      <td>2400</td>\n",
       "      <td>2400.0</td>\n",
       "      <td>36 months</td>\n",
       "      <td>15.96%</td>\n",
       "      <td>84.33</td>\n",
       "      <td>C</td>\n",
       "      <td>C5</td>\n",
       "      <td>...</td>\n",
       "      <td>605.67</td>\n",
       "      <td>0.00</td>\n",
       "      <td>0.00</td>\n",
       "      <td>0.00</td>\n",
       "      <td>Jun-14</td>\n",
       "      <td>649.91</td>\n",
       "      <td>NaN</td>\n",
       "      <td>May-16</td>\n",
       "      <td>0.0</td>\n",
       "      <td>0.0</td>\n",
       "    </tr>\n",
       "    <tr>\n",
       "      <th>3</th>\n",
       "      <td>1076863</td>\n",
       "      <td>1277178</td>\n",
       "      <td>10000</td>\n",
       "      <td>10000</td>\n",
       "      <td>10000.0</td>\n",
       "      <td>36 months</td>\n",
       "      <td>13.49%</td>\n",
       "      <td>339.31</td>\n",
       "      <td>C</td>\n",
       "      <td>C1</td>\n",
       "      <td>...</td>\n",
       "      <td>2214.92</td>\n",
       "      <td>16.97</td>\n",
       "      <td>0.00</td>\n",
       "      <td>0.00</td>\n",
       "      <td>Jan-15</td>\n",
       "      <td>357.48</td>\n",
       "      <td>NaN</td>\n",
       "      <td>Apr-16</td>\n",
       "      <td>0.0</td>\n",
       "      <td>0.0</td>\n",
       "    </tr>\n",
       "    <tr>\n",
       "      <th>4</th>\n",
       "      <td>1075358</td>\n",
       "      <td>1311748</td>\n",
       "      <td>3000</td>\n",
       "      <td>3000</td>\n",
       "      <td>3000.0</td>\n",
       "      <td>60 months</td>\n",
       "      <td>12.69%</td>\n",
       "      <td>67.79</td>\n",
       "      <td>B</td>\n",
       "      <td>B5</td>\n",
       "      <td>...</td>\n",
       "      <td>1037.39</td>\n",
       "      <td>0.00</td>\n",
       "      <td>0.00</td>\n",
       "      <td>0.00</td>\n",
       "      <td>May-16</td>\n",
       "      <td>67.79</td>\n",
       "      <td>Jun-16</td>\n",
       "      <td>May-16</td>\n",
       "      <td>0.0</td>\n",
       "      <td>0.0</td>\n",
       "    </tr>\n",
       "    <tr>\n",
       "      <th>5</th>\n",
       "      <td>1075269</td>\n",
       "      <td>1311441</td>\n",
       "      <td>5000</td>\n",
       "      <td>5000</td>\n",
       "      <td>5000.0</td>\n",
       "      <td>36 months</td>\n",
       "      <td>7.90%</td>\n",
       "      <td>156.46</td>\n",
       "      <td>A</td>\n",
       "      <td>A4</td>\n",
       "      <td>...</td>\n",
       "      <td>632.21</td>\n",
       "      <td>0.00</td>\n",
       "      <td>0.00</td>\n",
       "      <td>0.00</td>\n",
       "      <td>Jan-15</td>\n",
       "      <td>161.03</td>\n",
       "      <td>NaN</td>\n",
       "      <td>Jan-16</td>\n",
       "      <td>0.0</td>\n",
       "      <td>0.0</td>\n",
       "    </tr>\n",
       "    <tr>\n",
       "      <th>6</th>\n",
       "      <td>1069639</td>\n",
       "      <td>1304742</td>\n",
       "      <td>7000</td>\n",
       "      <td>7000</td>\n",
       "      <td>7000.0</td>\n",
       "      <td>60 months</td>\n",
       "      <td>15.96%</td>\n",
       "      <td>170.08</td>\n",
       "      <td>C</td>\n",
       "      <td>C5</td>\n",
       "      <td>...</td>\n",
       "      <td>3125.23</td>\n",
       "      <td>0.00</td>\n",
       "      <td>0.00</td>\n",
       "      <td>0.00</td>\n",
       "      <td>May-16</td>\n",
       "      <td>1313.76</td>\n",
       "      <td>NaN</td>\n",
       "      <td>May-16</td>\n",
       "      <td>0.0</td>\n",
       "      <td>0.0</td>\n",
       "    </tr>\n",
       "    <tr>\n",
       "      <th>7</th>\n",
       "      <td>1072053</td>\n",
       "      <td>1288686</td>\n",
       "      <td>3000</td>\n",
       "      <td>3000</td>\n",
       "      <td>3000.0</td>\n",
       "      <td>36 months</td>\n",
       "      <td>18.64%</td>\n",
       "      <td>109.43</td>\n",
       "      <td>E</td>\n",
       "      <td>E1</td>\n",
       "      <td>...</td>\n",
       "      <td>939.14</td>\n",
       "      <td>0.00</td>\n",
       "      <td>0.00</td>\n",
       "      <td>0.00</td>\n",
       "      <td>Jan-15</td>\n",
       "      <td>111.34</td>\n",
       "      <td>NaN</td>\n",
       "      <td>Dec-14</td>\n",
       "      <td>0.0</td>\n",
       "      <td>0.0</td>\n",
       "    </tr>\n",
       "    <tr>\n",
       "      <th>8</th>\n",
       "      <td>1071795</td>\n",
       "      <td>1306957</td>\n",
       "      <td>5600</td>\n",
       "      <td>5600</td>\n",
       "      <td>5600.0</td>\n",
       "      <td>60 months</td>\n",
       "      <td>21.28%</td>\n",
       "      <td>152.39</td>\n",
       "      <td>F</td>\n",
       "      <td>F2</td>\n",
       "      <td>...</td>\n",
       "      <td>294.94</td>\n",
       "      <td>0.00</td>\n",
       "      <td>189.06</td>\n",
       "      <td>2.09</td>\n",
       "      <td>Apr-12</td>\n",
       "      <td>152.39</td>\n",
       "      <td>NaN</td>\n",
       "      <td>Aug-12</td>\n",
       "      <td>0.0</td>\n",
       "      <td>0.0</td>\n",
       "    </tr>\n",
       "    <tr>\n",
       "      <th>9</th>\n",
       "      <td>1071570</td>\n",
       "      <td>1306721</td>\n",
       "      <td>5375</td>\n",
       "      <td>5375</td>\n",
       "      <td>5350.0</td>\n",
       "      <td>60 months</td>\n",
       "      <td>12.69%</td>\n",
       "      <td>121.45</td>\n",
       "      <td>B</td>\n",
       "      <td>B5</td>\n",
       "      <td>...</td>\n",
       "      <td>533.42</td>\n",
       "      <td>0.00</td>\n",
       "      <td>269.29</td>\n",
       "      <td>2.52</td>\n",
       "      <td>Nov-12</td>\n",
       "      <td>121.45</td>\n",
       "      <td>NaN</td>\n",
       "      <td>Mar-13</td>\n",
       "      <td>0.0</td>\n",
       "      <td>0.0</td>\n",
       "    </tr>\n",
       "  </tbody>\n",
       "</table>\n",
       "<p>10 rows × 49 columns</p>\n",
       "</div>"
      ],
      "text/plain": [
       "        id  member_id  loan_amnt  funded_amnt  funded_amnt_inv        term  \\\n",
       "0  1077501    1296599       5000         5000           4975.0   36 months   \n",
       "1  1077430    1314167       2500         2500           2500.0   60 months   \n",
       "2  1077175    1313524       2400         2400           2400.0   36 months   \n",
       "3  1076863    1277178      10000        10000          10000.0   36 months   \n",
       "4  1075358    1311748       3000         3000           3000.0   60 months   \n",
       "5  1075269    1311441       5000         5000           5000.0   36 months   \n",
       "6  1069639    1304742       7000         7000           7000.0   60 months   \n",
       "7  1072053    1288686       3000         3000           3000.0   36 months   \n",
       "8  1071795    1306957       5600         5600           5600.0   60 months   \n",
       "9  1071570    1306721       5375         5375           5350.0   60 months   \n",
       "\n",
       "  int_rate  installment grade sub_grade  ... total_rec_int total_rec_late_fee  \\\n",
       "0   10.65%       162.87     B        B2  ...        863.16               0.00   \n",
       "1   15.27%        59.83     C        C4  ...        435.17               0.00   \n",
       "2   15.96%        84.33     C        C5  ...        605.67               0.00   \n",
       "3   13.49%       339.31     C        C1  ...       2214.92              16.97   \n",
       "4   12.69%        67.79     B        B5  ...       1037.39               0.00   \n",
       "5    7.90%       156.46     A        A4  ...        632.21               0.00   \n",
       "6   15.96%       170.08     C        C5  ...       3125.23               0.00   \n",
       "7   18.64%       109.43     E        E1  ...        939.14               0.00   \n",
       "8   21.28%       152.39     F        F2  ...        294.94               0.00   \n",
       "9   12.69%       121.45     B        B5  ...        533.42               0.00   \n",
       "\n",
       "  recoveries  collection_recovery_fee last_pymnt_d last_pymnt_amnt  \\\n",
       "0       0.00                     0.00       Jan-15          171.62   \n",
       "1     117.08                     1.11       Apr-13          119.66   \n",
       "2       0.00                     0.00       Jun-14          649.91   \n",
       "3       0.00                     0.00       Jan-15          357.48   \n",
       "4       0.00                     0.00       May-16           67.79   \n",
       "5       0.00                     0.00       Jan-15          161.03   \n",
       "6       0.00                     0.00       May-16         1313.76   \n",
       "7       0.00                     0.00       Jan-15          111.34   \n",
       "8     189.06                     2.09       Apr-12          152.39   \n",
       "9     269.29                     2.52       Nov-12          121.45   \n",
       "\n",
       "  next_pymnt_d last_credit_pull_d chargeoff_within_12_mths  \\\n",
       "0          NaN             May-16                      0.0   \n",
       "1          NaN             Sep-13                      0.0   \n",
       "2          NaN             May-16                      0.0   \n",
       "3          NaN             Apr-16                      0.0   \n",
       "4       Jun-16             May-16                      0.0   \n",
       "5          NaN             Jan-16                      0.0   \n",
       "6          NaN             May-16                      0.0   \n",
       "7          NaN             Dec-14                      0.0   \n",
       "8          NaN             Aug-12                      0.0   \n",
       "9          NaN             Mar-13                      0.0   \n",
       "\n",
       "  pub_rec_bankruptcies  \n",
       "0                  0.0  \n",
       "1                  0.0  \n",
       "2                  0.0  \n",
       "3                  0.0  \n",
       "4                  0.0  \n",
       "5                  0.0  \n",
       "6                  0.0  \n",
       "7                  0.0  \n",
       "8                  0.0  \n",
       "9                  0.0  \n",
       "\n",
       "[10 rows x 49 columns]"
      ]
     },
     "execution_count": 35,
     "metadata": {},
     "output_type": "execute_result"
    }
   ],
   "source": [
    "loanDf.drop(columnDropList,axis=1,inplace=True)\n",
    "loanDf.head(10)"
   ]
  },
  {
   "cell_type": "markdown",
   "id": "77dea473",
   "metadata": {},
   "source": [
    "#### Lets read the data Dictionary to find out which data is irrelevant to our needs"
   ]
  },
  {
   "cell_type": "code",
   "execution_count": 36,
   "id": "4f008664",
   "metadata": {},
   "outputs": [
    {
     "name": "stdout",
     "output_type": "stream",
     "text": [
      "|     | LoanStatNew                    | Description                                                                                                                                                                                                        |\n",
      "|----:|:-------------------------------|:-------------------------------------------------------------------------------------------------------------------------------------------------------------------------------------------------------------------|\n",
      "|   0 | acc_now_delinq                 | The number of accounts on which the borrower is now delinquent.                                                                                                                                                    |\n",
      "|   1 | acc_open_past_24mths           | Number of trades opened in past 24 months.                                                                                                                                                                         |\n",
      "|   2 | addr_state                     | The state provided by the borrower in the loan application                                                                                                                                                         |\n",
      "|   3 | all_util                       | Balance to credit limit on all trades                                                                                                                                                                              |\n",
      "|   4 | annual_inc                     | The self-reported annual income provided by the borrower during registration.                                                                                                                                      |\n",
      "|   5 | annual_inc_joint               | The combined self-reported annual income provided by the co-borrowers during registration                                                                                                                          |\n",
      "|   6 | application_type               | Indicates whether the loan is an individual application or a joint application with two co-borrowers                                                                                                               |\n",
      "|   7 | avg_cur_bal                    | Average current balance of all accounts                                                                                                                                                                            |\n",
      "|   8 | bc_open_to_buy                 | Total open to buy on revolving bankcards.                                                                                                                                                                          |\n",
      "|   9 | bc_util                        | Ratio of total current balance to high credit/credit limit for all bankcard accounts.                                                                                                                              |\n",
      "|  10 | chargeoff_within_12_mths       | Number of charge-offs within 12 months                                                                                                                                                                             |\n",
      "|  11 | collection_recovery_fee        | post charge off collection fee                                                                                                                                                                                     |\n",
      "|  12 | collections_12_mths_ex_med     | Number of collections in 12 months excluding medical collections                                                                                                                                                   |\n",
      "|  13 | delinq_2yrs                    | The number of 30+ days past-due incidences of delinquency in the borrower's credit file for the past 2 years                                                                                                       |\n",
      "|  14 | delinq_amnt                    | The past-due amount owed for the accounts on which the borrower is now delinquent.                                                                                                                                 |\n",
      "|  15 | desc                           | Loan description provided by the borrower                                                                                                                                                                          |\n",
      "|  16 | dti                            | A ratio calculated using the borrower’s total monthly debt payments on the total debt obligations, excluding mortgage and the requested LC loan, divided by the borrower’s self-reported monthly income.           |\n",
      "|  17 | dti_joint                      | A ratio calculated using the co-borrowers' total monthly payments on the total debt obligations, excluding mortgages and the requested LC loan, divided by the co-borrowers' combined self-reported monthly income |\n",
      "|  18 | earliest_cr_line               | The month the borrower's earliest reported credit line was opened                                                                                                                                                  |\n",
      "|  19 | emp_length                     | Employment length in years. Possible values are between 0 and 10 where 0 means less than one year and 10 means ten or more years.                                                                                  |\n",
      "|  20 | emp_title                      | The job title supplied by the Borrower when applying for the loan.*                                                                                                                                                |\n",
      "|  21 | fico_range_high                | The upper boundary range the borrower’s FICO at loan origination belongs to.                                                                                                                                       |\n",
      "|  22 | fico_range_low                 | The lower boundary range the borrower’s FICO at loan origination belongs to.                                                                                                                                       |\n",
      "|  23 | funded_amnt                    | The total amount committed to that loan at that point in time.                                                                                                                                                     |\n",
      "|  24 | funded_amnt_inv                | The total amount committed by investors for that loan at that point in time.                                                                                                                                       |\n",
      "|  25 | grade                          | LC assigned loan grade                                                                                                                                                                                             |\n",
      "|  26 | home_ownership                 | The home ownership status provided by the borrower during registration. Our values are: RENT, OWN, MORTGAGE, OTHER.                                                                                                |\n",
      "|  27 | id                             | A unique LC assigned ID for the loan listing.                                                                                                                                                                      |\n",
      "|  28 | il_util                        | Ratio of total current balance to high credit/credit limit on all install acct                                                                                                                                     |\n",
      "|  29 | initial_list_status            | The initial listing status of the loan. Possible values are – W, F                                                                                                                                                 |\n",
      "|  30 | inq_fi                         | Number of personal finance inquiries                                                                                                                                                                               |\n",
      "|  31 | inq_last_12m                   | Number of credit inquiries in past 12 months                                                                                                                                                                       |\n",
      "|  32 | inq_last_6mths                 | The number of inquiries in past 6 months (excluding auto and mortgage inquiries)                                                                                                                                   |\n",
      "|  33 | installment                    | The monthly payment owed by the borrower if the loan originates.                                                                                                                                                   |\n",
      "|  34 | int_rate                       | Interest Rate on the loan                                                                                                                                                                                          |\n",
      "|  35 | issue_d                        | The month which the loan was funded                                                                                                                                                                                |\n",
      "|  36 | last_credit_pull_d             | The most recent month LC pulled credit for this loan                                                                                                                                                               |\n",
      "|  37 | last_fico_range_high           | The upper boundary range the borrower’s last FICO pulled belongs to.                                                                                                                                               |\n",
      "|  38 | last_fico_range_low            | The lower boundary range the borrower’s last FICO pulled belongs to.                                                                                                                                               |\n",
      "|  39 | last_pymnt_amnt                | Last total payment amount received                                                                                                                                                                                 |\n",
      "|  40 | last_pymnt_d                   | Last month payment was received                                                                                                                                                                                    |\n",
      "|  41 | loan_amnt                      | The listed amount of the loan applied for by the borrower. If at some point in time, the credit department reduces the loan amount, then it will be reflected in this value.                                       |\n",
      "|  42 | loan_status                    | Current status of the loan                                                                                                                                                                                         |\n",
      "|  43 | max_bal_bc                     | Maximum current balance owed on all revolving accounts                                                                                                                                                             |\n",
      "|  44 | member_id                      | A unique LC assigned Id for the borrower member.                                                                                                                                                                   |\n",
      "|  45 | mo_sin_old_il_acct             | Months since oldest bank installment account opened                                                                                                                                                                |\n",
      "|  46 | mo_sin_old_rev_tl_op           | Months since oldest revolving account opened                                                                                                                                                                       |\n",
      "|  47 | mo_sin_rcnt_rev_tl_op          | Months since most recent revolving account opened                                                                                                                                                                  |\n",
      "|  48 | mo_sin_rcnt_tl                 | Months since most recent account opened                                                                                                                                                                            |\n",
      "|  49 | mort_acc                       | Number of mortgage accounts.                                                                                                                                                                                       |\n",
      "|  50 | mths_since_last_delinq         | The number of months since the borrower's last delinquency.                                                                                                                                                        |\n",
      "|  51 | mths_since_last_major_derog    | Months since most recent 90-day or worse rating                                                                                                                                                                    |\n",
      "|  52 | mths_since_last_record         | The number of months since the last public record.                                                                                                                                                                 |\n",
      "|  53 | mths_since_rcnt_il             | Months since most recent installment accounts opened                                                                                                                                                               |\n",
      "|  54 | mths_since_recent_bc           | Months since most recent bankcard account opened.                                                                                                                                                                  |\n",
      "|  55 | mths_since_recent_bc_dlq       | Months since most recent bankcard delinquency                                                                                                                                                                      |\n",
      "|  56 | mths_since_recent_inq          | Months since most recent inquiry.                                                                                                                                                                                  |\n",
      "|  57 | mths_since_recent_revol_delinq | Months since most recent revolving delinquency.                                                                                                                                                                    |\n",
      "|  58 | next_pymnt_d                   | Next scheduled payment date                                                                                                                                                                                        |\n",
      "|  59 | num_accts_ever_120_pd          | Number of accounts ever 120 or more days past due                                                                                                                                                                  |\n",
      "|  60 | num_actv_bc_tl                 | Number of currently active bankcard accounts                                                                                                                                                                       |\n",
      "|  61 | num_actv_rev_tl                | Number of currently active revolving trades                                                                                                                                                                        |\n",
      "|  62 | num_bc_sats                    | Number of satisfactory bankcard accounts                                                                                                                                                                           |\n",
      "|  63 | num_bc_tl                      | Number of bankcard accounts                                                                                                                                                                                        |\n",
      "|  64 | num_il_tl                      | Number of installment accounts                                                                                                                                                                                     |\n",
      "|  65 | num_op_rev_tl                  | Number of open revolving accounts                                                                                                                                                                                  |\n",
      "|  66 | num_rev_accts                  | Number of revolving accounts                                                                                                                                                                                       |\n",
      "|  67 | num_rev_tl_bal_gt_0            | Number of revolving trades with balance >0                                                                                                                                                                         |\n",
      "|  68 | num_sats                       | Number of satisfactory accounts                                                                                                                                                                                    |\n",
      "|  69 | num_tl_120dpd_2m               | Number of accounts currently 120 days past due (updated in past 2 months)                                                                                                                                          |\n",
      "|  70 | num_tl_30dpd                   | Number of accounts currently 30 days past due (updated in past 2 months)                                                                                                                                           |\n",
      "|  71 | num_tl_90g_dpd_24m             | Number of accounts 90 or more days past due in last 24 months                                                                                                                                                      |\n",
      "|  72 | num_tl_op_past_12m             | Number of accounts opened in past 12 months                                                                                                                                                                        |\n",
      "|  73 | open_acc                       | The number of open credit lines in the borrower's credit file.                                                                                                                                                     |\n",
      "|  74 | open_acc_6m                    | Number of open trades in last 6 months                                                                                                                                                                             |\n",
      "|  75 | open_il_12m                    | Number of installment accounts opened in past 12 months                                                                                                                                                            |\n",
      "|  76 | open_il_24m                    | Number of installment accounts opened in past 24 months                                                                                                                                                            |\n",
      "|  77 | open_il_6m                     | Number of currently active installment trades                                                                                                                                                                      |\n",
      "|  78 | open_rv_12m                    | Number of revolving trades opened in past 12 months                                                                                                                                                                |\n",
      "|  79 | open_rv_24m                    | Number of revolving trades opened in past 24 months                                                                                                                                                                |\n",
      "|  80 | out_prncp                      | Remaining outstanding principal for total amount funded                                                                                                                                                            |\n",
      "|  81 | out_prncp_inv                  | Remaining outstanding principal for portion of total amount funded by investors                                                                                                                                    |\n",
      "|  82 | pct_tl_nvr_dlq                 | Percent of trades never delinquent                                                                                                                                                                                 |\n",
      "|  83 | percent_bc_gt_75               | Percentage of all bankcard accounts > 75% of limit.                                                                                                                                                                |\n",
      "|  84 | policy_code                    | publicly available policy_code=1                                                                                                                                                                                   |\n",
      "|     |                                | new products not publicly available policy_code=2                                                                                                                                                                  |\n",
      "|  85 | pub_rec                        | Number of derogatory public records                                                                                                                                                                                |\n",
      "|  86 | pub_rec_bankruptcies           | Number of public record bankruptcies                                                                                                                                                                               |\n",
      "|  87 | purpose                        | A category provided by the borrower for the loan request.                                                                                                                                                          |\n",
      "|  88 | pymnt_plan                     | Indicates if a payment plan has been put in place for the loan                                                                                                                                                     |\n",
      "|  89 | recoveries                     | post charge off gross recovery                                                                                                                                                                                     |\n",
      "|  90 | revol_bal                      | Total credit revolving balance                                                                                                                                                                                     |\n",
      "|  91 | revol_util                     | Revolving line utilization rate, or the amount of credit the borrower is using relative to all available revolving credit.                                                                                         |\n",
      "|  92 | sub_grade                      | LC assigned loan subgrade                                                                                                                                                                                          |\n",
      "|  93 | tax_liens                      | Number of tax liens                                                                                                                                                                                                |\n",
      "|  94 | term                           | The number of payments on the loan. Values are in months and can be either 36 or 60.                                                                                                                               |\n",
      "|  95 | title                          | The loan title provided by the borrower                                                                                                                                                                            |\n",
      "|  96 | tot_coll_amt                   | Total collection amounts ever owed                                                                                                                                                                                 |\n",
      "|  97 | tot_cur_bal                    | Total current balance of all accounts                                                                                                                                                                              |\n",
      "|  98 | tot_hi_cred_lim                | Total high credit/credit limit                                                                                                                                                                                     |\n",
      "|  99 | total_acc                      | The total number of credit lines currently in the borrower's credit file                                                                                                                                           |\n",
      "| 100 | total_bal_ex_mort              | Total credit balance excluding mortgage                                                                                                                                                                            |\n",
      "| 101 | total_bal_il                   | Total current balance of all installment accounts                                                                                                                                                                  |\n",
      "| 102 | total_bc_limit                 | Total bankcard high credit/credit limit                                                                                                                                                                            |\n",
      "| 103 | total_cu_tl                    | Number of finance trades                                                                                                                                                                                           |\n",
      "| 104 | total_il_high_credit_limit     | Total installment high credit/credit limit                                                                                                                                                                         |\n",
      "| 105 | total_pymnt                    | Payments received to date for total amount funded                                                                                                                                                                  |\n",
      "| 106 | total_pymnt_inv                | Payments received to date for portion of total amount funded by investors                                                                                                                                          |\n",
      "| 107 | total_rec_int                  | Interest received to date                                                                                                                                                                                          |\n",
      "| 108 | total_rec_late_fee             | Late fees received to date                                                                                                                                                                                         |\n",
      "| 109 | total_rec_prncp                | Principal received to date                                                                                                                                                                                         |\n",
      "| 110 | total_rev_hi_lim               | Total revolving high credit/credit limit                                                                                                                                                                           |\n",
      "| 111 | url                            | URL for the LC page with listing data.                                                                                                                                                                             |\n",
      "| 112 | verification_status            | Indicates if income was verified by LC, not verified, or if the income source was verified                                                                                                                         |\n",
      "| 113 | verified_status_joint          | Indicates if the co-borrowers' joint income was verified by LC, not verified, or if the income source was verified                                                                                                 |\n",
      "| 114 | zip_code                       | The first 3 numbers of the zip code provided by the borrower in the loan application.                                                                                                                              |\n",
      "| 115 | nan                            | nan                                                                                                                                                                                                                |\n",
      "| 116 | nan                            | * Employer Title replaces Employer Name for all loans listed after 9/23/2013                                                                                                                                       |\n"
     ]
    }
   ],
   "source": [
    "dataDict = pd.read_excel('datas/Data_Dictionary.xlsx')\n",
    "print(dataDict.to_markdown())"
   ]
  },
  {
   "cell_type": "markdown",
   "id": "b865f468",
   "metadata": {},
   "source": [
    "#### addr_state,emp_title,id,member_id,title,url,zip_code are the columns that we can never use to predict default as they have irrelevant data for this purpose , so lets drop them "
   ]
  },
  {
   "cell_type": "code",
   "execution_count": 37,
   "id": "fc7b76a9",
   "metadata": {
    "scrolled": true
   },
   "outputs": [
    {
     "data": {
      "text/html": [
       "<div>\n",
       "<style scoped>\n",
       "    .dataframe tbody tr th:only-of-type {\n",
       "        vertical-align: middle;\n",
       "    }\n",
       "\n",
       "    .dataframe tbody tr th {\n",
       "        vertical-align: top;\n",
       "    }\n",
       "\n",
       "    .dataframe thead th {\n",
       "        text-align: right;\n",
       "    }\n",
       "</style>\n",
       "<table border=\"1\" class=\"dataframe\">\n",
       "  <thead>\n",
       "    <tr style=\"text-align: right;\">\n",
       "      <th></th>\n",
       "      <th>loan_amnt</th>\n",
       "      <th>funded_amnt</th>\n",
       "      <th>funded_amnt_inv</th>\n",
       "      <th>term</th>\n",
       "      <th>int_rate</th>\n",
       "      <th>installment</th>\n",
       "      <th>grade</th>\n",
       "      <th>sub_grade</th>\n",
       "      <th>emp_length</th>\n",
       "      <th>home_ownership</th>\n",
       "      <th>...</th>\n",
       "      <th>total_rec_int</th>\n",
       "      <th>total_rec_late_fee</th>\n",
       "      <th>recoveries</th>\n",
       "      <th>collection_recovery_fee</th>\n",
       "      <th>last_pymnt_d</th>\n",
       "      <th>last_pymnt_amnt</th>\n",
       "      <th>next_pymnt_d</th>\n",
       "      <th>last_credit_pull_d</th>\n",
       "      <th>chargeoff_within_12_mths</th>\n",
       "      <th>pub_rec_bankruptcies</th>\n",
       "    </tr>\n",
       "  </thead>\n",
       "  <tbody>\n",
       "    <tr>\n",
       "      <th>0</th>\n",
       "      <td>5000</td>\n",
       "      <td>5000</td>\n",
       "      <td>4975.0</td>\n",
       "      <td>36 months</td>\n",
       "      <td>10.65%</td>\n",
       "      <td>162.87</td>\n",
       "      <td>B</td>\n",
       "      <td>B2</td>\n",
       "      <td>10+ years</td>\n",
       "      <td>RENT</td>\n",
       "      <td>...</td>\n",
       "      <td>863.16</td>\n",
       "      <td>0.00</td>\n",
       "      <td>0.00</td>\n",
       "      <td>0.00</td>\n",
       "      <td>Jan-15</td>\n",
       "      <td>171.62</td>\n",
       "      <td>NaN</td>\n",
       "      <td>May-16</td>\n",
       "      <td>0.0</td>\n",
       "      <td>0.0</td>\n",
       "    </tr>\n",
       "    <tr>\n",
       "      <th>1</th>\n",
       "      <td>2500</td>\n",
       "      <td>2500</td>\n",
       "      <td>2500.0</td>\n",
       "      <td>60 months</td>\n",
       "      <td>15.27%</td>\n",
       "      <td>59.83</td>\n",
       "      <td>C</td>\n",
       "      <td>C4</td>\n",
       "      <td>&lt; 1 year</td>\n",
       "      <td>RENT</td>\n",
       "      <td>...</td>\n",
       "      <td>435.17</td>\n",
       "      <td>0.00</td>\n",
       "      <td>117.08</td>\n",
       "      <td>1.11</td>\n",
       "      <td>Apr-13</td>\n",
       "      <td>119.66</td>\n",
       "      <td>NaN</td>\n",
       "      <td>Sep-13</td>\n",
       "      <td>0.0</td>\n",
       "      <td>0.0</td>\n",
       "    </tr>\n",
       "    <tr>\n",
       "      <th>2</th>\n",
       "      <td>2400</td>\n",
       "      <td>2400</td>\n",
       "      <td>2400.0</td>\n",
       "      <td>36 months</td>\n",
       "      <td>15.96%</td>\n",
       "      <td>84.33</td>\n",
       "      <td>C</td>\n",
       "      <td>C5</td>\n",
       "      <td>10+ years</td>\n",
       "      <td>RENT</td>\n",
       "      <td>...</td>\n",
       "      <td>605.67</td>\n",
       "      <td>0.00</td>\n",
       "      <td>0.00</td>\n",
       "      <td>0.00</td>\n",
       "      <td>Jun-14</td>\n",
       "      <td>649.91</td>\n",
       "      <td>NaN</td>\n",
       "      <td>May-16</td>\n",
       "      <td>0.0</td>\n",
       "      <td>0.0</td>\n",
       "    </tr>\n",
       "    <tr>\n",
       "      <th>3</th>\n",
       "      <td>10000</td>\n",
       "      <td>10000</td>\n",
       "      <td>10000.0</td>\n",
       "      <td>36 months</td>\n",
       "      <td>13.49%</td>\n",
       "      <td>339.31</td>\n",
       "      <td>C</td>\n",
       "      <td>C1</td>\n",
       "      <td>10+ years</td>\n",
       "      <td>RENT</td>\n",
       "      <td>...</td>\n",
       "      <td>2214.92</td>\n",
       "      <td>16.97</td>\n",
       "      <td>0.00</td>\n",
       "      <td>0.00</td>\n",
       "      <td>Jan-15</td>\n",
       "      <td>357.48</td>\n",
       "      <td>NaN</td>\n",
       "      <td>Apr-16</td>\n",
       "      <td>0.0</td>\n",
       "      <td>0.0</td>\n",
       "    </tr>\n",
       "    <tr>\n",
       "      <th>4</th>\n",
       "      <td>3000</td>\n",
       "      <td>3000</td>\n",
       "      <td>3000.0</td>\n",
       "      <td>60 months</td>\n",
       "      <td>12.69%</td>\n",
       "      <td>67.79</td>\n",
       "      <td>B</td>\n",
       "      <td>B5</td>\n",
       "      <td>1 year</td>\n",
       "      <td>RENT</td>\n",
       "      <td>...</td>\n",
       "      <td>1037.39</td>\n",
       "      <td>0.00</td>\n",
       "      <td>0.00</td>\n",
       "      <td>0.00</td>\n",
       "      <td>May-16</td>\n",
       "      <td>67.79</td>\n",
       "      <td>Jun-16</td>\n",
       "      <td>May-16</td>\n",
       "      <td>0.0</td>\n",
       "      <td>0.0</td>\n",
       "    </tr>\n",
       "    <tr>\n",
       "      <th>5</th>\n",
       "      <td>5000</td>\n",
       "      <td>5000</td>\n",
       "      <td>5000.0</td>\n",
       "      <td>36 months</td>\n",
       "      <td>7.90%</td>\n",
       "      <td>156.46</td>\n",
       "      <td>A</td>\n",
       "      <td>A4</td>\n",
       "      <td>3 years</td>\n",
       "      <td>RENT</td>\n",
       "      <td>...</td>\n",
       "      <td>632.21</td>\n",
       "      <td>0.00</td>\n",
       "      <td>0.00</td>\n",
       "      <td>0.00</td>\n",
       "      <td>Jan-15</td>\n",
       "      <td>161.03</td>\n",
       "      <td>NaN</td>\n",
       "      <td>Jan-16</td>\n",
       "      <td>0.0</td>\n",
       "      <td>0.0</td>\n",
       "    </tr>\n",
       "    <tr>\n",
       "      <th>6</th>\n",
       "      <td>7000</td>\n",
       "      <td>7000</td>\n",
       "      <td>7000.0</td>\n",
       "      <td>60 months</td>\n",
       "      <td>15.96%</td>\n",
       "      <td>170.08</td>\n",
       "      <td>C</td>\n",
       "      <td>C5</td>\n",
       "      <td>8 years</td>\n",
       "      <td>RENT</td>\n",
       "      <td>...</td>\n",
       "      <td>3125.23</td>\n",
       "      <td>0.00</td>\n",
       "      <td>0.00</td>\n",
       "      <td>0.00</td>\n",
       "      <td>May-16</td>\n",
       "      <td>1313.76</td>\n",
       "      <td>NaN</td>\n",
       "      <td>May-16</td>\n",
       "      <td>0.0</td>\n",
       "      <td>0.0</td>\n",
       "    </tr>\n",
       "    <tr>\n",
       "      <th>7</th>\n",
       "      <td>3000</td>\n",
       "      <td>3000</td>\n",
       "      <td>3000.0</td>\n",
       "      <td>36 months</td>\n",
       "      <td>18.64%</td>\n",
       "      <td>109.43</td>\n",
       "      <td>E</td>\n",
       "      <td>E1</td>\n",
       "      <td>9 years</td>\n",
       "      <td>RENT</td>\n",
       "      <td>...</td>\n",
       "      <td>939.14</td>\n",
       "      <td>0.00</td>\n",
       "      <td>0.00</td>\n",
       "      <td>0.00</td>\n",
       "      <td>Jan-15</td>\n",
       "      <td>111.34</td>\n",
       "      <td>NaN</td>\n",
       "      <td>Dec-14</td>\n",
       "      <td>0.0</td>\n",
       "      <td>0.0</td>\n",
       "    </tr>\n",
       "    <tr>\n",
       "      <th>8</th>\n",
       "      <td>5600</td>\n",
       "      <td>5600</td>\n",
       "      <td>5600.0</td>\n",
       "      <td>60 months</td>\n",
       "      <td>21.28%</td>\n",
       "      <td>152.39</td>\n",
       "      <td>F</td>\n",
       "      <td>F2</td>\n",
       "      <td>4 years</td>\n",
       "      <td>OWN</td>\n",
       "      <td>...</td>\n",
       "      <td>294.94</td>\n",
       "      <td>0.00</td>\n",
       "      <td>189.06</td>\n",
       "      <td>2.09</td>\n",
       "      <td>Apr-12</td>\n",
       "      <td>152.39</td>\n",
       "      <td>NaN</td>\n",
       "      <td>Aug-12</td>\n",
       "      <td>0.0</td>\n",
       "      <td>0.0</td>\n",
       "    </tr>\n",
       "    <tr>\n",
       "      <th>9</th>\n",
       "      <td>5375</td>\n",
       "      <td>5375</td>\n",
       "      <td>5350.0</td>\n",
       "      <td>60 months</td>\n",
       "      <td>12.69%</td>\n",
       "      <td>121.45</td>\n",
       "      <td>B</td>\n",
       "      <td>B5</td>\n",
       "      <td>&lt; 1 year</td>\n",
       "      <td>RENT</td>\n",
       "      <td>...</td>\n",
       "      <td>533.42</td>\n",
       "      <td>0.00</td>\n",
       "      <td>269.29</td>\n",
       "      <td>2.52</td>\n",
       "      <td>Nov-12</td>\n",
       "      <td>121.45</td>\n",
       "      <td>NaN</td>\n",
       "      <td>Mar-13</td>\n",
       "      <td>0.0</td>\n",
       "      <td>0.0</td>\n",
       "    </tr>\n",
       "  </tbody>\n",
       "</table>\n",
       "<p>10 rows × 42 columns</p>\n",
       "</div>"
      ],
      "text/plain": [
       "   loan_amnt  funded_amnt  funded_amnt_inv        term int_rate  installment  \\\n",
       "0       5000         5000           4975.0   36 months   10.65%       162.87   \n",
       "1       2500         2500           2500.0   60 months   15.27%        59.83   \n",
       "2       2400         2400           2400.0   36 months   15.96%        84.33   \n",
       "3      10000        10000          10000.0   36 months   13.49%       339.31   \n",
       "4       3000         3000           3000.0   60 months   12.69%        67.79   \n",
       "5       5000         5000           5000.0   36 months    7.90%       156.46   \n",
       "6       7000         7000           7000.0   60 months   15.96%       170.08   \n",
       "7       3000         3000           3000.0   36 months   18.64%       109.43   \n",
       "8       5600         5600           5600.0   60 months   21.28%       152.39   \n",
       "9       5375         5375           5350.0   60 months   12.69%       121.45   \n",
       "\n",
       "  grade sub_grade emp_length home_ownership  ...  total_rec_int  \\\n",
       "0     B        B2  10+ years           RENT  ...         863.16   \n",
       "1     C        C4   < 1 year           RENT  ...         435.17   \n",
       "2     C        C5  10+ years           RENT  ...         605.67   \n",
       "3     C        C1  10+ years           RENT  ...        2214.92   \n",
       "4     B        B5     1 year           RENT  ...        1037.39   \n",
       "5     A        A4    3 years           RENT  ...         632.21   \n",
       "6     C        C5    8 years           RENT  ...        3125.23   \n",
       "7     E        E1    9 years           RENT  ...         939.14   \n",
       "8     F        F2    4 years            OWN  ...         294.94   \n",
       "9     B        B5   < 1 year           RENT  ...         533.42   \n",
       "\n",
       "  total_rec_late_fee recoveries collection_recovery_fee last_pymnt_d  \\\n",
       "0               0.00       0.00                    0.00       Jan-15   \n",
       "1               0.00     117.08                    1.11       Apr-13   \n",
       "2               0.00       0.00                    0.00       Jun-14   \n",
       "3              16.97       0.00                    0.00       Jan-15   \n",
       "4               0.00       0.00                    0.00       May-16   \n",
       "5               0.00       0.00                    0.00       Jan-15   \n",
       "6               0.00       0.00                    0.00       May-16   \n",
       "7               0.00       0.00                    0.00       Jan-15   \n",
       "8               0.00     189.06                    2.09       Apr-12   \n",
       "9               0.00     269.29                    2.52       Nov-12   \n",
       "\n",
       "  last_pymnt_amnt  next_pymnt_d  last_credit_pull_d chargeoff_within_12_mths  \\\n",
       "0          171.62           NaN              May-16                      0.0   \n",
       "1          119.66           NaN              Sep-13                      0.0   \n",
       "2          649.91           NaN              May-16                      0.0   \n",
       "3          357.48           NaN              Apr-16                      0.0   \n",
       "4           67.79        Jun-16              May-16                      0.0   \n",
       "5          161.03           NaN              Jan-16                      0.0   \n",
       "6         1313.76           NaN              May-16                      0.0   \n",
       "7          111.34           NaN              Dec-14                      0.0   \n",
       "8          152.39           NaN              Aug-12                      0.0   \n",
       "9          121.45           NaN              Mar-13                      0.0   \n",
       "\n",
       "   pub_rec_bankruptcies  \n",
       "0                   0.0  \n",
       "1                   0.0  \n",
       "2                   0.0  \n",
       "3                   0.0  \n",
       "4                   0.0  \n",
       "5                   0.0  \n",
       "6                   0.0  \n",
       "7                   0.0  \n",
       "8                   0.0  \n",
       "9                   0.0  \n",
       "\n",
       "[10 rows x 42 columns]"
      ]
     },
     "execution_count": 37,
     "metadata": {},
     "output_type": "execute_result"
    }
   ],
   "source": [
    "loanDf.drop(['addr_state','emp_title','id','member_id','title','url','zip_code'],axis=1,inplace=True)\n",
    "loanDf.head(10)"
   ]
  },
  {
   "cell_type": "code",
   "execution_count": 38,
   "id": "e19a1ac4",
   "metadata": {},
   "outputs": [
    {
     "data": {
      "text/plain": [
       "                                                                                                                                                                                                                                                                                                                                                                                                                                                                                                                                                                                                                                                                              210\n",
       "Debt Consolidation                                                                                                                                                                                                                                                                                                                                                                                                                                                                                                                                                                                                                                                              8\n",
       "Camping Membership                                                                                                                                                                                                                                                                                                                                                                                                                                                                                                                                                                                                                                                              6\n",
       "personal loan                                                                                                                                                                                                                                                                                                                                                                                                                                                                                                                                                                                                                                                                   3\n",
       "credit card consolidation                                                                                                                                                                                                                                                                                                                                                                                                                                                                                                                                                                                                                                                       3\n",
       "                                                                                                                                                                                                                                                                                                                                                                                                                                                                                                                                                                                                                                                                             ... \n",
       "  Borrower added on 05/13/11 > I have a very stable income and have &quot;NEVER&quot; been delinquent on any accounts. I am interested in consolidating my credit card accounts along with a personal loan for the benefit of paying one payment a month versus multiple. Thank you.<br/>                                                                                                                                                                                                                                                                                                                                                                                       1\n",
       "  Borrower added on 05/13/11 > This loan is to partially finance a car. The payments will be very manageable for me.<br/>                                                                                                                                                                                                                                                                                                                                                                                                                                                                                                                                                       1\n",
       "  Borrower added on 05/13/11 > I am consolidating my bills to make it cheaper on bills. I am up for a promotion at my job and have been here three years already. I also have a fiance that has a very reliable job who also helps with finances. My requirement is that all bills are paid on time if not early. This is to keep good standings with all businesses and keep a awesome credit score.<br/> Borrower added on 05/16/11 > I am asking for this loan to pay off bills with higher interest rates and have a lower payment every month.<br/>                                                                                                                        1\n",
       "  Borrower added on 05/13/11 > Debt Consolidation<br/> Borrower added on 05/13/11 > I plan to use this money to consolidate bills with high monthly payments and improve cash flow.<br/> Borrower added on 05/13/11 > I have good credit and I have a very stable, solid and professional job that I have held for a long time - over 20 years.  I have a Bachelor's degree and I'm currently working on a masters.<br/> Borrower added on 05/13/11 > My mortgage and utilities run approx less than 2k per month including taxes.  I have sufficient income to pay off this loan. I simply want to take my open accounts and consolidate them into one easy payment.<br/>      1\n",
       "I plan to consolidate over $7,000 of debt: a combination of credit cards and student loans.                                                                                                                                                                                                                                                                                                                                                                                                                                                                                                                                                                                     1\n",
       "Name: desc, Length: 26527, dtype: int64"
      ]
     },
     "execution_count": 38,
     "metadata": {},
     "output_type": "execute_result"
    }
   ],
   "source": [
    "loanDf.desc.value_counts()"
   ]
  },
  {
   "cell_type": "markdown",
   "id": "27134882",
   "metadata": {},
   "source": [
    "#### desc column is fullly text so dropping it "
   ]
  },
  {
   "cell_type": "code",
   "execution_count": 39,
   "id": "f7241859",
   "metadata": {},
   "outputs": [
    {
     "data": {
      "text/html": [
       "<div>\n",
       "<style scoped>\n",
       "    .dataframe tbody tr th:only-of-type {\n",
       "        vertical-align: middle;\n",
       "    }\n",
       "\n",
       "    .dataframe tbody tr th {\n",
       "        vertical-align: top;\n",
       "    }\n",
       "\n",
       "    .dataframe thead th {\n",
       "        text-align: right;\n",
       "    }\n",
       "</style>\n",
       "<table border=\"1\" class=\"dataframe\">\n",
       "  <thead>\n",
       "    <tr style=\"text-align: right;\">\n",
       "      <th></th>\n",
       "      <th>loan_amnt</th>\n",
       "      <th>funded_amnt</th>\n",
       "      <th>funded_amnt_inv</th>\n",
       "      <th>term</th>\n",
       "      <th>int_rate</th>\n",
       "      <th>installment</th>\n",
       "      <th>grade</th>\n",
       "      <th>sub_grade</th>\n",
       "      <th>emp_length</th>\n",
       "      <th>home_ownership</th>\n",
       "      <th>...</th>\n",
       "      <th>total_rec_int</th>\n",
       "      <th>total_rec_late_fee</th>\n",
       "      <th>recoveries</th>\n",
       "      <th>collection_recovery_fee</th>\n",
       "      <th>last_pymnt_d</th>\n",
       "      <th>last_pymnt_amnt</th>\n",
       "      <th>next_pymnt_d</th>\n",
       "      <th>last_credit_pull_d</th>\n",
       "      <th>chargeoff_within_12_mths</th>\n",
       "      <th>pub_rec_bankruptcies</th>\n",
       "    </tr>\n",
       "  </thead>\n",
       "  <tbody>\n",
       "    <tr>\n",
       "      <th>0</th>\n",
       "      <td>5000</td>\n",
       "      <td>5000</td>\n",
       "      <td>4975.0</td>\n",
       "      <td>36 months</td>\n",
       "      <td>10.65%</td>\n",
       "      <td>162.87</td>\n",
       "      <td>B</td>\n",
       "      <td>B2</td>\n",
       "      <td>10+ years</td>\n",
       "      <td>RENT</td>\n",
       "      <td>...</td>\n",
       "      <td>863.16</td>\n",
       "      <td>0.00</td>\n",
       "      <td>0.00</td>\n",
       "      <td>0.00</td>\n",
       "      <td>Jan-15</td>\n",
       "      <td>171.62</td>\n",
       "      <td>NaN</td>\n",
       "      <td>May-16</td>\n",
       "      <td>0.0</td>\n",
       "      <td>0.0</td>\n",
       "    </tr>\n",
       "    <tr>\n",
       "      <th>1</th>\n",
       "      <td>2500</td>\n",
       "      <td>2500</td>\n",
       "      <td>2500.0</td>\n",
       "      <td>60 months</td>\n",
       "      <td>15.27%</td>\n",
       "      <td>59.83</td>\n",
       "      <td>C</td>\n",
       "      <td>C4</td>\n",
       "      <td>&lt; 1 year</td>\n",
       "      <td>RENT</td>\n",
       "      <td>...</td>\n",
       "      <td>435.17</td>\n",
       "      <td>0.00</td>\n",
       "      <td>117.08</td>\n",
       "      <td>1.11</td>\n",
       "      <td>Apr-13</td>\n",
       "      <td>119.66</td>\n",
       "      <td>NaN</td>\n",
       "      <td>Sep-13</td>\n",
       "      <td>0.0</td>\n",
       "      <td>0.0</td>\n",
       "    </tr>\n",
       "    <tr>\n",
       "      <th>2</th>\n",
       "      <td>2400</td>\n",
       "      <td>2400</td>\n",
       "      <td>2400.0</td>\n",
       "      <td>36 months</td>\n",
       "      <td>15.96%</td>\n",
       "      <td>84.33</td>\n",
       "      <td>C</td>\n",
       "      <td>C5</td>\n",
       "      <td>10+ years</td>\n",
       "      <td>RENT</td>\n",
       "      <td>...</td>\n",
       "      <td>605.67</td>\n",
       "      <td>0.00</td>\n",
       "      <td>0.00</td>\n",
       "      <td>0.00</td>\n",
       "      <td>Jun-14</td>\n",
       "      <td>649.91</td>\n",
       "      <td>NaN</td>\n",
       "      <td>May-16</td>\n",
       "      <td>0.0</td>\n",
       "      <td>0.0</td>\n",
       "    </tr>\n",
       "    <tr>\n",
       "      <th>3</th>\n",
       "      <td>10000</td>\n",
       "      <td>10000</td>\n",
       "      <td>10000.0</td>\n",
       "      <td>36 months</td>\n",
       "      <td>13.49%</td>\n",
       "      <td>339.31</td>\n",
       "      <td>C</td>\n",
       "      <td>C1</td>\n",
       "      <td>10+ years</td>\n",
       "      <td>RENT</td>\n",
       "      <td>...</td>\n",
       "      <td>2214.92</td>\n",
       "      <td>16.97</td>\n",
       "      <td>0.00</td>\n",
       "      <td>0.00</td>\n",
       "      <td>Jan-15</td>\n",
       "      <td>357.48</td>\n",
       "      <td>NaN</td>\n",
       "      <td>Apr-16</td>\n",
       "      <td>0.0</td>\n",
       "      <td>0.0</td>\n",
       "    </tr>\n",
       "    <tr>\n",
       "      <th>4</th>\n",
       "      <td>3000</td>\n",
       "      <td>3000</td>\n",
       "      <td>3000.0</td>\n",
       "      <td>60 months</td>\n",
       "      <td>12.69%</td>\n",
       "      <td>67.79</td>\n",
       "      <td>B</td>\n",
       "      <td>B5</td>\n",
       "      <td>1 year</td>\n",
       "      <td>RENT</td>\n",
       "      <td>...</td>\n",
       "      <td>1037.39</td>\n",
       "      <td>0.00</td>\n",
       "      <td>0.00</td>\n",
       "      <td>0.00</td>\n",
       "      <td>May-16</td>\n",
       "      <td>67.79</td>\n",
       "      <td>Jun-16</td>\n",
       "      <td>May-16</td>\n",
       "      <td>0.0</td>\n",
       "      <td>0.0</td>\n",
       "    </tr>\n",
       "  </tbody>\n",
       "</table>\n",
       "<p>5 rows × 41 columns</p>\n",
       "</div>"
      ],
      "text/plain": [
       "   loan_amnt  funded_amnt  funded_amnt_inv        term int_rate  installment  \\\n",
       "0       5000         5000           4975.0   36 months   10.65%       162.87   \n",
       "1       2500         2500           2500.0   60 months   15.27%        59.83   \n",
       "2       2400         2400           2400.0   36 months   15.96%        84.33   \n",
       "3      10000        10000          10000.0   36 months   13.49%       339.31   \n",
       "4       3000         3000           3000.0   60 months   12.69%        67.79   \n",
       "\n",
       "  grade sub_grade emp_length home_ownership  ...  total_rec_int  \\\n",
       "0     B        B2  10+ years           RENT  ...         863.16   \n",
       "1     C        C4   < 1 year           RENT  ...         435.17   \n",
       "2     C        C5  10+ years           RENT  ...         605.67   \n",
       "3     C        C1  10+ years           RENT  ...        2214.92   \n",
       "4     B        B5     1 year           RENT  ...        1037.39   \n",
       "\n",
       "  total_rec_late_fee recoveries collection_recovery_fee last_pymnt_d  \\\n",
       "0               0.00       0.00                    0.00       Jan-15   \n",
       "1               0.00     117.08                    1.11       Apr-13   \n",
       "2               0.00       0.00                    0.00       Jun-14   \n",
       "3              16.97       0.00                    0.00       Jan-15   \n",
       "4               0.00       0.00                    0.00       May-16   \n",
       "\n",
       "   last_pymnt_amnt  next_pymnt_d last_credit_pull_d  chargeoff_within_12_mths  \\\n",
       "0           171.62           NaN             May-16                       0.0   \n",
       "1           119.66           NaN             Sep-13                       0.0   \n",
       "2           649.91           NaN             May-16                       0.0   \n",
       "3           357.48           NaN             Apr-16                       0.0   \n",
       "4            67.79        Jun-16             May-16                       0.0   \n",
       "\n",
       "   pub_rec_bankruptcies  \n",
       "0                   0.0  \n",
       "1                   0.0  \n",
       "2                   0.0  \n",
       "3                   0.0  \n",
       "4                   0.0  \n",
       "\n",
       "[5 rows x 41 columns]"
      ]
     },
     "execution_count": 39,
     "metadata": {},
     "output_type": "execute_result"
    }
   ],
   "source": [
    "loanDf.drop(['desc'],axis=1,inplace=True)\n",
    "loanDf.head(5)"
   ]
  },
  {
   "cell_type": "markdown",
   "id": "6973c7e0",
   "metadata": {},
   "source": [
    "#### Removing out_prncp_inv and total_pymnt_inv as they are only usefull to investors not for analyzing possible future default"
   ]
  },
  {
   "cell_type": "markdown",
   "id": "9ab5beb8",
   "metadata": {},
   "source": [
    "#### Removing funded_amnt as this is not the actual funded amount"
   ]
  },
  {
   "cell_type": "code",
   "execution_count": 40,
   "id": "84db14c8",
   "metadata": {},
   "outputs": [
    {
     "data": {
      "text/html": [
       "<div>\n",
       "<style scoped>\n",
       "    .dataframe tbody tr th:only-of-type {\n",
       "        vertical-align: middle;\n",
       "    }\n",
       "\n",
       "    .dataframe tbody tr th {\n",
       "        vertical-align: top;\n",
       "    }\n",
       "\n",
       "    .dataframe thead th {\n",
       "        text-align: right;\n",
       "    }\n",
       "</style>\n",
       "<table border=\"1\" class=\"dataframe\">\n",
       "  <thead>\n",
       "    <tr style=\"text-align: right;\">\n",
       "      <th></th>\n",
       "      <th>loan_amnt</th>\n",
       "      <th>funded_amnt_inv</th>\n",
       "      <th>term</th>\n",
       "      <th>int_rate</th>\n",
       "      <th>installment</th>\n",
       "      <th>grade</th>\n",
       "      <th>sub_grade</th>\n",
       "      <th>emp_length</th>\n",
       "      <th>home_ownership</th>\n",
       "      <th>annual_inc</th>\n",
       "      <th>...</th>\n",
       "      <th>total_rec_int</th>\n",
       "      <th>total_rec_late_fee</th>\n",
       "      <th>recoveries</th>\n",
       "      <th>collection_recovery_fee</th>\n",
       "      <th>last_pymnt_d</th>\n",
       "      <th>last_pymnt_amnt</th>\n",
       "      <th>next_pymnt_d</th>\n",
       "      <th>last_credit_pull_d</th>\n",
       "      <th>chargeoff_within_12_mths</th>\n",
       "      <th>pub_rec_bankruptcies</th>\n",
       "    </tr>\n",
       "  </thead>\n",
       "  <tbody>\n",
       "    <tr>\n",
       "      <th>0</th>\n",
       "      <td>5000</td>\n",
       "      <td>4975.0</td>\n",
       "      <td>36 months</td>\n",
       "      <td>10.65%</td>\n",
       "      <td>162.87</td>\n",
       "      <td>B</td>\n",
       "      <td>B2</td>\n",
       "      <td>10+ years</td>\n",
       "      <td>RENT</td>\n",
       "      <td>24000.0</td>\n",
       "      <td>...</td>\n",
       "      <td>863.16</td>\n",
       "      <td>0.00</td>\n",
       "      <td>0.00</td>\n",
       "      <td>0.00</td>\n",
       "      <td>Jan-15</td>\n",
       "      <td>171.62</td>\n",
       "      <td>NaN</td>\n",
       "      <td>May-16</td>\n",
       "      <td>0.0</td>\n",
       "      <td>0.0</td>\n",
       "    </tr>\n",
       "    <tr>\n",
       "      <th>1</th>\n",
       "      <td>2500</td>\n",
       "      <td>2500.0</td>\n",
       "      <td>60 months</td>\n",
       "      <td>15.27%</td>\n",
       "      <td>59.83</td>\n",
       "      <td>C</td>\n",
       "      <td>C4</td>\n",
       "      <td>&lt; 1 year</td>\n",
       "      <td>RENT</td>\n",
       "      <td>30000.0</td>\n",
       "      <td>...</td>\n",
       "      <td>435.17</td>\n",
       "      <td>0.00</td>\n",
       "      <td>117.08</td>\n",
       "      <td>1.11</td>\n",
       "      <td>Apr-13</td>\n",
       "      <td>119.66</td>\n",
       "      <td>NaN</td>\n",
       "      <td>Sep-13</td>\n",
       "      <td>0.0</td>\n",
       "      <td>0.0</td>\n",
       "    </tr>\n",
       "    <tr>\n",
       "      <th>2</th>\n",
       "      <td>2400</td>\n",
       "      <td>2400.0</td>\n",
       "      <td>36 months</td>\n",
       "      <td>15.96%</td>\n",
       "      <td>84.33</td>\n",
       "      <td>C</td>\n",
       "      <td>C5</td>\n",
       "      <td>10+ years</td>\n",
       "      <td>RENT</td>\n",
       "      <td>12252.0</td>\n",
       "      <td>...</td>\n",
       "      <td>605.67</td>\n",
       "      <td>0.00</td>\n",
       "      <td>0.00</td>\n",
       "      <td>0.00</td>\n",
       "      <td>Jun-14</td>\n",
       "      <td>649.91</td>\n",
       "      <td>NaN</td>\n",
       "      <td>May-16</td>\n",
       "      <td>0.0</td>\n",
       "      <td>0.0</td>\n",
       "    </tr>\n",
       "    <tr>\n",
       "      <th>3</th>\n",
       "      <td>10000</td>\n",
       "      <td>10000.0</td>\n",
       "      <td>36 months</td>\n",
       "      <td>13.49%</td>\n",
       "      <td>339.31</td>\n",
       "      <td>C</td>\n",
       "      <td>C1</td>\n",
       "      <td>10+ years</td>\n",
       "      <td>RENT</td>\n",
       "      <td>49200.0</td>\n",
       "      <td>...</td>\n",
       "      <td>2214.92</td>\n",
       "      <td>16.97</td>\n",
       "      <td>0.00</td>\n",
       "      <td>0.00</td>\n",
       "      <td>Jan-15</td>\n",
       "      <td>357.48</td>\n",
       "      <td>NaN</td>\n",
       "      <td>Apr-16</td>\n",
       "      <td>0.0</td>\n",
       "      <td>0.0</td>\n",
       "    </tr>\n",
       "    <tr>\n",
       "      <th>4</th>\n",
       "      <td>3000</td>\n",
       "      <td>3000.0</td>\n",
       "      <td>60 months</td>\n",
       "      <td>12.69%</td>\n",
       "      <td>67.79</td>\n",
       "      <td>B</td>\n",
       "      <td>B5</td>\n",
       "      <td>1 year</td>\n",
       "      <td>RENT</td>\n",
       "      <td>80000.0</td>\n",
       "      <td>...</td>\n",
       "      <td>1037.39</td>\n",
       "      <td>0.00</td>\n",
       "      <td>0.00</td>\n",
       "      <td>0.00</td>\n",
       "      <td>May-16</td>\n",
       "      <td>67.79</td>\n",
       "      <td>Jun-16</td>\n",
       "      <td>May-16</td>\n",
       "      <td>0.0</td>\n",
       "      <td>0.0</td>\n",
       "    </tr>\n",
       "  </tbody>\n",
       "</table>\n",
       "<p>5 rows × 38 columns</p>\n",
       "</div>"
      ],
      "text/plain": [
       "   loan_amnt  funded_amnt_inv        term int_rate  installment grade  \\\n",
       "0       5000           4975.0   36 months   10.65%       162.87     B   \n",
       "1       2500           2500.0   60 months   15.27%        59.83     C   \n",
       "2       2400           2400.0   36 months   15.96%        84.33     C   \n",
       "3      10000          10000.0   36 months   13.49%       339.31     C   \n",
       "4       3000           3000.0   60 months   12.69%        67.79     B   \n",
       "\n",
       "  sub_grade emp_length home_ownership  annual_inc  ... total_rec_int  \\\n",
       "0        B2  10+ years           RENT     24000.0  ...        863.16   \n",
       "1        C4   < 1 year           RENT     30000.0  ...        435.17   \n",
       "2        C5  10+ years           RENT     12252.0  ...        605.67   \n",
       "3        C1  10+ years           RENT     49200.0  ...       2214.92   \n",
       "4        B5     1 year           RENT     80000.0  ...       1037.39   \n",
       "\n",
       "  total_rec_late_fee recoveries collection_recovery_fee  last_pymnt_d  \\\n",
       "0               0.00       0.00                    0.00        Jan-15   \n",
       "1               0.00     117.08                    1.11        Apr-13   \n",
       "2               0.00       0.00                    0.00        Jun-14   \n",
       "3              16.97       0.00                    0.00        Jan-15   \n",
       "4               0.00       0.00                    0.00        May-16   \n",
       "\n",
       "   last_pymnt_amnt next_pymnt_d  last_credit_pull_d  chargeoff_within_12_mths  \\\n",
       "0           171.62          NaN              May-16                       0.0   \n",
       "1           119.66          NaN              Sep-13                       0.0   \n",
       "2           649.91          NaN              May-16                       0.0   \n",
       "3           357.48          NaN              Apr-16                       0.0   \n",
       "4            67.79       Jun-16              May-16                       0.0   \n",
       "\n",
       "   pub_rec_bankruptcies  \n",
       "0                   0.0  \n",
       "1                   0.0  \n",
       "2                   0.0  \n",
       "3                   0.0  \n",
       "4                   0.0  \n",
       "\n",
       "[5 rows x 38 columns]"
      ]
     },
     "execution_count": 40,
     "metadata": {},
     "output_type": "execute_result"
    }
   ],
   "source": [
    "loanDf.drop(['funded_amnt','out_prncp_inv','total_pymnt_inv'],axis=1,inplace=True)\n",
    "loanDf.head(5)"
   ]
  },
  {
   "cell_type": "markdown",
   "id": "5110a0c8",
   "metadata": {},
   "source": [
    "#### Now Lets remove all the columns whose data can only be used for post loan disbursement calculations"
   ]
  },
  {
   "cell_type": "code",
   "execution_count": 41,
   "id": "0a1b3925",
   "metadata": {},
   "outputs": [
    {
     "data": {
      "text/html": [
       "<div>\n",
       "<style scoped>\n",
       "    .dataframe tbody tr th:only-of-type {\n",
       "        vertical-align: middle;\n",
       "    }\n",
       "\n",
       "    .dataframe tbody tr th {\n",
       "        vertical-align: top;\n",
       "    }\n",
       "\n",
       "    .dataframe thead th {\n",
       "        text-align: right;\n",
       "    }\n",
       "</style>\n",
       "<table border=\"1\" class=\"dataframe\">\n",
       "  <thead>\n",
       "    <tr style=\"text-align: right;\">\n",
       "      <th></th>\n",
       "      <th>loan_amnt</th>\n",
       "      <th>funded_amnt_inv</th>\n",
       "      <th>term</th>\n",
       "      <th>int_rate</th>\n",
       "      <th>installment</th>\n",
       "      <th>grade</th>\n",
       "      <th>sub_grade</th>\n",
       "      <th>emp_length</th>\n",
       "      <th>home_ownership</th>\n",
       "      <th>annual_inc</th>\n",
       "      <th>...</th>\n",
       "      <th>purpose</th>\n",
       "      <th>dti</th>\n",
       "      <th>earliest_cr_line</th>\n",
       "      <th>inq_last_6mths</th>\n",
       "      <th>open_acc</th>\n",
       "      <th>pub_rec</th>\n",
       "      <th>revol_util</th>\n",
       "      <th>total_acc</th>\n",
       "      <th>last_credit_pull_d</th>\n",
       "      <th>pub_rec_bankruptcies</th>\n",
       "    </tr>\n",
       "  </thead>\n",
       "  <tbody>\n",
       "    <tr>\n",
       "      <th>0</th>\n",
       "      <td>5000</td>\n",
       "      <td>4975.0</td>\n",
       "      <td>36 months</td>\n",
       "      <td>10.65%</td>\n",
       "      <td>162.87</td>\n",
       "      <td>B</td>\n",
       "      <td>B2</td>\n",
       "      <td>10+ years</td>\n",
       "      <td>RENT</td>\n",
       "      <td>24000.0</td>\n",
       "      <td>...</td>\n",
       "      <td>credit_card</td>\n",
       "      <td>27.65</td>\n",
       "      <td>Jan-85</td>\n",
       "      <td>1</td>\n",
       "      <td>3</td>\n",
       "      <td>0</td>\n",
       "      <td>83.70%</td>\n",
       "      <td>9</td>\n",
       "      <td>May-16</td>\n",
       "      <td>0.0</td>\n",
       "    </tr>\n",
       "    <tr>\n",
       "      <th>1</th>\n",
       "      <td>2500</td>\n",
       "      <td>2500.0</td>\n",
       "      <td>60 months</td>\n",
       "      <td>15.27%</td>\n",
       "      <td>59.83</td>\n",
       "      <td>C</td>\n",
       "      <td>C4</td>\n",
       "      <td>&lt; 1 year</td>\n",
       "      <td>RENT</td>\n",
       "      <td>30000.0</td>\n",
       "      <td>...</td>\n",
       "      <td>car</td>\n",
       "      <td>1.00</td>\n",
       "      <td>Apr-99</td>\n",
       "      <td>5</td>\n",
       "      <td>3</td>\n",
       "      <td>0</td>\n",
       "      <td>9.40%</td>\n",
       "      <td>4</td>\n",
       "      <td>Sep-13</td>\n",
       "      <td>0.0</td>\n",
       "    </tr>\n",
       "    <tr>\n",
       "      <th>2</th>\n",
       "      <td>2400</td>\n",
       "      <td>2400.0</td>\n",
       "      <td>36 months</td>\n",
       "      <td>15.96%</td>\n",
       "      <td>84.33</td>\n",
       "      <td>C</td>\n",
       "      <td>C5</td>\n",
       "      <td>10+ years</td>\n",
       "      <td>RENT</td>\n",
       "      <td>12252.0</td>\n",
       "      <td>...</td>\n",
       "      <td>small_business</td>\n",
       "      <td>8.72</td>\n",
       "      <td>Nov-01</td>\n",
       "      <td>2</td>\n",
       "      <td>2</td>\n",
       "      <td>0</td>\n",
       "      <td>98.50%</td>\n",
       "      <td>10</td>\n",
       "      <td>May-16</td>\n",
       "      <td>0.0</td>\n",
       "    </tr>\n",
       "    <tr>\n",
       "      <th>3</th>\n",
       "      <td>10000</td>\n",
       "      <td>10000.0</td>\n",
       "      <td>36 months</td>\n",
       "      <td>13.49%</td>\n",
       "      <td>339.31</td>\n",
       "      <td>C</td>\n",
       "      <td>C1</td>\n",
       "      <td>10+ years</td>\n",
       "      <td>RENT</td>\n",
       "      <td>49200.0</td>\n",
       "      <td>...</td>\n",
       "      <td>other</td>\n",
       "      <td>20.00</td>\n",
       "      <td>Feb-96</td>\n",
       "      <td>1</td>\n",
       "      <td>10</td>\n",
       "      <td>0</td>\n",
       "      <td>21%</td>\n",
       "      <td>37</td>\n",
       "      <td>Apr-16</td>\n",
       "      <td>0.0</td>\n",
       "    </tr>\n",
       "    <tr>\n",
       "      <th>4</th>\n",
       "      <td>3000</td>\n",
       "      <td>3000.0</td>\n",
       "      <td>60 months</td>\n",
       "      <td>12.69%</td>\n",
       "      <td>67.79</td>\n",
       "      <td>B</td>\n",
       "      <td>B5</td>\n",
       "      <td>1 year</td>\n",
       "      <td>RENT</td>\n",
       "      <td>80000.0</td>\n",
       "      <td>...</td>\n",
       "      <td>other</td>\n",
       "      <td>17.94</td>\n",
       "      <td>Jan-96</td>\n",
       "      <td>0</td>\n",
       "      <td>15</td>\n",
       "      <td>0</td>\n",
       "      <td>53.90%</td>\n",
       "      <td>38</td>\n",
       "      <td>May-16</td>\n",
       "      <td>0.0</td>\n",
       "    </tr>\n",
       "  </tbody>\n",
       "</table>\n",
       "<p>5 rows × 23 columns</p>\n",
       "</div>"
      ],
      "text/plain": [
       "   loan_amnt  funded_amnt_inv        term int_rate  installment grade  \\\n",
       "0       5000           4975.0   36 months   10.65%       162.87     B   \n",
       "1       2500           2500.0   60 months   15.27%        59.83     C   \n",
       "2       2400           2400.0   36 months   15.96%        84.33     C   \n",
       "3      10000          10000.0   36 months   13.49%       339.31     C   \n",
       "4       3000           3000.0   60 months   12.69%        67.79     B   \n",
       "\n",
       "  sub_grade emp_length home_ownership  annual_inc  ...         purpose    dti  \\\n",
       "0        B2  10+ years           RENT     24000.0  ...     credit_card  27.65   \n",
       "1        C4   < 1 year           RENT     30000.0  ...             car   1.00   \n",
       "2        C5  10+ years           RENT     12252.0  ...  small_business   8.72   \n",
       "3        C1  10+ years           RENT     49200.0  ...           other  20.00   \n",
       "4        B5     1 year           RENT     80000.0  ...           other  17.94   \n",
       "\n",
       "  earliest_cr_line inq_last_6mths  open_acc pub_rec  revol_util  total_acc  \\\n",
       "0           Jan-85              1         3       0      83.70%          9   \n",
       "1           Apr-99              5         3       0       9.40%          4   \n",
       "2           Nov-01              2         2       0      98.50%         10   \n",
       "3           Feb-96              1        10       0         21%         37   \n",
       "4           Jan-96              0        15       0      53.90%         38   \n",
       "\n",
       "   last_credit_pull_d pub_rec_bankruptcies  \n",
       "0              May-16                  0.0  \n",
       "1              Sep-13                  0.0  \n",
       "2              May-16                  0.0  \n",
       "3              Apr-16                  0.0  \n",
       "4              May-16                  0.0  \n",
       "\n",
       "[5 rows x 23 columns]"
      ]
     },
     "execution_count": 41,
     "metadata": {},
     "output_type": "execute_result"
    }
   ],
   "source": [
    "loanDf.drop(['total_rec_late_fee', 'recoveries', 'collection_recovery_fee', 'last_pymnt_d', 'last_pymnt_amnt','delinq_2yrs', 'revol_bal', 'out_prncp', 'total_pymnt', 'total_rec_prncp', 'total_rec_int','next_pymnt_d' , 'chargeoff_within_12_mths', 'mths_since_last_delinq', 'mths_since_last_record'],axis=1,inplace=True)\n",
    "loanDf.head()"
   ]
  },
  {
   "cell_type": "code",
   "execution_count": 42,
   "id": "6c5ba968",
   "metadata": {},
   "outputs": [
    {
     "data": {
      "text/plain": [
       "(39717, 23)"
      ]
     },
     "execution_count": 42,
     "metadata": {},
     "output_type": "execute_result"
    }
   ],
   "source": [
    "loanDf.shape"
   ]
  },
  {
   "cell_type": "code",
   "execution_count": 43,
   "id": "131a3966",
   "metadata": {},
   "outputs": [
    {
     "data": {
      "text/plain": [
       "Index(['loan_amnt', 'funded_amnt_inv', 'term', 'int_rate', 'installment',\n",
       "       'grade', 'sub_grade', 'emp_length', 'home_ownership', 'annual_inc',\n",
       "       'verification_status', 'issue_d', 'loan_status', 'purpose', 'dti',\n",
       "       'earliest_cr_line', 'inq_last_6mths', 'open_acc', 'pub_rec',\n",
       "       'revol_util', 'total_acc', 'last_credit_pull_d',\n",
       "       'pub_rec_bankruptcies'],\n",
       "      dtype='object')"
      ]
     },
     "execution_count": 43,
     "metadata": {},
     "output_type": "execute_result"
    }
   ],
   "source": [
    "loanDf.columns"
   ]
  },
  {
   "cell_type": "markdown",
   "id": "83c3dac6",
   "metadata": {},
   "source": [
    "#### Droping last_credit_pull_d as this wont be usefull for default prediction"
   ]
  },
  {
   "cell_type": "code",
   "execution_count": 44,
   "id": "43b50728",
   "metadata": {},
   "outputs": [
    {
     "data": {
      "text/html": [
       "<div>\n",
       "<style scoped>\n",
       "    .dataframe tbody tr th:only-of-type {\n",
       "        vertical-align: middle;\n",
       "    }\n",
       "\n",
       "    .dataframe tbody tr th {\n",
       "        vertical-align: top;\n",
       "    }\n",
       "\n",
       "    .dataframe thead th {\n",
       "        text-align: right;\n",
       "    }\n",
       "</style>\n",
       "<table border=\"1\" class=\"dataframe\">\n",
       "  <thead>\n",
       "    <tr style=\"text-align: right;\">\n",
       "      <th></th>\n",
       "      <th>loan_amnt</th>\n",
       "      <th>funded_amnt_inv</th>\n",
       "      <th>term</th>\n",
       "      <th>int_rate</th>\n",
       "      <th>installment</th>\n",
       "      <th>grade</th>\n",
       "      <th>sub_grade</th>\n",
       "      <th>emp_length</th>\n",
       "      <th>home_ownership</th>\n",
       "      <th>annual_inc</th>\n",
       "      <th>...</th>\n",
       "      <th>loan_status</th>\n",
       "      <th>purpose</th>\n",
       "      <th>dti</th>\n",
       "      <th>earliest_cr_line</th>\n",
       "      <th>inq_last_6mths</th>\n",
       "      <th>open_acc</th>\n",
       "      <th>pub_rec</th>\n",
       "      <th>revol_util</th>\n",
       "      <th>total_acc</th>\n",
       "      <th>pub_rec_bankruptcies</th>\n",
       "    </tr>\n",
       "  </thead>\n",
       "  <tbody>\n",
       "    <tr>\n",
       "      <th>0</th>\n",
       "      <td>5000</td>\n",
       "      <td>4975.0</td>\n",
       "      <td>36 months</td>\n",
       "      <td>10.65%</td>\n",
       "      <td>162.87</td>\n",
       "      <td>B</td>\n",
       "      <td>B2</td>\n",
       "      <td>10+ years</td>\n",
       "      <td>RENT</td>\n",
       "      <td>24000.0</td>\n",
       "      <td>...</td>\n",
       "      <td>Fully Paid</td>\n",
       "      <td>credit_card</td>\n",
       "      <td>27.65</td>\n",
       "      <td>Jan-85</td>\n",
       "      <td>1</td>\n",
       "      <td>3</td>\n",
       "      <td>0</td>\n",
       "      <td>83.70%</td>\n",
       "      <td>9</td>\n",
       "      <td>0.0</td>\n",
       "    </tr>\n",
       "    <tr>\n",
       "      <th>1</th>\n",
       "      <td>2500</td>\n",
       "      <td>2500.0</td>\n",
       "      <td>60 months</td>\n",
       "      <td>15.27%</td>\n",
       "      <td>59.83</td>\n",
       "      <td>C</td>\n",
       "      <td>C4</td>\n",
       "      <td>&lt; 1 year</td>\n",
       "      <td>RENT</td>\n",
       "      <td>30000.0</td>\n",
       "      <td>...</td>\n",
       "      <td>Charged Off</td>\n",
       "      <td>car</td>\n",
       "      <td>1.00</td>\n",
       "      <td>Apr-99</td>\n",
       "      <td>5</td>\n",
       "      <td>3</td>\n",
       "      <td>0</td>\n",
       "      <td>9.40%</td>\n",
       "      <td>4</td>\n",
       "      <td>0.0</td>\n",
       "    </tr>\n",
       "    <tr>\n",
       "      <th>2</th>\n",
       "      <td>2400</td>\n",
       "      <td>2400.0</td>\n",
       "      <td>36 months</td>\n",
       "      <td>15.96%</td>\n",
       "      <td>84.33</td>\n",
       "      <td>C</td>\n",
       "      <td>C5</td>\n",
       "      <td>10+ years</td>\n",
       "      <td>RENT</td>\n",
       "      <td>12252.0</td>\n",
       "      <td>...</td>\n",
       "      <td>Fully Paid</td>\n",
       "      <td>small_business</td>\n",
       "      <td>8.72</td>\n",
       "      <td>Nov-01</td>\n",
       "      <td>2</td>\n",
       "      <td>2</td>\n",
       "      <td>0</td>\n",
       "      <td>98.50%</td>\n",
       "      <td>10</td>\n",
       "      <td>0.0</td>\n",
       "    </tr>\n",
       "    <tr>\n",
       "      <th>3</th>\n",
       "      <td>10000</td>\n",
       "      <td>10000.0</td>\n",
       "      <td>36 months</td>\n",
       "      <td>13.49%</td>\n",
       "      <td>339.31</td>\n",
       "      <td>C</td>\n",
       "      <td>C1</td>\n",
       "      <td>10+ years</td>\n",
       "      <td>RENT</td>\n",
       "      <td>49200.0</td>\n",
       "      <td>...</td>\n",
       "      <td>Fully Paid</td>\n",
       "      <td>other</td>\n",
       "      <td>20.00</td>\n",
       "      <td>Feb-96</td>\n",
       "      <td>1</td>\n",
       "      <td>10</td>\n",
       "      <td>0</td>\n",
       "      <td>21%</td>\n",
       "      <td>37</td>\n",
       "      <td>0.0</td>\n",
       "    </tr>\n",
       "    <tr>\n",
       "      <th>4</th>\n",
       "      <td>3000</td>\n",
       "      <td>3000.0</td>\n",
       "      <td>60 months</td>\n",
       "      <td>12.69%</td>\n",
       "      <td>67.79</td>\n",
       "      <td>B</td>\n",
       "      <td>B5</td>\n",
       "      <td>1 year</td>\n",
       "      <td>RENT</td>\n",
       "      <td>80000.0</td>\n",
       "      <td>...</td>\n",
       "      <td>Current</td>\n",
       "      <td>other</td>\n",
       "      <td>17.94</td>\n",
       "      <td>Jan-96</td>\n",
       "      <td>0</td>\n",
       "      <td>15</td>\n",
       "      <td>0</td>\n",
       "      <td>53.90%</td>\n",
       "      <td>38</td>\n",
       "      <td>0.0</td>\n",
       "    </tr>\n",
       "  </tbody>\n",
       "</table>\n",
       "<p>5 rows × 22 columns</p>\n",
       "</div>"
      ],
      "text/plain": [
       "   loan_amnt  funded_amnt_inv        term int_rate  installment grade  \\\n",
       "0       5000           4975.0   36 months   10.65%       162.87     B   \n",
       "1       2500           2500.0   60 months   15.27%        59.83     C   \n",
       "2       2400           2400.0   36 months   15.96%        84.33     C   \n",
       "3      10000          10000.0   36 months   13.49%       339.31     C   \n",
       "4       3000           3000.0   60 months   12.69%        67.79     B   \n",
       "\n",
       "  sub_grade emp_length home_ownership  annual_inc  ...  loan_status  \\\n",
       "0        B2  10+ years           RENT     24000.0  ...   Fully Paid   \n",
       "1        C4   < 1 year           RENT     30000.0  ...  Charged Off   \n",
       "2        C5  10+ years           RENT     12252.0  ...   Fully Paid   \n",
       "3        C1  10+ years           RENT     49200.0  ...   Fully Paid   \n",
       "4        B5     1 year           RENT     80000.0  ...      Current   \n",
       "\n",
       "          purpose    dti earliest_cr_line  inq_last_6mths open_acc  pub_rec  \\\n",
       "0     credit_card  27.65           Jan-85               1        3        0   \n",
       "1             car   1.00           Apr-99               5        3        0   \n",
       "2  small_business   8.72           Nov-01               2        2        0   \n",
       "3           other  20.00           Feb-96               1       10        0   \n",
       "4           other  17.94           Jan-96               0       15        0   \n",
       "\n",
       "   revol_util  total_acc pub_rec_bankruptcies  \n",
       "0      83.70%          9                  0.0  \n",
       "1       9.40%          4                  0.0  \n",
       "2      98.50%         10                  0.0  \n",
       "3         21%         37                  0.0  \n",
       "4      53.90%         38                  0.0  \n",
       "\n",
       "[5 rows x 22 columns]"
      ]
     },
     "execution_count": 44,
     "metadata": {},
     "output_type": "execute_result"
    }
   ],
   "source": [
    "loanDf.drop(['last_credit_pull_d'],axis=1,inplace=True)\n",
    "loanDf.head()"
   ]
  },
  {
   "cell_type": "markdown",
   "id": "68a7a1dc",
   "metadata": {},
   "source": [
    "#### Looks like we can make use of all the remaining 22 columns of data"
   ]
  },
  {
   "cell_type": "markdown",
   "id": "d7a0d8ed",
   "metadata": {},
   "source": [
    "#### Part Data Removal"
   ]
  },
  {
   "cell_type": "code",
   "execution_count": 45,
   "id": "9d8fb7e3",
   "metadata": {},
   "outputs": [
    {
     "data": {
      "text/plain": [
       "Fully Paid     32950\n",
       "Charged Off     5627\n",
       "Current         1140\n",
       "Name: loan_status, dtype: int64"
      ]
     },
     "execution_count": 45,
     "metadata": {},
     "output_type": "execute_result"
    }
   ],
   "source": [
    "loanDf.loan_status.value_counts()"
   ]
  },
  {
   "cell_type": "markdown",
   "id": "2ec2e229",
   "metadata": {},
   "source": [
    "#### 1140 people currently going through emis , we have no use for this data to predict default"
   ]
  },
  {
   "cell_type": "code",
   "execution_count": 46,
   "id": "ec9a836b",
   "metadata": {},
   "outputs": [
    {
     "data": {
      "text/plain": [
       "Fully Paid     32950\n",
       "Charged Off     5627\n",
       "Name: loan_status, dtype: int64"
      ]
     },
     "execution_count": 46,
     "metadata": {},
     "output_type": "execute_result"
    }
   ],
   "source": [
    "loanDf = loanDf[loanDf.loan_status != 'Current']\n",
    "loanDf.loan_status.value_counts()"
   ]
  },
  {
   "cell_type": "code",
   "execution_count": 47,
   "id": "aeac3009",
   "metadata": {},
   "outputs": [
    {
     "data": {
      "text/html": [
       "<div>\n",
       "<style scoped>\n",
       "    .dataframe tbody tr th:only-of-type {\n",
       "        vertical-align: middle;\n",
       "    }\n",
       "\n",
       "    .dataframe tbody tr th {\n",
       "        vertical-align: top;\n",
       "    }\n",
       "\n",
       "    .dataframe thead th {\n",
       "        text-align: right;\n",
       "    }\n",
       "</style>\n",
       "<table border=\"1\" class=\"dataframe\">\n",
       "  <thead>\n",
       "    <tr style=\"text-align: right;\">\n",
       "      <th></th>\n",
       "      <th>loan_amnt</th>\n",
       "      <th>funded_amnt_inv</th>\n",
       "      <th>term</th>\n",
       "      <th>int_rate</th>\n",
       "      <th>installment</th>\n",
       "      <th>grade</th>\n",
       "      <th>sub_grade</th>\n",
       "      <th>emp_length</th>\n",
       "      <th>home_ownership</th>\n",
       "      <th>annual_inc</th>\n",
       "      <th>...</th>\n",
       "      <th>loan_status</th>\n",
       "      <th>purpose</th>\n",
       "      <th>dti</th>\n",
       "      <th>earliest_cr_line</th>\n",
       "      <th>inq_last_6mths</th>\n",
       "      <th>open_acc</th>\n",
       "      <th>pub_rec</th>\n",
       "      <th>revol_util</th>\n",
       "      <th>total_acc</th>\n",
       "      <th>pub_rec_bankruptcies</th>\n",
       "    </tr>\n",
       "  </thead>\n",
       "  <tbody>\n",
       "    <tr>\n",
       "      <th>0</th>\n",
       "      <td>5000</td>\n",
       "      <td>4975.0</td>\n",
       "      <td>36 months</td>\n",
       "      <td>10.65%</td>\n",
       "      <td>162.87</td>\n",
       "      <td>B</td>\n",
       "      <td>B2</td>\n",
       "      <td>10+ years</td>\n",
       "      <td>RENT</td>\n",
       "      <td>24000.0</td>\n",
       "      <td>...</td>\n",
       "      <td>Fully Paid</td>\n",
       "      <td>credit_card</td>\n",
       "      <td>27.65</td>\n",
       "      <td>Jan-85</td>\n",
       "      <td>1</td>\n",
       "      <td>3</td>\n",
       "      <td>0</td>\n",
       "      <td>83.70%</td>\n",
       "      <td>9</td>\n",
       "      <td>0.0</td>\n",
       "    </tr>\n",
       "    <tr>\n",
       "      <th>1</th>\n",
       "      <td>2500</td>\n",
       "      <td>2500.0</td>\n",
       "      <td>60 months</td>\n",
       "      <td>15.27%</td>\n",
       "      <td>59.83</td>\n",
       "      <td>C</td>\n",
       "      <td>C4</td>\n",
       "      <td>&lt; 1 year</td>\n",
       "      <td>RENT</td>\n",
       "      <td>30000.0</td>\n",
       "      <td>...</td>\n",
       "      <td>Charged Off</td>\n",
       "      <td>car</td>\n",
       "      <td>1.00</td>\n",
       "      <td>Apr-99</td>\n",
       "      <td>5</td>\n",
       "      <td>3</td>\n",
       "      <td>0</td>\n",
       "      <td>9.40%</td>\n",
       "      <td>4</td>\n",
       "      <td>0.0</td>\n",
       "    </tr>\n",
       "    <tr>\n",
       "      <th>2</th>\n",
       "      <td>2400</td>\n",
       "      <td>2400.0</td>\n",
       "      <td>36 months</td>\n",
       "      <td>15.96%</td>\n",
       "      <td>84.33</td>\n",
       "      <td>C</td>\n",
       "      <td>C5</td>\n",
       "      <td>10+ years</td>\n",
       "      <td>RENT</td>\n",
       "      <td>12252.0</td>\n",
       "      <td>...</td>\n",
       "      <td>Fully Paid</td>\n",
       "      <td>small_business</td>\n",
       "      <td>8.72</td>\n",
       "      <td>Nov-01</td>\n",
       "      <td>2</td>\n",
       "      <td>2</td>\n",
       "      <td>0</td>\n",
       "      <td>98.50%</td>\n",
       "      <td>10</td>\n",
       "      <td>0.0</td>\n",
       "    </tr>\n",
       "    <tr>\n",
       "      <th>3</th>\n",
       "      <td>10000</td>\n",
       "      <td>10000.0</td>\n",
       "      <td>36 months</td>\n",
       "      <td>13.49%</td>\n",
       "      <td>339.31</td>\n",
       "      <td>C</td>\n",
       "      <td>C1</td>\n",
       "      <td>10+ years</td>\n",
       "      <td>RENT</td>\n",
       "      <td>49200.0</td>\n",
       "      <td>...</td>\n",
       "      <td>Fully Paid</td>\n",
       "      <td>other</td>\n",
       "      <td>20.00</td>\n",
       "      <td>Feb-96</td>\n",
       "      <td>1</td>\n",
       "      <td>10</td>\n",
       "      <td>0</td>\n",
       "      <td>21%</td>\n",
       "      <td>37</td>\n",
       "      <td>0.0</td>\n",
       "    </tr>\n",
       "    <tr>\n",
       "      <th>5</th>\n",
       "      <td>5000</td>\n",
       "      <td>5000.0</td>\n",
       "      <td>36 months</td>\n",
       "      <td>7.90%</td>\n",
       "      <td>156.46</td>\n",
       "      <td>A</td>\n",
       "      <td>A4</td>\n",
       "      <td>3 years</td>\n",
       "      <td>RENT</td>\n",
       "      <td>36000.0</td>\n",
       "      <td>...</td>\n",
       "      <td>Fully Paid</td>\n",
       "      <td>wedding</td>\n",
       "      <td>11.20</td>\n",
       "      <td>Nov-04</td>\n",
       "      <td>3</td>\n",
       "      <td>9</td>\n",
       "      <td>0</td>\n",
       "      <td>28.30%</td>\n",
       "      <td>12</td>\n",
       "      <td>0.0</td>\n",
       "    </tr>\n",
       "  </tbody>\n",
       "</table>\n",
       "<p>5 rows × 22 columns</p>\n",
       "</div>"
      ],
      "text/plain": [
       "   loan_amnt  funded_amnt_inv        term int_rate  installment grade  \\\n",
       "0       5000           4975.0   36 months   10.65%       162.87     B   \n",
       "1       2500           2500.0   60 months   15.27%        59.83     C   \n",
       "2       2400           2400.0   36 months   15.96%        84.33     C   \n",
       "3      10000          10000.0   36 months   13.49%       339.31     C   \n",
       "5       5000           5000.0   36 months    7.90%       156.46     A   \n",
       "\n",
       "  sub_grade emp_length home_ownership  annual_inc  ...  loan_status  \\\n",
       "0        B2  10+ years           RENT     24000.0  ...   Fully Paid   \n",
       "1        C4   < 1 year           RENT     30000.0  ...  Charged Off   \n",
       "2        C5  10+ years           RENT     12252.0  ...   Fully Paid   \n",
       "3        C1  10+ years           RENT     49200.0  ...   Fully Paid   \n",
       "5        A4    3 years           RENT     36000.0  ...   Fully Paid   \n",
       "\n",
       "          purpose    dti earliest_cr_line  inq_last_6mths open_acc  pub_rec  \\\n",
       "0     credit_card  27.65           Jan-85               1        3        0   \n",
       "1             car   1.00           Apr-99               5        3        0   \n",
       "2  small_business   8.72           Nov-01               2        2        0   \n",
       "3           other  20.00           Feb-96               1       10        0   \n",
       "5         wedding  11.20           Nov-04               3        9        0   \n",
       "\n",
       "   revol_util  total_acc pub_rec_bankruptcies  \n",
       "0      83.70%          9                  0.0  \n",
       "1       9.40%          4                  0.0  \n",
       "2      98.50%         10                  0.0  \n",
       "3         21%         37                  0.0  \n",
       "5      28.30%         12                  0.0  \n",
       "\n",
       "[5 rows x 22 columns]"
      ]
     },
     "execution_count": 47,
     "metadata": {},
     "output_type": "execute_result"
    }
   ],
   "source": [
    "loanDf.head()"
   ]
  },
  {
   "cell_type": "markdown",
   "id": "ad9b58d8",
   "metadata": {},
   "source": [
    "#### There may be column with part null values lets check them"
   ]
  },
  {
   "cell_type": "code",
   "execution_count": 48,
   "id": "650a928e",
   "metadata": {},
   "outputs": [
    {
     "data": {
      "text/plain": [
       "loan_amnt                  0\n",
       "funded_amnt_inv            0\n",
       "term                       0\n",
       "int_rate                   0\n",
       "installment                0\n",
       "grade                      0\n",
       "sub_grade                  0\n",
       "emp_length              1033\n",
       "home_ownership             0\n",
       "annual_inc                 0\n",
       "verification_status        0\n",
       "issue_d                    0\n",
       "loan_status                0\n",
       "purpose                    0\n",
       "dti                        0\n",
       "earliest_cr_line           0\n",
       "inq_last_6mths             0\n",
       "open_acc                   0\n",
       "pub_rec                    0\n",
       "revol_util                50\n",
       "total_acc                  0\n",
       "pub_rec_bankruptcies     697\n",
       "dtype: int64"
      ]
     },
     "execution_count": 48,
     "metadata": {},
     "output_type": "execute_result"
    }
   ],
   "source": [
    "loanDf.isna().sum()"
   ]
  },
  {
   "cell_type": "markdown",
   "id": "7504797f",
   "metadata": {},
   "source": [
    "#### We have 3 columns emp_length,revol_util,pub_rec_bankruptcies who have null or missing values lets handle them"
   ]
  },
  {
   "cell_type": "code",
   "execution_count": 49,
   "id": "67681893",
   "metadata": {},
   "outputs": [
    {
     "data": {
      "text/plain": [
       "0.0    36238\n",
       "1.0     1637\n",
       "2.0        5\n",
       "Name: pub_rec_bankruptcies, dtype: int64"
      ]
     },
     "execution_count": 49,
     "metadata": {},
     "output_type": "execute_result"
    }
   ],
   "source": [
    "loanDf.pub_rec_bankruptcies.value_counts()"
   ]
  },
  {
   "cell_type": "markdown",
   "id": "3df475b9",
   "metadata": {},
   "source": [
    "#### Since 0.0 is the most used value by large margin we can fill missing with this value"
   ]
  },
  {
   "cell_type": "code",
   "execution_count": 50,
   "id": "876abb0b",
   "metadata": {},
   "outputs": [
    {
     "data": {
      "text/plain": [
       "0"
      ]
     },
     "execution_count": 50,
     "metadata": {},
     "output_type": "execute_result"
    }
   ],
   "source": [
    "loanDf.pub_rec_bankruptcies.fillna(0.0,inplace=True)\n",
    "loanDf.pub_rec_bankruptcies.isna().sum()"
   ]
  },
  {
   "cell_type": "code",
   "execution_count": 51,
   "id": "471a010a",
   "metadata": {},
   "outputs": [
    {
     "data": {
      "text/plain": [
       "0%        954\n",
       "0.20%      62\n",
       "63%        62\n",
       "40.70%     57\n",
       "31.20%     57\n",
       "         ... \n",
       "77.63%      1\n",
       "25.74%      1\n",
       "0.83%       1\n",
       "47.36%      1\n",
       "7.28%       1\n",
       "Name: revol_util, Length: 1088, dtype: int64"
      ]
     },
     "execution_count": 51,
     "metadata": {},
     "output_type": "execute_result"
    }
   ],
   "source": [
    "loanDf.revol_util.value_counts()"
   ]
  },
  {
   "cell_type": "markdown",
   "id": "d881ef9b",
   "metadata": {},
   "source": [
    "#### Lets drop the row since the number of missing is only 50"
   ]
  },
  {
   "cell_type": "code",
   "execution_count": 52,
   "id": "c63fea1a",
   "metadata": {},
   "outputs": [
    {
     "data": {
      "text/plain": [
       "0"
      ]
     },
     "execution_count": 52,
     "metadata": {},
     "output_type": "execute_result"
    }
   ],
   "source": [
    "loanDf.dropna(axis=0,subset=['revol_util'],inplace=True)\n",
    "loanDf.revol_util.isna().sum()"
   ]
  },
  {
   "cell_type": "markdown",
   "id": "c66d9b89",
   "metadata": {},
   "source": [
    "#### Lets check emp_length.value_counts()"
   ]
  },
  {
   "cell_type": "code",
   "execution_count": 53,
   "id": "e378d877",
   "metadata": {},
   "outputs": [
    {
     "data": {
      "text/plain": [
       "10+ years    8487\n",
       "< 1 year     4496\n",
       "2 years      4286\n",
       "3 years      4008\n",
       "4 years      3335\n",
       "5 years      3190\n",
       "1 year       3163\n",
       "6 years      2165\n",
       "7 years      1708\n",
       "8 years      1433\n",
       "9 years      1226\n",
       "Name: emp_length, dtype: int64"
      ]
     },
     "execution_count": 53,
     "metadata": {},
     "output_type": "execute_result"
    }
   ],
   "source": [
    "loanDf.emp_length.value_counts()"
   ]
  },
  {
   "cell_type": "markdown",
   "id": "65fc5d59",
   "metadata": {},
   "source": [
    "#### 10+ years is nearly double the value of the next frequent value so we can fill in missing with the most common value on this column"
   ]
  },
  {
   "cell_type": "code",
   "execution_count": 54,
   "id": "fbb00d40",
   "metadata": {},
   "outputs": [
    {
     "name": "stdout",
     "output_type": "stream",
     "text": [
      "<class 'pandas.core.series.Series'>\n",
      "Int64Index: 38527 entries, 0 to 39716\n",
      "Series name: emp_length\n",
      "Non-Null Count  Dtype \n",
      "--------------  ----- \n",
      "37497 non-null  object\n",
      "dtypes: object(1)\n",
      "memory usage: 602.0+ KB\n"
     ]
    }
   ],
   "source": [
    "loanDf.emp_length.info()"
   ]
  },
  {
   "cell_type": "code",
   "execution_count": 55,
   "id": "177bd754",
   "metadata": {},
   "outputs": [
    {
     "data": {
      "text/plain": [
       "0"
      ]
     },
     "execution_count": 55,
     "metadata": {},
     "output_type": "execute_result"
    }
   ],
   "source": [
    "loanDf.emp_length.fillna(loanDf.emp_length.mode()[0], inplace = True)\n",
    "loanDf.emp_length.isna().sum()"
   ]
  },
  {
   "cell_type": "code",
   "execution_count": 56,
   "id": "b574a86d",
   "metadata": {},
   "outputs": [
    {
     "name": "stdout",
     "output_type": "stream",
     "text": [
      "<class 'pandas.core.frame.DataFrame'>\n",
      "Int64Index: 38527 entries, 0 to 39716\n",
      "Data columns (total 22 columns):\n",
      " #   Column                Non-Null Count  Dtype  \n",
      "---  ------                --------------  -----  \n",
      " 0   loan_amnt             38527 non-null  int64  \n",
      " 1   funded_amnt_inv       38527 non-null  float64\n",
      " 2   term                  38527 non-null  object \n",
      " 3   int_rate              38527 non-null  object \n",
      " 4   installment           38527 non-null  float64\n",
      " 5   grade                 38527 non-null  object \n",
      " 6   sub_grade             38527 non-null  object \n",
      " 7   emp_length            38527 non-null  object \n",
      " 8   home_ownership        38527 non-null  object \n",
      " 9   annual_inc            38527 non-null  float64\n",
      " 10  verification_status   38527 non-null  object \n",
      " 11  issue_d               38527 non-null  object \n",
      " 12  loan_status           38527 non-null  object \n",
      " 13  purpose               38527 non-null  object \n",
      " 14  dti                   38527 non-null  float64\n",
      " 15  earliest_cr_line      38527 non-null  object \n",
      " 16  inq_last_6mths        38527 non-null  int64  \n",
      " 17  open_acc              38527 non-null  int64  \n",
      " 18  pub_rec               38527 non-null  int64  \n",
      " 19  revol_util            38527 non-null  object \n",
      " 20  total_acc             38527 non-null  int64  \n",
      " 21  pub_rec_bankruptcies  38527 non-null  float64\n",
      "dtypes: float64(5), int64(5), object(12)\n",
      "memory usage: 6.8+ MB\n"
     ]
    }
   ],
   "source": [
    "loanDf.info()"
   ]
  },
  {
   "cell_type": "code",
   "execution_count": 57,
   "id": "2161d2c4",
   "metadata": {},
   "outputs": [
    {
     "data": {
      "text/html": [
       "<div>\n",
       "<style scoped>\n",
       "    .dataframe tbody tr th:only-of-type {\n",
       "        vertical-align: middle;\n",
       "    }\n",
       "\n",
       "    .dataframe tbody tr th {\n",
       "        vertical-align: top;\n",
       "    }\n",
       "\n",
       "    .dataframe thead th {\n",
       "        text-align: right;\n",
       "    }\n",
       "</style>\n",
       "<table border=\"1\" class=\"dataframe\">\n",
       "  <thead>\n",
       "    <tr style=\"text-align: right;\">\n",
       "      <th></th>\n",
       "      <th>loan_amnt</th>\n",
       "      <th>funded_amnt_inv</th>\n",
       "      <th>term</th>\n",
       "      <th>int_rate</th>\n",
       "      <th>installment</th>\n",
       "      <th>grade</th>\n",
       "      <th>sub_grade</th>\n",
       "      <th>emp_length</th>\n",
       "      <th>home_ownership</th>\n",
       "      <th>annual_inc</th>\n",
       "      <th>...</th>\n",
       "      <th>loan_status</th>\n",
       "      <th>purpose</th>\n",
       "      <th>dti</th>\n",
       "      <th>earliest_cr_line</th>\n",
       "      <th>inq_last_6mths</th>\n",
       "      <th>open_acc</th>\n",
       "      <th>pub_rec</th>\n",
       "      <th>revol_util</th>\n",
       "      <th>total_acc</th>\n",
       "      <th>pub_rec_bankruptcies</th>\n",
       "    </tr>\n",
       "  </thead>\n",
       "  <tbody>\n",
       "    <tr>\n",
       "      <th>0</th>\n",
       "      <td>5000</td>\n",
       "      <td>4975.0</td>\n",
       "      <td>36 months</td>\n",
       "      <td>10.65%</td>\n",
       "      <td>162.87</td>\n",
       "      <td>B</td>\n",
       "      <td>B2</td>\n",
       "      <td>10+ years</td>\n",
       "      <td>RENT</td>\n",
       "      <td>24000.0</td>\n",
       "      <td>...</td>\n",
       "      <td>Fully Paid</td>\n",
       "      <td>credit_card</td>\n",
       "      <td>27.65</td>\n",
       "      <td>Jan-85</td>\n",
       "      <td>1</td>\n",
       "      <td>3</td>\n",
       "      <td>0</td>\n",
       "      <td>83.70%</td>\n",
       "      <td>9</td>\n",
       "      <td>0.0</td>\n",
       "    </tr>\n",
       "    <tr>\n",
       "      <th>1</th>\n",
       "      <td>2500</td>\n",
       "      <td>2500.0</td>\n",
       "      <td>60 months</td>\n",
       "      <td>15.27%</td>\n",
       "      <td>59.83</td>\n",
       "      <td>C</td>\n",
       "      <td>C4</td>\n",
       "      <td>&lt; 1 year</td>\n",
       "      <td>RENT</td>\n",
       "      <td>30000.0</td>\n",
       "      <td>...</td>\n",
       "      <td>Charged Off</td>\n",
       "      <td>car</td>\n",
       "      <td>1.00</td>\n",
       "      <td>Apr-99</td>\n",
       "      <td>5</td>\n",
       "      <td>3</td>\n",
       "      <td>0</td>\n",
       "      <td>9.40%</td>\n",
       "      <td>4</td>\n",
       "      <td>0.0</td>\n",
       "    </tr>\n",
       "    <tr>\n",
       "      <th>2</th>\n",
       "      <td>2400</td>\n",
       "      <td>2400.0</td>\n",
       "      <td>36 months</td>\n",
       "      <td>15.96%</td>\n",
       "      <td>84.33</td>\n",
       "      <td>C</td>\n",
       "      <td>C5</td>\n",
       "      <td>10+ years</td>\n",
       "      <td>RENT</td>\n",
       "      <td>12252.0</td>\n",
       "      <td>...</td>\n",
       "      <td>Fully Paid</td>\n",
       "      <td>small_business</td>\n",
       "      <td>8.72</td>\n",
       "      <td>Nov-01</td>\n",
       "      <td>2</td>\n",
       "      <td>2</td>\n",
       "      <td>0</td>\n",
       "      <td>98.50%</td>\n",
       "      <td>10</td>\n",
       "      <td>0.0</td>\n",
       "    </tr>\n",
       "    <tr>\n",
       "      <th>3</th>\n",
       "      <td>10000</td>\n",
       "      <td>10000.0</td>\n",
       "      <td>36 months</td>\n",
       "      <td>13.49%</td>\n",
       "      <td>339.31</td>\n",
       "      <td>C</td>\n",
       "      <td>C1</td>\n",
       "      <td>10+ years</td>\n",
       "      <td>RENT</td>\n",
       "      <td>49200.0</td>\n",
       "      <td>...</td>\n",
       "      <td>Fully Paid</td>\n",
       "      <td>other</td>\n",
       "      <td>20.00</td>\n",
       "      <td>Feb-96</td>\n",
       "      <td>1</td>\n",
       "      <td>10</td>\n",
       "      <td>0</td>\n",
       "      <td>21%</td>\n",
       "      <td>37</td>\n",
       "      <td>0.0</td>\n",
       "    </tr>\n",
       "    <tr>\n",
       "      <th>5</th>\n",
       "      <td>5000</td>\n",
       "      <td>5000.0</td>\n",
       "      <td>36 months</td>\n",
       "      <td>7.90%</td>\n",
       "      <td>156.46</td>\n",
       "      <td>A</td>\n",
       "      <td>A4</td>\n",
       "      <td>3 years</td>\n",
       "      <td>RENT</td>\n",
       "      <td>36000.0</td>\n",
       "      <td>...</td>\n",
       "      <td>Fully Paid</td>\n",
       "      <td>wedding</td>\n",
       "      <td>11.20</td>\n",
       "      <td>Nov-04</td>\n",
       "      <td>3</td>\n",
       "      <td>9</td>\n",
       "      <td>0</td>\n",
       "      <td>28.30%</td>\n",
       "      <td>12</td>\n",
       "      <td>0.0</td>\n",
       "    </tr>\n",
       "  </tbody>\n",
       "</table>\n",
       "<p>5 rows × 22 columns</p>\n",
       "</div>"
      ],
      "text/plain": [
       "   loan_amnt  funded_amnt_inv        term int_rate  installment grade  \\\n",
       "0       5000           4975.0   36 months   10.65%       162.87     B   \n",
       "1       2500           2500.0   60 months   15.27%        59.83     C   \n",
       "2       2400           2400.0   36 months   15.96%        84.33     C   \n",
       "3      10000          10000.0   36 months   13.49%       339.31     C   \n",
       "5       5000           5000.0   36 months    7.90%       156.46     A   \n",
       "\n",
       "  sub_grade emp_length home_ownership  annual_inc  ...  loan_status  \\\n",
       "0        B2  10+ years           RENT     24000.0  ...   Fully Paid   \n",
       "1        C4   < 1 year           RENT     30000.0  ...  Charged Off   \n",
       "2        C5  10+ years           RENT     12252.0  ...   Fully Paid   \n",
       "3        C1  10+ years           RENT     49200.0  ...   Fully Paid   \n",
       "5        A4    3 years           RENT     36000.0  ...   Fully Paid   \n",
       "\n",
       "          purpose    dti earliest_cr_line  inq_last_6mths open_acc  pub_rec  \\\n",
       "0     credit_card  27.65           Jan-85               1        3        0   \n",
       "1             car   1.00           Apr-99               5        3        0   \n",
       "2  small_business   8.72           Nov-01               2        2        0   \n",
       "3           other  20.00           Feb-96               1       10        0   \n",
       "5         wedding  11.20           Nov-04               3        9        0   \n",
       "\n",
       "   revol_util  total_acc pub_rec_bankruptcies  \n",
       "0      83.70%          9                  0.0  \n",
       "1       9.40%          4                  0.0  \n",
       "2      98.50%         10                  0.0  \n",
       "3         21%         37                  0.0  \n",
       "5      28.30%         12                  0.0  \n",
       "\n",
       "[5 rows x 22 columns]"
      ]
     },
     "execution_count": 57,
     "metadata": {},
     "output_type": "execute_result"
    }
   ],
   "source": [
    "loanDf.head()"
   ]
  },
  {
   "cell_type": "markdown",
   "id": "0f761a49",
   "metadata": {},
   "source": [
    "#### Now lets standardize the data to a format where it is easy to work with and perform calculation and derive metrics from it."
   ]
  },
  {
   "cell_type": "code",
   "execution_count": 58,
   "id": "6c73f777",
   "metadata": {},
   "outputs": [
    {
     "data": {
      "text/plain": [
       " 36 months    29049\n",
       " 60 months     9478\n",
       "Name: term, dtype: int64"
      ]
     },
     "execution_count": 58,
     "metadata": {},
     "output_type": "execute_result"
    }
   ],
   "source": [
    "loanDf.term.value_counts()"
   ]
  },
  {
   "cell_type": "markdown",
   "id": "be83889d",
   "metadata": {},
   "source": [
    "#### Lets standardice term to number of months"
   ]
  },
  {
   "cell_type": "code",
   "execution_count": 59,
   "id": "22112925",
   "metadata": {},
   "outputs": [
    {
     "data": {
      "text/plain": [
       "36    29049\n",
       "60     9478\n",
       "Name: term, dtype: int64"
      ]
     },
     "execution_count": 59,
     "metadata": {},
     "output_type": "execute_result"
    }
   ],
   "source": [
    "loanDf.term = loanDf.term.apply(lambda x : x.replace(' months','')).astype('int32')\n",
    "loanDf.term.value_counts()"
   ]
  },
  {
   "cell_type": "markdown",
   "id": "756f3c31",
   "metadata": {},
   "source": [
    "#### Lets remove % from int_rate"
   ]
  },
  {
   "cell_type": "code",
   "execution_count": 60,
   "id": "1ba8f0f9",
   "metadata": {},
   "outputs": [
    {
     "data": {
      "text/plain": [
       "10.99%    913\n",
       "11.49%    790\n",
       "7.51%     787\n",
       "13.49%    749\n",
       "7.88%     725\n",
       "         ... \n",
       "16.33%      1\n",
       "16.15%      1\n",
       "16.01%      1\n",
       "10.64%      1\n",
       "16.20%      1\n",
       "Name: int_rate, Length: 370, dtype: int64"
      ]
     },
     "execution_count": 60,
     "metadata": {},
     "output_type": "execute_result"
    }
   ],
   "source": [
    "loanDf.int_rate.value_counts()"
   ]
  },
  {
   "cell_type": "code",
   "execution_count": 61,
   "id": "11f73957",
   "metadata": {},
   "outputs": [],
   "source": [
    "loanDf.int_rate = loanDf.int_rate.apply(lambda x : str(x).replace('%','')).astype('float')"
   ]
  },
  {
   "cell_type": "code",
   "execution_count": 62,
   "id": "df92e7bf",
   "metadata": {},
   "outputs": [
    {
     "data": {
      "text/plain": [
       "10.99    913\n",
       "11.49    790\n",
       "7.51     787\n",
       "13.49    749\n",
       "7.88     725\n",
       "        ... \n",
       "16.33      1\n",
       "16.15      1\n",
       "16.01      1\n",
       "10.64      1\n",
       "16.20      1\n",
       "Name: int_rate, Length: 370, dtype: int64"
      ]
     },
     "execution_count": 62,
     "metadata": {},
     "output_type": "execute_result"
    }
   ],
   "source": [
    "loanDf.int_rate.value_counts()"
   ]
  },
  {
   "cell_type": "markdown",
   "id": "5886c11d",
   "metadata": {},
   "source": [
    "#### Lets remove % from revol_util"
   ]
  },
  {
   "cell_type": "code",
   "execution_count": 63,
   "id": "ca90aeef",
   "metadata": {
    "scrolled": true
   },
   "outputs": [
    {
     "data": {
      "text/plain": [
       "0.00     954\n",
       "0.20      62\n",
       "63.00     62\n",
       "40.70     57\n",
       "31.20     57\n",
       "        ... \n",
       "77.63      1\n",
       "25.74      1\n",
       "0.83       1\n",
       "47.36      1\n",
       "7.28       1\n",
       "Name: revol_util, Length: 1088, dtype: int64"
      ]
     },
     "execution_count": 63,
     "metadata": {},
     "output_type": "execute_result"
    }
   ],
   "source": [
    "loanDf.revol_util = loanDf.revol_util.apply(lambda x : x.split('%')[0]).astype('float')\n",
    "loanDf.revol_util.value_counts()"
   ]
  },
  {
   "cell_type": "markdown",
   "id": "cdf204a2",
   "metadata": {},
   "source": [
    "#### Lets convert emp_length range values into absolute numeric values"
   ]
  },
  {
   "cell_type": "code",
   "execution_count": 64,
   "id": "4fe740ac",
   "metadata": {},
   "outputs": [],
   "source": [
    "loanDf.emp_length = loanDf.emp_length.apply(lambda x: 0 if \"<\" in x else (x.split('+')[0] if \"+\" in x else x.split()[0])).astype('int32')"
   ]
  },
  {
   "cell_type": "code",
   "execution_count": 65,
   "id": "d545f898",
   "metadata": {},
   "outputs": [
    {
     "data": {
      "text/plain": [
       "10    9517\n",
       "0     4496\n",
       "2     4286\n",
       "3     4008\n",
       "4     3335\n",
       "5     3190\n",
       "1     3163\n",
       "6     2165\n",
       "7     1708\n",
       "8     1433\n",
       "9     1226\n",
       "Name: emp_length, dtype: int64"
      ]
     },
     "execution_count": 65,
     "metadata": {},
     "output_type": "execute_result"
    }
   ],
   "source": [
    "loanDf.emp_length.value_counts()"
   ]
  },
  {
   "cell_type": "code",
   "execution_count": 66,
   "id": "ca665876",
   "metadata": {},
   "outputs": [
    {
     "data": {
      "text/html": [
       "<div>\n",
       "<style scoped>\n",
       "    .dataframe tbody tr th:only-of-type {\n",
       "        vertical-align: middle;\n",
       "    }\n",
       "\n",
       "    .dataframe tbody tr th {\n",
       "        vertical-align: top;\n",
       "    }\n",
       "\n",
       "    .dataframe thead th {\n",
       "        text-align: right;\n",
       "    }\n",
       "</style>\n",
       "<table border=\"1\" class=\"dataframe\">\n",
       "  <thead>\n",
       "    <tr style=\"text-align: right;\">\n",
       "      <th></th>\n",
       "      <th>loan_amnt</th>\n",
       "      <th>funded_amnt_inv</th>\n",
       "      <th>term</th>\n",
       "      <th>int_rate</th>\n",
       "      <th>installment</th>\n",
       "      <th>grade</th>\n",
       "      <th>sub_grade</th>\n",
       "      <th>emp_length</th>\n",
       "      <th>home_ownership</th>\n",
       "      <th>annual_inc</th>\n",
       "      <th>...</th>\n",
       "      <th>loan_status</th>\n",
       "      <th>purpose</th>\n",
       "      <th>dti</th>\n",
       "      <th>earliest_cr_line</th>\n",
       "      <th>inq_last_6mths</th>\n",
       "      <th>open_acc</th>\n",
       "      <th>pub_rec</th>\n",
       "      <th>revol_util</th>\n",
       "      <th>total_acc</th>\n",
       "      <th>pub_rec_bankruptcies</th>\n",
       "    </tr>\n",
       "  </thead>\n",
       "  <tbody>\n",
       "    <tr>\n",
       "      <th>0</th>\n",
       "      <td>5000</td>\n",
       "      <td>4975.0</td>\n",
       "      <td>36</td>\n",
       "      <td>10.65</td>\n",
       "      <td>162.87</td>\n",
       "      <td>B</td>\n",
       "      <td>B2</td>\n",
       "      <td>10</td>\n",
       "      <td>RENT</td>\n",
       "      <td>24000.0</td>\n",
       "      <td>...</td>\n",
       "      <td>Fully Paid</td>\n",
       "      <td>credit_card</td>\n",
       "      <td>27.65</td>\n",
       "      <td>Jan-85</td>\n",
       "      <td>1</td>\n",
       "      <td>3</td>\n",
       "      <td>0</td>\n",
       "      <td>83.7</td>\n",
       "      <td>9</td>\n",
       "      <td>0.0</td>\n",
       "    </tr>\n",
       "    <tr>\n",
       "      <th>1</th>\n",
       "      <td>2500</td>\n",
       "      <td>2500.0</td>\n",
       "      <td>60</td>\n",
       "      <td>15.27</td>\n",
       "      <td>59.83</td>\n",
       "      <td>C</td>\n",
       "      <td>C4</td>\n",
       "      <td>0</td>\n",
       "      <td>RENT</td>\n",
       "      <td>30000.0</td>\n",
       "      <td>...</td>\n",
       "      <td>Charged Off</td>\n",
       "      <td>car</td>\n",
       "      <td>1.00</td>\n",
       "      <td>Apr-99</td>\n",
       "      <td>5</td>\n",
       "      <td>3</td>\n",
       "      <td>0</td>\n",
       "      <td>9.4</td>\n",
       "      <td>4</td>\n",
       "      <td>0.0</td>\n",
       "    </tr>\n",
       "    <tr>\n",
       "      <th>2</th>\n",
       "      <td>2400</td>\n",
       "      <td>2400.0</td>\n",
       "      <td>36</td>\n",
       "      <td>15.96</td>\n",
       "      <td>84.33</td>\n",
       "      <td>C</td>\n",
       "      <td>C5</td>\n",
       "      <td>10</td>\n",
       "      <td>RENT</td>\n",
       "      <td>12252.0</td>\n",
       "      <td>...</td>\n",
       "      <td>Fully Paid</td>\n",
       "      <td>small_business</td>\n",
       "      <td>8.72</td>\n",
       "      <td>Nov-01</td>\n",
       "      <td>2</td>\n",
       "      <td>2</td>\n",
       "      <td>0</td>\n",
       "      <td>98.5</td>\n",
       "      <td>10</td>\n",
       "      <td>0.0</td>\n",
       "    </tr>\n",
       "    <tr>\n",
       "      <th>3</th>\n",
       "      <td>10000</td>\n",
       "      <td>10000.0</td>\n",
       "      <td>36</td>\n",
       "      <td>13.49</td>\n",
       "      <td>339.31</td>\n",
       "      <td>C</td>\n",
       "      <td>C1</td>\n",
       "      <td>10</td>\n",
       "      <td>RENT</td>\n",
       "      <td>49200.0</td>\n",
       "      <td>...</td>\n",
       "      <td>Fully Paid</td>\n",
       "      <td>other</td>\n",
       "      <td>20.00</td>\n",
       "      <td>Feb-96</td>\n",
       "      <td>1</td>\n",
       "      <td>10</td>\n",
       "      <td>0</td>\n",
       "      <td>21.0</td>\n",
       "      <td>37</td>\n",
       "      <td>0.0</td>\n",
       "    </tr>\n",
       "    <tr>\n",
       "      <th>5</th>\n",
       "      <td>5000</td>\n",
       "      <td>5000.0</td>\n",
       "      <td>36</td>\n",
       "      <td>7.90</td>\n",
       "      <td>156.46</td>\n",
       "      <td>A</td>\n",
       "      <td>A4</td>\n",
       "      <td>3</td>\n",
       "      <td>RENT</td>\n",
       "      <td>36000.0</td>\n",
       "      <td>...</td>\n",
       "      <td>Fully Paid</td>\n",
       "      <td>wedding</td>\n",
       "      <td>11.20</td>\n",
       "      <td>Nov-04</td>\n",
       "      <td>3</td>\n",
       "      <td>9</td>\n",
       "      <td>0</td>\n",
       "      <td>28.3</td>\n",
       "      <td>12</td>\n",
       "      <td>0.0</td>\n",
       "    </tr>\n",
       "    <tr>\n",
       "      <th>6</th>\n",
       "      <td>7000</td>\n",
       "      <td>7000.0</td>\n",
       "      <td>60</td>\n",
       "      <td>15.96</td>\n",
       "      <td>170.08</td>\n",
       "      <td>C</td>\n",
       "      <td>C5</td>\n",
       "      <td>8</td>\n",
       "      <td>RENT</td>\n",
       "      <td>47004.0</td>\n",
       "      <td>...</td>\n",
       "      <td>Fully Paid</td>\n",
       "      <td>debt_consolidation</td>\n",
       "      <td>23.51</td>\n",
       "      <td>Jul-05</td>\n",
       "      <td>1</td>\n",
       "      <td>7</td>\n",
       "      <td>0</td>\n",
       "      <td>85.6</td>\n",
       "      <td>11</td>\n",
       "      <td>0.0</td>\n",
       "    </tr>\n",
       "    <tr>\n",
       "      <th>7</th>\n",
       "      <td>3000</td>\n",
       "      <td>3000.0</td>\n",
       "      <td>36</td>\n",
       "      <td>18.64</td>\n",
       "      <td>109.43</td>\n",
       "      <td>E</td>\n",
       "      <td>E1</td>\n",
       "      <td>9</td>\n",
       "      <td>RENT</td>\n",
       "      <td>48000.0</td>\n",
       "      <td>...</td>\n",
       "      <td>Fully Paid</td>\n",
       "      <td>car</td>\n",
       "      <td>5.35</td>\n",
       "      <td>Jan-07</td>\n",
       "      <td>2</td>\n",
       "      <td>4</td>\n",
       "      <td>0</td>\n",
       "      <td>87.5</td>\n",
       "      <td>4</td>\n",
       "      <td>0.0</td>\n",
       "    </tr>\n",
       "    <tr>\n",
       "      <th>8</th>\n",
       "      <td>5600</td>\n",
       "      <td>5600.0</td>\n",
       "      <td>60</td>\n",
       "      <td>21.28</td>\n",
       "      <td>152.39</td>\n",
       "      <td>F</td>\n",
       "      <td>F2</td>\n",
       "      <td>4</td>\n",
       "      <td>OWN</td>\n",
       "      <td>40000.0</td>\n",
       "      <td>...</td>\n",
       "      <td>Charged Off</td>\n",
       "      <td>small_business</td>\n",
       "      <td>5.55</td>\n",
       "      <td>Apr-04</td>\n",
       "      <td>2</td>\n",
       "      <td>11</td>\n",
       "      <td>0</td>\n",
       "      <td>32.6</td>\n",
       "      <td>13</td>\n",
       "      <td>0.0</td>\n",
       "    </tr>\n",
       "    <tr>\n",
       "      <th>9</th>\n",
       "      <td>5375</td>\n",
       "      <td>5350.0</td>\n",
       "      <td>60</td>\n",
       "      <td>12.69</td>\n",
       "      <td>121.45</td>\n",
       "      <td>B</td>\n",
       "      <td>B5</td>\n",
       "      <td>0</td>\n",
       "      <td>RENT</td>\n",
       "      <td>15000.0</td>\n",
       "      <td>...</td>\n",
       "      <td>Charged Off</td>\n",
       "      <td>other</td>\n",
       "      <td>18.08</td>\n",
       "      <td>Sep-04</td>\n",
       "      <td>0</td>\n",
       "      <td>2</td>\n",
       "      <td>0</td>\n",
       "      <td>36.5</td>\n",
       "      <td>3</td>\n",
       "      <td>0.0</td>\n",
       "    </tr>\n",
       "    <tr>\n",
       "      <th>10</th>\n",
       "      <td>6500</td>\n",
       "      <td>6500.0</td>\n",
       "      <td>60</td>\n",
       "      <td>14.65</td>\n",
       "      <td>153.45</td>\n",
       "      <td>C</td>\n",
       "      <td>C3</td>\n",
       "      <td>5</td>\n",
       "      <td>OWN</td>\n",
       "      <td>72000.0</td>\n",
       "      <td>...</td>\n",
       "      <td>Fully Paid</td>\n",
       "      <td>debt_consolidation</td>\n",
       "      <td>16.12</td>\n",
       "      <td>Jan-98</td>\n",
       "      <td>2</td>\n",
       "      <td>14</td>\n",
       "      <td>0</td>\n",
       "      <td>20.6</td>\n",
       "      <td>23</td>\n",
       "      <td>0.0</td>\n",
       "    </tr>\n",
       "  </tbody>\n",
       "</table>\n",
       "<p>10 rows × 22 columns</p>\n",
       "</div>"
      ],
      "text/plain": [
       "    loan_amnt  funded_amnt_inv  term  int_rate  installment grade sub_grade  \\\n",
       "0        5000           4975.0    36     10.65       162.87     B        B2   \n",
       "1        2500           2500.0    60     15.27        59.83     C        C4   \n",
       "2        2400           2400.0    36     15.96        84.33     C        C5   \n",
       "3       10000          10000.0    36     13.49       339.31     C        C1   \n",
       "5        5000           5000.0    36      7.90       156.46     A        A4   \n",
       "6        7000           7000.0    60     15.96       170.08     C        C5   \n",
       "7        3000           3000.0    36     18.64       109.43     E        E1   \n",
       "8        5600           5600.0    60     21.28       152.39     F        F2   \n",
       "9        5375           5350.0    60     12.69       121.45     B        B5   \n",
       "10       6500           6500.0    60     14.65       153.45     C        C3   \n",
       "\n",
       "    emp_length home_ownership  annual_inc  ...  loan_status  \\\n",
       "0           10           RENT     24000.0  ...   Fully Paid   \n",
       "1            0           RENT     30000.0  ...  Charged Off   \n",
       "2           10           RENT     12252.0  ...   Fully Paid   \n",
       "3           10           RENT     49200.0  ...   Fully Paid   \n",
       "5            3           RENT     36000.0  ...   Fully Paid   \n",
       "6            8           RENT     47004.0  ...   Fully Paid   \n",
       "7            9           RENT     48000.0  ...   Fully Paid   \n",
       "8            4            OWN     40000.0  ...  Charged Off   \n",
       "9            0           RENT     15000.0  ...  Charged Off   \n",
       "10           5            OWN     72000.0  ...   Fully Paid   \n",
       "\n",
       "               purpose    dti earliest_cr_line  inq_last_6mths open_acc  \\\n",
       "0          credit_card  27.65           Jan-85               1        3   \n",
       "1                  car   1.00           Apr-99               5        3   \n",
       "2       small_business   8.72           Nov-01               2        2   \n",
       "3                other  20.00           Feb-96               1       10   \n",
       "5              wedding  11.20           Nov-04               3        9   \n",
       "6   debt_consolidation  23.51           Jul-05               1        7   \n",
       "7                  car   5.35           Jan-07               2        4   \n",
       "8       small_business   5.55           Apr-04               2       11   \n",
       "9                other  18.08           Sep-04               0        2   \n",
       "10  debt_consolidation  16.12           Jan-98               2       14   \n",
       "\n",
       "    pub_rec  revol_util  total_acc  pub_rec_bankruptcies  \n",
       "0         0        83.7          9                   0.0  \n",
       "1         0         9.4          4                   0.0  \n",
       "2         0        98.5         10                   0.0  \n",
       "3         0        21.0         37                   0.0  \n",
       "5         0        28.3         12                   0.0  \n",
       "6         0        85.6         11                   0.0  \n",
       "7         0        87.5          4                   0.0  \n",
       "8         0        32.6         13                   0.0  \n",
       "9         0        36.5          3                   0.0  \n",
       "10        0        20.6         23                   0.0  \n",
       "\n",
       "[10 rows x 22 columns]"
      ]
     },
     "execution_count": 66,
     "metadata": {},
     "output_type": "execute_result"
    }
   ],
   "source": [
    "loanDf.head(10)"
   ]
  },
  {
   "cell_type": "markdown",
   "id": "b657d8c7",
   "metadata": {},
   "source": [
    "### Outliers Detection and Fixing"
   ]
  },
  {
   "cell_type": "markdown",
   "id": "e1746e8d",
   "metadata": {},
   "source": [
    "#### loan_amnt,funded_amnt_inv and annual_inc are the three columns that may have outliers data from analysing the range diff between data."
   ]
  },
  {
   "cell_type": "code",
   "execution_count": 67,
   "id": "67c57321",
   "metadata": {
    "scrolled": true
   },
   "outputs": [
    {
     "data": {
      "text/plain": [
       "<AxesSubplot:xlabel='loan_amnt'>"
      ]
     },
     "execution_count": 67,
     "metadata": {},
     "output_type": "execute_result"
    },
    {
     "data": {
      "image/png": "[encoded data removed]",
      "text/plain": [
       "<Figure size 640x480 with 1 Axes>"
      ]
     },
     "metadata": {},
     "output_type": "display_data"
    }
   ],
   "source": [
    "sns.boxplot(loanDf.loan_amnt)"
   ]
  },
  {
   "cell_type": "markdown",
   "id": "8fbc172a",
   "metadata": {},
   "source": [
    "### loan_amnt Looks Good"
   ]
  },
  {
   "cell_type": "code",
   "execution_count": 68,
   "id": "14eeb4b6",
   "metadata": {},
   "outputs": [
    {
     "data": {
      "text/plain": [
       "<AxesSubplot:xlabel='funded_amnt_inv'>"
      ]
     },
     "execution_count": 68,
     "metadata": {},
     "output_type": "execute_result"
    },
    {
     "data": {
      "image/png": "[encoded data removed]",
      "text/plain": [
       "<Figure size 640x480 with 1 Axes>"
      ]
     },
     "metadata": {},
     "output_type": "display_data"
    }
   ],
   "source": [
    "sns.boxplot(loanDf.funded_amnt_inv)"
   ]
  },
  {
   "cell_type": "markdown",
   "id": "0ed836d9",
   "metadata": {},
   "source": [
    "#### funded_amnt_inv Lo0ks Good "
   ]
  },
  {
   "cell_type": "code",
   "execution_count": 69,
   "id": "11c80c4a",
   "metadata": {},
   "outputs": [
    {
     "data": {
      "text/plain": [
       "<AxesSubplot:xlabel='annual_inc'>"
      ]
     },
     "execution_count": 69,
     "metadata": {},
     "output_type": "execute_result"
    },
    {
     "data": {
      "image/png": "[encoded data removed]",
      "text/plain": [
       "<Figure size 640x480 with 1 Axes>"
      ]
     },
     "metadata": {},
     "output_type": "display_data"
    }
   ],
   "source": [
    "sns.boxplot(loanDf['annual_inc'])\n"
   ]
  },
  {
   "cell_type": "markdown",
   "id": "cde448c8",
   "metadata": {},
   "source": [
    "#### Looks like so much outliers are there in annual_inc , Look at how compressed the graph looks and how way off the max values are far away from median\n",
    " "
   ]
  },
  {
   "cell_type": "code",
   "execution_count": 70,
   "id": "66461054",
   "metadata": {},
   "outputs": [
    {
     "data": {
      "text/plain": [
       "0.25     40000.0\n",
       "0.50     59000.0\n",
       "0.75     82000.0\n",
       "0.90    115000.0\n",
       "0.95    140004.0\n",
       "0.97    165000.0\n",
       "0.98    187000.0\n",
       "0.99    234000.0\n",
       "Name: annual_inc, dtype: float64"
      ]
     },
     "execution_count": 70,
     "metadata": {},
     "output_type": "execute_result"
    }
   ],
   "source": [
    "loanDf.annual_inc.quantile([0.25,0.5, 0.75,0.90, 0.95, 0.97,0.98, 0.99])"
   ]
  },
  {
   "cell_type": "markdown",
   "id": "07d7e812",
   "metadata": {},
   "source": [
    "#### Everything above the 95th quantile looks like outliers lets see removing them"
   ]
  },
  {
   "cell_type": "code",
   "execution_count": 71,
   "id": "07f701ba",
   "metadata": {},
   "outputs": [],
   "source": [
    "quant95 = loanDf['annual_inc'].quantile(0.95)\n",
    "loanDf = loanDf[loanDf.annual_inc <= quant95]"
   ]
  },
  {
   "cell_type": "code",
   "execution_count": 72,
   "id": "19aa422f",
   "metadata": {},
   "outputs": [
    {
     "data": {
      "text/plain": [
       "<AxesSubplot:xlabel='annual_inc'>"
      ]
     },
     "execution_count": 72,
     "metadata": {},
     "output_type": "execute_result"
    },
    {
     "data": {
      "image/png": "[encoded data removed]",
      "text/plain": [
       "<Figure size 640x480 with 1 Axes>"
      ]
     },
     "metadata": {},
     "output_type": "display_data"
    }
   ],
   "source": [
    "sns.boxplot(loanDf.annual_inc)"
   ]
  },
  {
   "cell_type": "markdown",
   "id": "bcd08108",
   "metadata": {},
   "source": [
    "#### Yes now looks much better with clearly defined 25,50,75 and only few values with high range from the medien"
   ]
  },
  {
   "cell_type": "code",
   "execution_count": 73,
   "id": "f899c1b7",
   "metadata": {},
   "outputs": [
    {
     "data": {
      "text/plain": [
       "<AxesSubplot:xlabel='dti'>"
      ]
     },
     "execution_count": 73,
     "metadata": {},
     "output_type": "execute_result"
    },
    {
     "data": {
      "image/png": "[encoded data removed]",
      "text/plain": [
       "<Figure size 640x480 with 1 Axes>"
      ]
     },
     "metadata": {},
     "output_type": "display_data"
    }
   ],
   "source": [
    "sns.boxplot(loanDf.dti)"
   ]
  },
  {
   "cell_type": "markdown",
   "id": "6d24d99f",
   "metadata": {},
   "source": [
    "#### Ok Looks like the columns with high range of data now looks good after outliers cleanup."
   ]
  },
  {
   "cell_type": "markdown",
   "id": "1baddab7",
   "metadata": {},
   "source": [
    "# 3. Data Analysis\n",
    "### 3.1 Univariate Analysis"
   ]
  },
  {
   "cell_type": "markdown",
   "id": "4b0e3791",
   "metadata": {},
   "source": [
    "#### Lets see whats the distribution of loans status"
   ]
  },
  {
   "cell_type": "code",
   "execution_count": 74,
   "id": "9bf9e4db",
   "metadata": {},
   "outputs": [
    {
     "data": {
      "image/png": "[encoded data removed]",
      "text/plain": [
       "<Figure size 400x400 with 1 Axes>"
      ]
     },
     "metadata": {},
     "output_type": "display_data"
    }
   ],
   "source": [
    "plt.figure(figsize=(4,4))\n",
    "ls = sns.countplot(x='loan_status',data = loanDf)\n",
    "ls.set(xlabel='Loan Status',ylabel='Loan Count')\n",
    "plt.show()"
   ]
  },
  {
   "cell_type": "markdown",
   "id": "fd7f1a07",
   "metadata": {},
   "source": [
    "#### We are only going to be looking at charged off as we are more concerned about detecting possible default so lets separate the data frames for ease of analysis"
   ]
  },
  {
   "cell_type": "code",
   "execution_count": 75,
   "id": "9197cbb9",
   "metadata": {},
   "outputs": [],
   "source": [
    "loanChargedOffDf = loanDf.loc[loanDf['loan_status']=='Charged Off']\n",
    "loanFullyPaidDf = loanDf.loc[loanDf['loan_status']=='Fully Paid']"
   ]
  },
  {
   "cell_type": "code",
   "execution_count": 76,
   "id": "7748cd63",
   "metadata": {},
   "outputs": [
    {
     "name": "stdout",
     "output_type": "stream",
     "text": [
      "<class 'pandas.core.frame.DataFrame'>\n",
      "Int64Index: 5402 entries, 1 to 39678\n",
      "Data columns (total 22 columns):\n",
      " #   Column                Non-Null Count  Dtype  \n",
      "---  ------                --------------  -----  \n",
      " 0   loan_amnt             5402 non-null   int64  \n",
      " 1   funded_amnt_inv       5402 non-null   float64\n",
      " 2   term                  5402 non-null   int32  \n",
      " 3   int_rate              5402 non-null   float64\n",
      " 4   installment           5402 non-null   float64\n",
      " 5   grade                 5402 non-null   object \n",
      " 6   sub_grade             5402 non-null   object \n",
      " 7   emp_length            5402 non-null   int32  \n",
      " 8   home_ownership        5402 non-null   object \n",
      " 9   annual_inc            5402 non-null   float64\n",
      " 10  verification_status   5402 non-null   object \n",
      " 11  issue_d               5402 non-null   object \n",
      " 12  loan_status           5402 non-null   object \n",
      " 13  purpose               5402 non-null   object \n",
      " 14  dti                   5402 non-null   float64\n",
      " 15  earliest_cr_line      5402 non-null   object \n",
      " 16  inq_last_6mths        5402 non-null   int64  \n",
      " 17  open_acc              5402 non-null   int64  \n",
      " 18  pub_rec               5402 non-null   int64  \n",
      " 19  revol_util            5402 non-null   float64\n",
      " 20  total_acc             5402 non-null   int64  \n",
      " 21  pub_rec_bankruptcies  5402 non-null   float64\n",
      "dtypes: float64(7), int32(2), int64(5), object(8)\n",
      "memory usage: 928.5+ KB\n"
     ]
    }
   ],
   "source": [
    "loanChargedOffDf.info()"
   ]
  },
  {
   "cell_type": "code",
   "execution_count": 77,
   "id": "d5dcb740",
   "metadata": {},
   "outputs": [
    {
     "data": {
      "image/png": "[encoded data removed]",
      "text/plain": [
       "<Figure size 400x400 with 1 Axes>"
      ]
     },
     "metadata": {},
     "output_type": "display_data"
    }
   ],
   "source": [
    "plt.figure(figsize=(4,4))\n",
    "tc = sns.countplot(x='term',data = loanChargedOffDf)\n",
    "tc.set(xlabel='Loan Term In Months',ylabel='Charged Off Loan Count')\n",
    "plt.show()"
   ]
  },
  {
   "cell_type": "markdown",
   "id": "114089b0",
   "metadata": {},
   "source": [
    "#### Observation 1 - The Lesser The Term The Greater than chance for default"
   ]
  },
  {
   "cell_type": "code",
   "execution_count": 78,
   "id": "f4a1bbf4",
   "metadata": {},
   "outputs": [],
   "source": [
    "interestRateBins = pd.IntervalIndex.from_tuples([(0, 5), (5, 10), (10, 15), (15, 20), (20, 25), (25, 30)])\n",
    "loanChargedOffDf['interestRateBins'] = pd.cut(loanChargedOffDf['int_rate'], interestRateBins,precision =0,labels=['0%-5%','5%-10%','10%-15%','15%-20%','20%-25%','25%-30%'])"
   ]
  },
  {
   "cell_type": "code",
   "execution_count": 79,
   "id": "fb92e795",
   "metadata": {},
   "outputs": [
    {
     "data": {
      "text/plain": [
       "(10, 15]    2627\n",
       "(15, 20]    1697\n",
       "(5, 10]      812\n",
       "(20, 25]     266\n",
       "(0, 5]         0\n",
       "(25, 30]       0\n",
       "Name: interestRateBins, dtype: int64"
      ]
     },
     "execution_count": 79,
     "metadata": {},
     "output_type": "execute_result"
    }
   ],
   "source": [
    "loanChargedOffDf.interestRateBins.value_counts()"
   ]
  },
  {
   "cell_type": "code",
   "execution_count": 80,
   "id": "a19c1f04",
   "metadata": {},
   "outputs": [
    {
     "data": {
      "image/png": "[encoded data removed]",
      "text/plain": [
       "<Figure size 400x400 with 1 Axes>"
      ]
     },
     "metadata": {},
     "output_type": "display_data"
    }
   ],
   "source": [
    "plt.figure(figsize=(4,4))\n",
    "tc = sns.countplot(x='interestRateBins',data = loanChargedOffDf)\n",
    "tc.set(xlabel='Interest Rate',ylabel='Loan Count')\n",
    "plt.show()"
   ]
  },
  {
   "cell_type": "markdown",
   "id": "faca4de7",
   "metadata": {},
   "source": [
    "#### Observation 2 - Interest rate of 10% and above is when the default rates increase"
   ]
  },
  {
   "cell_type": "code",
   "execution_count": 81,
   "id": "39337831",
   "metadata": {},
   "outputs": [
    {
     "data": {
      "image/png": "[encoded data removed]",
      "text/plain": [
       "<Figure size 400x400 with 1 Axes>"
      ]
     },
     "metadata": {},
     "output_type": "display_data"
    }
   ],
   "source": [
    "plt.figure(figsize=(4,4))\n",
    "tc = sns.countplot(x='emp_length',data = loanChargedOffDf)\n",
    "tc.set(xlabel='Employee Work Experience In Years',ylabel='Loan Count')\n",
    "plt.show()"
   ]
  },
  {
   "cell_type": "markdown",
   "id": "bc4caf47",
   "metadata": {},
   "source": [
    "#### Observation 3 - Employees whos experience is 10 years are the one's with greater chance of default."
   ]
  },
  {
   "cell_type": "code",
   "execution_count": 82,
   "id": "5be1ad4d",
   "metadata": {},
   "outputs": [
    {
     "data": {
      "image/png": "[encoded data removed]",
      "text/plain": [
       "<Figure size 400x400 with 1 Axes>"
      ]
     },
     "metadata": {},
     "output_type": "display_data"
    }
   ],
   "source": [
    "plt.figure(figsize=(4,4))\n",
    "ho = sns.countplot(loanChargedOffDf['home_ownership'])\n",
    "ho.set(xlabel='Home Ownership Type', ylabel='Charged Off Loan Count')\n",
    "plt.show()"
   ]
  },
  {
   "cell_type": "markdown",
   "id": "aaffd0e5",
   "metadata": {},
   "source": [
    "#### Observation 4 - People who are staying in a rental home has the highest chance to default"
   ]
  },
  {
   "cell_type": "code",
   "execution_count": 83,
   "id": "02b221c8",
   "metadata": {},
   "outputs": [
    {
     "data": {
      "image/png": "[encoded data removed]",
      "text/plain": [
       "<Figure size 800x800 with 1 Axes>"
      ]
     },
     "metadata": {},
     "output_type": "display_data"
    }
   ],
   "source": [
    "unNeeded,lt = plt.subplots(figsize = (8,8))\n",
    "lt.set(yscale = 'log')\n",
    "ltPlot = sns.countplot(y ='purpose', data=loanChargedOffDf)\n",
    "ltPlot.set(xlabel='Charged Off Loan Count', ylabel='Loan Purpose')\n",
    "plt.show()"
   ]
  },
  {
   "cell_type": "markdown",
   "id": "ca45c742",
   "metadata": {},
   "source": [
    "#### Observation 5 - People who are trying to rechange or restructure the already existing loan are the number one defaulters"
   ]
  },
  {
   "cell_type": "code",
   "execution_count": 84,
   "id": "474f8a9e",
   "metadata": {},
   "outputs": [
    {
     "data": {
      "text/plain": [
       "count      5402.000000\n",
       "mean      56512.293615\n",
       "std       26574.695198\n",
       "min        4080.000000\n",
       "25%       36400.000000\n",
       "50%       51996.000000\n",
       "75%       71810.000000\n",
       "max      140004.000000\n",
       "Name: annual_inc, dtype: float64"
      ]
     },
     "execution_count": 84,
     "metadata": {},
     "output_type": "execute_result"
    }
   ],
   "source": [
    "loanChargedOffDf['annual_inc'].describe()"
   ]
  },
  {
   "cell_type": "code",
   "execution_count": 85,
   "id": "cc98bb9d",
   "metadata": {},
   "outputs": [],
   "source": [
    "annualIncomeBins = pd.IntervalIndex.from_tuples([(0, 25000), (25000, 50000), (50000, 75000), (75000, 100000), (100000, 125000), (125000, 150000)])\n",
    "loanChargedOffDf['annualIncomeBins'] = pd.cut(loanChargedOffDf['annual_inc'], annualIncomeBins,precision =0,labels=['0k-25k','25k-50k','50k-75k','75k-1L','1L-1.25L','1.25L-1.5L'])"
   ]
  },
  {
   "cell_type": "code",
   "execution_count": 86,
   "id": "19df8107",
   "metadata": {},
   "outputs": [
    {
     "data": {
      "text/plain": [
       "(25000, 50000]      2117\n",
       "(50000, 75000]      1685\n",
       "(75000, 100000]      736\n",
       "(0, 25000]           481\n",
       "(100000, 125000]     293\n",
       "(125000, 150000]      90\n",
       "Name: annualIncomeBins, dtype: int64"
      ]
     },
     "execution_count": 86,
     "metadata": {},
     "output_type": "execute_result"
    }
   ],
   "source": [
    "loanChargedOffDf.annualIncomeBins.value_counts()"
   ]
  },
  {
   "cell_type": "code",
   "execution_count": 87,
   "id": "0535906e",
   "metadata": {},
   "outputs": [
    {
     "data": {
      "image/png": "[encoded data removed]",
      "text/plain": [
       "<Figure size 400x400 with 1 Axes>"
      ]
     },
     "metadata": {},
     "output_type": "display_data"
    }
   ],
   "source": [
    "plt.figure(figsize=(4,4))\n",
    "ai = sns.countplot(y='annualIncomeBins',data = loanChargedOffDf)\n",
    "ai.set(xlabel='Loan Count',ylabel='Annual Income Bins k-Thousand : L-Lakh')\n",
    "plt.show()"
   ]
  },
  {
   "cell_type": "markdown",
   "id": "7f1f50ee",
   "metadata": {},
   "source": [
    "#### Observation 6 - People who are earning between 25k-50k are the top defaulters followed by 50k-75k"
   ]
  },
  {
   "cell_type": "code",
   "execution_count": 88,
   "id": "a99a50c4",
   "metadata": {},
   "outputs": [
    {
     "data": {
      "text/plain": [
       "Not Verified       2089\n",
       "Verified           1943\n",
       "Source Verified    1370\n",
       "Name: verification_status, dtype: int64"
      ]
     },
     "execution_count": 88,
     "metadata": {},
     "output_type": "execute_result"
    }
   ],
   "source": [
    "loanChargedOffDf['verification_status'].value_counts()"
   ]
  },
  {
   "cell_type": "code",
   "execution_count": 89,
   "id": "4128e52d",
   "metadata": {},
   "outputs": [
    {
     "data": {
      "image/png": "[encoded data removed]",
      "text/plain": [
       "<Figure size 400x400 with 1 Axes>"
      ]
     },
     "metadata": {},
     "output_type": "display_data"
    }
   ],
   "source": [
    "plt.figure(figsize=(4,4))\n",
    "vs = sns.countplot(x='verification_status',data = loanChargedOffDf)\n",
    "vs.set(xlabel='Salary Verification Status',ylabel='Charged Off Loan Count')\n",
    "plt.show()"
   ]
  },
  {
   "cell_type": "markdown",
   "id": "9405b42e",
   "metadata": {},
   "source": [
    "#### Not much difference in Verification Status"
   ]
  },
  {
   "cell_type": "code",
   "execution_count": 90,
   "id": "1c629346",
   "metadata": {},
   "outputs": [
    {
     "data": {
      "image/png": "[encoded data removed]",
      "text/plain": [
       "<Figure size 400x400 with 1 Axes>"
      ]
     },
     "metadata": {},
     "output_type": "display_data"
    }
   ],
   "source": [
    "plt.figure(figsize=(4,4))\n",
    "inq = sns.countplot(x='inq_last_6mths',data = loanChargedOffDf)\n",
    "inq.set(xlabel='Number of loan enquiries in last 6 months',ylabel='Charged Off Loan Count')\n",
    "plt.show()"
   ]
  },
  {
   "cell_type": "markdown",
   "id": "37acc775",
   "metadata": {},
   "source": [
    "#### Observation 7 - The people with less number of enquiries are the ones with highest percentage chances for default. This is one of the most important metric . This could happen if Club is giving away risky loans to meet some target and the club employees who are tasked with verifying the applicants data are simply tagging them as verified on the first few requests"
   ]
  },
  {
   "cell_type": "code",
   "execution_count": 91,
   "id": "01933efc",
   "metadata": {},
   "outputs": [
    {
     "name": "stdout",
     "output_type": "stream",
     "text": [
      "<class 'pandas.core.frame.DataFrame'>\n",
      "Int64Index: 5402 entries, 1 to 39678\n",
      "Data columns (total 24 columns):\n",
      " #   Column                Non-Null Count  Dtype   \n",
      "---  ------                --------------  -----   \n",
      " 0   loan_amnt             5402 non-null   int64   \n",
      " 1   funded_amnt_inv       5402 non-null   float64 \n",
      " 2   term                  5402 non-null   int32   \n",
      " 3   int_rate              5402 non-null   float64 \n",
      " 4   installment           5402 non-null   float64 \n",
      " 5   grade                 5402 non-null   object  \n",
      " 6   sub_grade             5402 non-null   object  \n",
      " 7   emp_length            5402 non-null   int32   \n",
      " 8   home_ownership        5402 non-null   object  \n",
      " 9   annual_inc            5402 non-null   float64 \n",
      " 10  verification_status   5402 non-null   object  \n",
      " 11  issue_d               5402 non-null   object  \n",
      " 12  loan_status           5402 non-null   object  \n",
      " 13  purpose               5402 non-null   object  \n",
      " 14  dti                   5402 non-null   float64 \n",
      " 15  earliest_cr_line      5402 non-null   object  \n",
      " 16  inq_last_6mths        5402 non-null   int64   \n",
      " 17  open_acc              5402 non-null   int64   \n",
      " 18  pub_rec               5402 non-null   int64   \n",
      " 19  revol_util            5402 non-null   float64 \n",
      " 20  total_acc             5402 non-null   int64   \n",
      " 21  pub_rec_bankruptcies  5402 non-null   float64 \n",
      " 22  interestRateBins      5402 non-null   category\n",
      " 23  annualIncomeBins      5402 non-null   category\n",
      "dtypes: category(2), float64(7), int32(2), int64(5), object(8)\n",
      "memory usage: 939.5+ KB\n"
     ]
    }
   ],
   "source": [
    "loanChargedOffDf.info()"
   ]
  },
  {
   "cell_type": "code",
   "execution_count": 92,
   "id": "7b9dacb8",
   "metadata": {},
   "outputs": [
    {
     "data": {
      "image/png": "[encoded data removed]",
      "text/plain": [
       "<Figure size 400x400 with 1 Axes>"
      ]
     },
     "metadata": {},
     "output_type": "display_data"
    }
   ],
   "source": [
    "plt.figure(figsize=(4,4))\n",
    "pr = sns.countplot(x='pub_rec',data = loanChargedOffDf)\n",
    "pr.set(xlabel='Number of derogatory public records',ylabel='Charged Off Loan Count')\n",
    "plt.show()"
   ]
  },
  {
   "cell_type": "code",
   "execution_count": 93,
   "id": "4bb2fb1f",
   "metadata": {
    "scrolled": true
   },
   "outputs": [
    {
     "data": {
      "image/png": "[encoded data removed]",
      "text/plain": [
       "<Figure size 400x400 with 1 Axes>"
      ]
     },
     "metadata": {},
     "output_type": "display_data"
    }
   ],
   "source": [
    "plt.figure(figsize=(4,4))\n",
    "prb = sns.countplot(x='pub_rec_bankruptcies',data = loanChargedOffDf)\n",
    "prb.set(xlabel='Number of public record bankruptcies',ylabel='Charged Off Loan Count')\n",
    "plt.show()"
   ]
  },
  {
   "cell_type": "code",
   "execution_count": 94,
   "id": "99007e53",
   "metadata": {
    "scrolled": true
   },
   "outputs": [
    {
     "data": {
      "text/plain": [
       "count     5402.000000\n",
       "mean     11831.307849\n",
       "std       7885.005738\n",
       "min        900.000000\n",
       "25%       5500.000000\n",
       "50%      10000.000000\n",
       "75%      16000.000000\n",
       "max      35000.000000\n",
       "Name: loan_amnt, dtype: float64"
      ]
     },
     "execution_count": 94,
     "metadata": {},
     "output_type": "execute_result"
    }
   ],
   "source": [
    "loanChargedOffDf.loan_amnt.describe()"
   ]
  },
  {
   "cell_type": "code",
   "execution_count": 95,
   "id": "a4b2baa0",
   "metadata": {},
   "outputs": [],
   "source": [
    "loanAmntBins = pd.IntervalIndex.from_tuples([(0, 5000), (5000, 10000), (10000, 15000), (15000, 20000), (20000, 25000), (25000, 30000), (30000, 35000)])\n",
    "loanChargedOffDf['loanAmntBins'] = pd.cut(loanChargedOffDf['loan_amnt'], loanAmntBins,precision =0,labels=['0k-5k','5k-10k','10k-15k','15k-20k','20k-25k','25k-30k','30k-35k'])"
   ]
  },
  {
   "cell_type": "code",
   "execution_count": 96,
   "id": "b6f6be80",
   "metadata": {},
   "outputs": [
    {
     "data": {
      "text/plain": [
       "(5000, 10000]     1601\n",
       "(0, 5000]         1290\n",
       "(10000, 15000]    1027\n",
       "(15000, 20000]     722\n",
       "(20000, 25000]     485\n",
       "(30000, 35000]     154\n",
       "(25000, 30000]     123\n",
       "Name: loanAmntBins, dtype: int64"
      ]
     },
     "execution_count": 96,
     "metadata": {},
     "output_type": "execute_result"
    }
   ],
   "source": [
    "loanChargedOffDf.loanAmntBins.value_counts()"
   ]
  },
  {
   "cell_type": "code",
   "execution_count": 97,
   "id": "421bb5c1",
   "metadata": {},
   "outputs": [
    {
     "data": {
      "image/png": "[encoded data removed]",
      "text/plain": [
       "<Figure size 400x400 with 1 Axes>"
      ]
     },
     "metadata": {},
     "output_type": "display_data"
    }
   ],
   "source": [
    "plt.figure(figsize=(4,4))\n",
    "lab = sns.countplot(y='loanAmntBins',data = loanChargedOffDf)\n",
    "lab.set(ylabel='Loan Amount',xlabel='Charged Off Loan Count')\n",
    "plt.show()"
   ]
  },
  {
   "cell_type": "markdown",
   "id": "608264fb",
   "metadata": {},
   "source": [
    "#### Observation 8 - The Loan range of 5k-10k as the most defaulted onces"
   ]
  },
  {
   "cell_type": "code",
   "execution_count": 98,
   "id": "e1a64e93",
   "metadata": {},
   "outputs": [],
   "source": [
    "loanChargedOffDf_month_year = loanChargedOffDf['issue_d'].str.partition(\"-\", True)     \n",
    "loanChargedOffDf['loanIssueMonth']=loanChargedOffDf_month_year[0]                       \n",
    "loanChargedOffDf['loanIssueYear']='20' + loanChargedOffDf_month_year[2]"
   ]
  },
  {
   "cell_type": "code",
   "execution_count": 99,
   "id": "f3a3863f",
   "metadata": {},
   "outputs": [
    {
     "data": {
      "image/png": "[encoded data removed]",
      "text/plain": [
       "<Figure size 400x400 with 1 Axes>"
      ]
     },
     "metadata": {},
     "output_type": "display_data"
    }
   ],
   "source": [
    "plt.figure(figsize=(4,4))\n",
    "lim = sns.countplot(y='loanIssueMonth',data = loanChargedOffDf)\n",
    "lim.set(ylabel='Loan Issued Month',xlabel='Charged Off Loan Count')\n",
    "plt.show()"
   ]
  },
  {
   "cell_type": "code",
   "execution_count": 100,
   "id": "49afc95d",
   "metadata": {},
   "outputs": [
    {
     "data": {
      "image/png": "[encoded data removed]",
      "text/plain": [
       "<Figure size 400x400 with 1 Axes>"
      ]
     },
     "metadata": {},
     "output_type": "display_data"
    }
   ],
   "source": [
    "plt.figure(figsize=(4,4))\n",
    "lim = sns.countplot(y='loanIssueYear',data = loanChargedOffDf)\n",
    "lim.set(ylabel='Loan Issued Year',xlabel='Charged Off Loan Count')\n",
    "plt.show()"
   ]
  },
  {
   "cell_type": "markdown",
   "id": "e915d3bc",
   "metadata": {},
   "source": [
    "#### Observation 9 - Dec month and 2011 year where the maximum number of defaults have been made. We need to corelate this info with job layoff and economic downturn data to get more insights "
   ]
  },
  {
   "cell_type": "code",
   "execution_count": 101,
   "id": "55947cfe",
   "metadata": {},
   "outputs": [
    {
     "data": {
      "image/png": "[encoded data removed]",
      "text/plain": [
       "<Figure size 400x400 with 1 Axes>"
      ]
     },
     "metadata": {},
     "output_type": "display_data"
    }
   ],
   "source": [
    "plt.figure(figsize=(4,4))\n",
    "lim = sns.countplot(y='grade',data = loanChargedOffDf)\n",
    "lim.set(ylabel='Loan Grade',xlabel='Charged Off Loan Count')\n",
    "plt.show()"
   ]
  },
  {
   "cell_type": "code",
   "execution_count": 102,
   "id": "d03f4159",
   "metadata": {},
   "outputs": [
    {
     "data": {
      "image/png": "[encoded data removed]",
      "text/plain": [
       "<Figure size 600x700 with 1 Axes>"
      ]
     },
     "metadata": {},
     "output_type": "display_data"
    }
   ],
   "source": [
    "plt.figure(figsize=(6,7))\n",
    "lim = sns.countplot(y='sub_grade',data = loanChargedOffDf)\n",
    "lim.set(ylabel='Loan Sub Grade',xlabel='Charged Off Loan Count')\n",
    "plt.show()"
   ]
  },
  {
   "cell_type": "markdown",
   "id": "de7be511",
   "metadata": {},
   "source": [
    "#### Observation 10 - B grade and B5 Sub grade loans have the hightest number of defaults"
   ]
  },
  {
   "cell_type": "markdown",
   "id": "ed1c5c51",
   "metadata": {},
   "source": [
    "### Observations From Univariate Analysis\n"
   ]
  },
  {
   "cell_type": "markdown",
   "id": "2da184e5",
   "metadata": {},
   "source": [
    "#### 1 - The Lesser The Term The Greater than chance for default\n",
    "#### 2 - Interest rate of 10% and above is when the default rates increase\n",
    "#### 3 - Employees whos experience is 10 years are the one's with greater chance of default.\n",
    "#### 4 - People who are staying in a rental home has the highest chance to default\n",
    "#### 5 - People who are trying to rechange or restructure the already existing loan are the number one defaulters\n",
    "#### 6 - People who are earning between 25k-50k are the top defaulters followed by 50k-75k\n",
    "#### 7 - The people with less number of enquiries are the ones with highest percentage chances for default. This is one of the most important metric . This could happen if Club is giving away risky loans to meet some target and the club employees who are tasked with verifying the applicants data are simply tagging them as verified on the first few requests\n",
    "#### 8 - The Loan range of 5k-10k as the most defaulted onces\n",
    "#### 9 - Dec month and 2011 year where the maximum number of defaults have been made. We need to corelate this info with job layoff and economic downturn data to get more insights\n",
    "#### 10 - B grade and B5 Sub grade loans have the hightest number of defaults"
   ]
  },
  {
   "cell_type": "markdown",
   "id": "f8f4f1ba",
   "metadata": {},
   "source": [
    "### 3.2 Biivariate Analysis"
   ]
  },
  {
   "cell_type": "markdown",
   "id": "1f04c9d6",
   "metadata": {},
   "source": [
    "#### Loan amount vs Interest Rate"
   ]
  },
  {
   "cell_type": "code",
   "execution_count": 108,
   "id": "dc3d1f45",
   "metadata": {},
   "outputs": [
    {
     "data": {
      "image/png": "[encoded data removed]",
      "text/plain": [
       "<Figure size 600x600 with 1 Axes>"
      ]
     },
     "metadata": {},
     "output_type": "display_data"
    }
   ],
   "source": [
    "plt.figure(figsize=(6,6))\n",
    "laIr = sns.barplot(data =loanChargedOffDf,y='loanAmntBins', x='int_rate')\n",
    "laIr.set(xlabel = 'Loan Amount Range',ylabel='Interest Rate')\n",
    "plt.show()"
   ]
  },
  {
   "cell_type": "markdown",
   "id": "c14d904a",
   "metadata": {},
   "source": [
    "#### Observation 11 - Higher Loan Amount rate means Higher Interest Rate"
   ]
  },
  {
   "cell_type": "code",
   "execution_count": 111,
   "id": "5974e862",
   "metadata": {},
   "outputs": [
    {
     "data": {
      "image/png": "[encoded data removed]",
      "text/plain": [
       "<Figure size 600x600 with 1 Axes>"
      ]
     },
     "metadata": {},
     "output_type": "display_data"
    }
   ],
   "source": [
    "plt.figure(figsize=(6,6))\n",
    "laEe = sns.barplot(data =loanChargedOffDf,y='loanAmntBins', x='emp_length')\n",
    "laEe.set(xlabel = 'Loan Amount Range',ylabel='Employee Experience')\n",
    "plt.show()"
   ]
  },
  {
   "cell_type": "markdown",
   "id": "e70332c0",
   "metadata": {},
   "source": [
    "#### Observation 12 - Higher Loan Amount was given to employees wih higher experience "
   ]
  },
  {
   "cell_type": "code",
   "execution_count": 118,
   "id": "d9fa471a",
   "metadata": {},
   "outputs": [
    {
     "data": {
      "image/png": "[encoded data removed]",
      "text/plain": [
       "<Figure size 600x600 with 1 Axes>"
      ]
     },
     "metadata": {},
     "output_type": "display_data"
    }
   ],
   "source": [
    "plt.figure(figsize=(6,6))\n",
    "aiP = sns.barplot(data =loanChargedOffDf,x='annual_inc', y='purpose')\n",
    "aiP.set(ylabel = 'Loan Purpose',xlabel='Annual Income')\n",
    "plt.show()"
   ]
  },
  {
   "cell_type": "markdown",
   "id": "c7f4102e",
   "metadata": {},
   "source": [
    "### Observations From Bivariate Analysis"
   ]
  },
  {
   "cell_type": "markdown",
   "id": "102d9208",
   "metadata": {},
   "source": [
    "#### 11 - Higher Loan Amount rate means Higher Interest Rate\n",
    "#### 12 - Higher Loan Amount was given to employees wih higher experience"
   ]
  },
  {
   "cell_type": "code",
   "execution_count": null,
   "id": "3391ac2f",
   "metadata": {},
   "outputs": [],
   "source": []
  }
 ],
 "metadata": {
  "kernelspec": {
   "display_name": "Python 3 (ipykernel)",
   "language": "python",
   "name": "python3"
  },
  "language_info": {
   "codemirror_mode": {
    "name": "ipython",
    "version": 3
   },
   "file_extension": ".py",
   "mimetype": "text/x-python",
   "name": "python",
   "nbconvert_exporter": "python",
   "pygments_lexer": "ipython3",
   "version": "3.9.13"
  }
 },
 "nbformat": 4,
 "nbformat_minor": 5
}
